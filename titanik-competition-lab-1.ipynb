{
 "cells": [
  {
   "cell_type": "markdown",
   "id": "a05eb60a",
   "metadata": {
    "papermill": {
     "duration": 0.040894,
     "end_time": "2021-12-01T00:26:53.066342",
     "exception": false,
     "start_time": "2021-12-01T00:26:53.025448",
     "status": "completed"
    },
    "tags": []
   },
   "source": [
    "В данной задаче необходимо определить по кореллирующим признакам пассажира значение целевого признака выжил он или нет. Для этого необходимо построить модель классификации. Обучение модели для нахождения решающей функции производится на основе данных обучающей выборки. Затем модель тестируется с помощью тестовой выборки. Обучающую и тестовую выборки необходимо сделать качественными, убрав повторяющиеся, пустые, а также неудобные для работы данные. \n",
    "Для начала рассмотрим алгоритм для создания модели машинного обучения:\n",
    "1. Импортируем данные\n",
    "2. Обрабатываем данные (извлекаем из данных полезную информацию)\n",
    "3. Выделяем признаки на которых будет проходить обучение из обработанных данных\n",
    "4. Выбор и обучение модели на основе полученных признаков\n",
    "5. Подбор лучшей модели\n"
   ]
  },
  {
   "cell_type": "markdown",
   "id": "7d6457af",
   "metadata": {
    "papermill": {
     "duration": 0.040987,
     "end_time": "2021-12-01T00:26:53.149174",
     "exception": false,
     "start_time": "2021-12-01T00:26:53.108187",
     "status": "completed"
    },
    "tags": []
   },
   "source": [
    "В первую очередь импортируем необходимые библиотеки:"
   ]
  },
  {
   "cell_type": "code",
   "execution_count": 1,
   "id": "919d3d1a",
   "metadata": {
    "execution": {
     "iopub.execute_input": "2021-12-01T00:26:53.242887Z",
     "iopub.status.busy": "2021-12-01T00:26:53.241859Z",
     "iopub.status.idle": "2021-12-01T00:26:53.246485Z",
     "shell.execute_reply": "2021-12-01T00:26:53.245782Z",
     "shell.execute_reply.started": "2021-12-01T00:25:26.190556Z"
    },
    "papermill": {
     "duration": 0.05738,
     "end_time": "2021-12-01T00:26:53.246788",
     "exception": false,
     "start_time": "2021-12-01T00:26:53.189408",
     "status": "completed"
    },
    "tags": []
   },
   "outputs": [],
   "source": [
    "#библиотека pandas используется для работы с данными\n",
    "#библиотека numpy используется для математических вычислений\n",
    "\n",
    "import numpy as np\n",
    "import pandas as pd\n"
   ]
  },
  {
   "cell_type": "code",
   "execution_count": 2,
   "id": "cbd3adee",
   "metadata": {
    "execution": {
     "iopub.execute_input": "2021-12-01T00:26:53.334940Z",
     "iopub.status.busy": "2021-12-01T00:26:53.334168Z",
     "iopub.status.idle": "2021-12-01T00:26:54.442151Z",
     "shell.execute_reply": "2021-12-01T00:26:54.441453Z",
     "shell.execute_reply.started": "2021-12-01T00:25:26.199356Z"
    },
    "papermill": {
     "duration": 1.154897,
     "end_time": "2021-12-01T00:26:54.442306",
     "exception": false,
     "start_time": "2021-12-01T00:26:53.287409",
     "status": "completed"
    },
    "tags": []
   },
   "outputs": [],
   "source": [
    "#Библиотеки необходимые для визуализации данных\n",
    "\n",
    "import matplotlib.pyplot as plt\n",
    "import seaborn as sns\n",
    "%matplotlib inline\n",
    "import warnings\n",
    "warnings.filterwarnings('ignore')"
   ]
  },
  {
   "cell_type": "markdown",
   "id": "6793ad8d",
   "metadata": {
    "papermill": {
     "duration": 0.040535,
     "end_time": "2021-12-01T00:26:54.526978",
     "exception": false,
     "start_time": "2021-12-01T00:26:54.486443",
     "status": "completed"
    },
    "tags": []
   },
   "source": [
    "С помощью функции pd.read_csv считываем данные обучающей и тестовой выборок по ссылкам и присваиваем их переменным train и test в виде датафрейма (таблицы)\n",
    "\n",
    "с помощью функции head выведем признаки первых 10 пассажиров"
   ]
  },
  {
   "cell_type": "code",
   "execution_count": 3,
   "id": "b88f0d1f",
   "metadata": {
    "execution": {
     "iopub.execute_input": "2021-12-01T00:26:54.611866Z",
     "iopub.status.busy": "2021-12-01T00:26:54.611035Z",
     "iopub.status.idle": "2021-12-01T00:26:54.671967Z",
     "shell.execute_reply": "2021-12-01T00:26:54.672569Z",
     "shell.execute_reply.started": "2021-12-01T00:25:26.220307Z"
    },
    "papermill": {
     "duration": 0.104691,
     "end_time": "2021-12-01T00:26:54.672778",
     "exception": false,
     "start_time": "2021-12-01T00:26:54.568087",
     "status": "completed"
    },
    "tags": []
   },
   "outputs": [
    {
     "data": {
      "text/html": [
       "<div>\n",
       "<style scoped>\n",
       "    .dataframe tbody tr th:only-of-type {\n",
       "        vertical-align: middle;\n",
       "    }\n",
       "\n",
       "    .dataframe tbody tr th {\n",
       "        vertical-align: top;\n",
       "    }\n",
       "\n",
       "    .dataframe thead th {\n",
       "        text-align: right;\n",
       "    }\n",
       "</style>\n",
       "<table border=\"1\" class=\"dataframe\">\n",
       "  <thead>\n",
       "    <tr style=\"text-align: right;\">\n",
       "      <th></th>\n",
       "      <th>PassengerId</th>\n",
       "      <th>Survived</th>\n",
       "      <th>Pclass</th>\n",
       "      <th>Name</th>\n",
       "      <th>Sex</th>\n",
       "      <th>Age</th>\n",
       "      <th>SibSp</th>\n",
       "      <th>Parch</th>\n",
       "      <th>Ticket</th>\n",
       "      <th>Fare</th>\n",
       "      <th>Cabin</th>\n",
       "      <th>Embarked</th>\n",
       "    </tr>\n",
       "  </thead>\n",
       "  <tbody>\n",
       "    <tr>\n",
       "      <th>0</th>\n",
       "      <td>1</td>\n",
       "      <td>0</td>\n",
       "      <td>3</td>\n",
       "      <td>Braund, Mr. Owen Harris</td>\n",
       "      <td>male</td>\n",
       "      <td>22.0</td>\n",
       "      <td>1</td>\n",
       "      <td>0</td>\n",
       "      <td>A/5 21171</td>\n",
       "      <td>7.2500</td>\n",
       "      <td>NaN</td>\n",
       "      <td>S</td>\n",
       "    </tr>\n",
       "    <tr>\n",
       "      <th>1</th>\n",
       "      <td>2</td>\n",
       "      <td>1</td>\n",
       "      <td>1</td>\n",
       "      <td>Cumings, Mrs. John Bradley (Florence Briggs Th...</td>\n",
       "      <td>female</td>\n",
       "      <td>38.0</td>\n",
       "      <td>1</td>\n",
       "      <td>0</td>\n",
       "      <td>PC 17599</td>\n",
       "      <td>71.2833</td>\n",
       "      <td>C85</td>\n",
       "      <td>C</td>\n",
       "    </tr>\n",
       "    <tr>\n",
       "      <th>2</th>\n",
       "      <td>3</td>\n",
       "      <td>1</td>\n",
       "      <td>3</td>\n",
       "      <td>Heikkinen, Miss. Laina</td>\n",
       "      <td>female</td>\n",
       "      <td>26.0</td>\n",
       "      <td>0</td>\n",
       "      <td>0</td>\n",
       "      <td>STON/O2. 3101282</td>\n",
       "      <td>7.9250</td>\n",
       "      <td>NaN</td>\n",
       "      <td>S</td>\n",
       "    </tr>\n",
       "    <tr>\n",
       "      <th>3</th>\n",
       "      <td>4</td>\n",
       "      <td>1</td>\n",
       "      <td>1</td>\n",
       "      <td>Futrelle, Mrs. Jacques Heath (Lily May Peel)</td>\n",
       "      <td>female</td>\n",
       "      <td>35.0</td>\n",
       "      <td>1</td>\n",
       "      <td>0</td>\n",
       "      <td>113803</td>\n",
       "      <td>53.1000</td>\n",
       "      <td>C123</td>\n",
       "      <td>S</td>\n",
       "    </tr>\n",
       "    <tr>\n",
       "      <th>4</th>\n",
       "      <td>5</td>\n",
       "      <td>0</td>\n",
       "      <td>3</td>\n",
       "      <td>Allen, Mr. William Henry</td>\n",
       "      <td>male</td>\n",
       "      <td>35.0</td>\n",
       "      <td>0</td>\n",
       "      <td>0</td>\n",
       "      <td>373450</td>\n",
       "      <td>8.0500</td>\n",
       "      <td>NaN</td>\n",
       "      <td>S</td>\n",
       "    </tr>\n",
       "    <tr>\n",
       "      <th>5</th>\n",
       "      <td>6</td>\n",
       "      <td>0</td>\n",
       "      <td>3</td>\n",
       "      <td>Moran, Mr. James</td>\n",
       "      <td>male</td>\n",
       "      <td>NaN</td>\n",
       "      <td>0</td>\n",
       "      <td>0</td>\n",
       "      <td>330877</td>\n",
       "      <td>8.4583</td>\n",
       "      <td>NaN</td>\n",
       "      <td>Q</td>\n",
       "    </tr>\n",
       "    <tr>\n",
       "      <th>6</th>\n",
       "      <td>7</td>\n",
       "      <td>0</td>\n",
       "      <td>1</td>\n",
       "      <td>McCarthy, Mr. Timothy J</td>\n",
       "      <td>male</td>\n",
       "      <td>54.0</td>\n",
       "      <td>0</td>\n",
       "      <td>0</td>\n",
       "      <td>17463</td>\n",
       "      <td>51.8625</td>\n",
       "      <td>E46</td>\n",
       "      <td>S</td>\n",
       "    </tr>\n",
       "    <tr>\n",
       "      <th>7</th>\n",
       "      <td>8</td>\n",
       "      <td>0</td>\n",
       "      <td>3</td>\n",
       "      <td>Palsson, Master. Gosta Leonard</td>\n",
       "      <td>male</td>\n",
       "      <td>2.0</td>\n",
       "      <td>3</td>\n",
       "      <td>1</td>\n",
       "      <td>349909</td>\n",
       "      <td>21.0750</td>\n",
       "      <td>NaN</td>\n",
       "      <td>S</td>\n",
       "    </tr>\n",
       "    <tr>\n",
       "      <th>8</th>\n",
       "      <td>9</td>\n",
       "      <td>1</td>\n",
       "      <td>3</td>\n",
       "      <td>Johnson, Mrs. Oscar W (Elisabeth Vilhelmina Berg)</td>\n",
       "      <td>female</td>\n",
       "      <td>27.0</td>\n",
       "      <td>0</td>\n",
       "      <td>2</td>\n",
       "      <td>347742</td>\n",
       "      <td>11.1333</td>\n",
       "      <td>NaN</td>\n",
       "      <td>S</td>\n",
       "    </tr>\n",
       "    <tr>\n",
       "      <th>9</th>\n",
       "      <td>10</td>\n",
       "      <td>1</td>\n",
       "      <td>2</td>\n",
       "      <td>Nasser, Mrs. Nicholas (Adele Achem)</td>\n",
       "      <td>female</td>\n",
       "      <td>14.0</td>\n",
       "      <td>1</td>\n",
       "      <td>0</td>\n",
       "      <td>237736</td>\n",
       "      <td>30.0708</td>\n",
       "      <td>NaN</td>\n",
       "      <td>C</td>\n",
       "    </tr>\n",
       "  </tbody>\n",
       "</table>\n",
       "</div>"
      ],
      "text/plain": [
       "   PassengerId  Survived  Pclass  \\\n",
       "0            1         0       3   \n",
       "1            2         1       1   \n",
       "2            3         1       3   \n",
       "3            4         1       1   \n",
       "4            5         0       3   \n",
       "5            6         0       3   \n",
       "6            7         0       1   \n",
       "7            8         0       3   \n",
       "8            9         1       3   \n",
       "9           10         1       2   \n",
       "\n",
       "                                                Name     Sex   Age  SibSp  \\\n",
       "0                            Braund, Mr. Owen Harris    male  22.0      1   \n",
       "1  Cumings, Mrs. John Bradley (Florence Briggs Th...  female  38.0      1   \n",
       "2                             Heikkinen, Miss. Laina  female  26.0      0   \n",
       "3       Futrelle, Mrs. Jacques Heath (Lily May Peel)  female  35.0      1   \n",
       "4                           Allen, Mr. William Henry    male  35.0      0   \n",
       "5                                   Moran, Mr. James    male   NaN      0   \n",
       "6                            McCarthy, Mr. Timothy J    male  54.0      0   \n",
       "7                     Palsson, Master. Gosta Leonard    male   2.0      3   \n",
       "8  Johnson, Mrs. Oscar W (Elisabeth Vilhelmina Berg)  female  27.0      0   \n",
       "9                Nasser, Mrs. Nicholas (Adele Achem)  female  14.0      1   \n",
       "\n",
       "   Parch            Ticket     Fare Cabin Embarked  \n",
       "0      0         A/5 21171   7.2500   NaN        S  \n",
       "1      0          PC 17599  71.2833   C85        C  \n",
       "2      0  STON/O2. 3101282   7.9250   NaN        S  \n",
       "3      0            113803  53.1000  C123        S  \n",
       "4      0            373450   8.0500   NaN        S  \n",
       "5      0            330877   8.4583   NaN        Q  \n",
       "6      0             17463  51.8625   E46        S  \n",
       "7      1            349909  21.0750   NaN        S  \n",
       "8      2            347742  11.1333   NaN        S  \n",
       "9      0            237736  30.0708   NaN        C  "
      ]
     },
     "execution_count": 3,
     "metadata": {},
     "output_type": "execute_result"
    }
   ],
   "source": [
    "train = pd.read_csv(\"/kaggle/input/titanic/train.csv\")\n",
    "test = pd.read_csv(\"/kaggle/input/titanic/test.csv\")\n",
    "train.head(10)"
   ]
  },
  {
   "cell_type": "markdown",
   "id": "77e52361",
   "metadata": {
    "papermill": {
     "duration": 0.044012,
     "end_time": "2021-12-01T00:26:54.758259",
     "exception": false,
     "start_time": "2021-12-01T00:26:54.714247",
     "status": "completed"
    },
    "tags": []
   },
   "source": [
    "Набор данных включает в себя такие признаки, как номер пассажира, значение выжил/не выжил, класс, имя, пол, количество братьев/сестер/супругов, количество родителей/детей,номер билета, стоимость проезда, каюта и порт посадки"
   ]
  },
  {
   "cell_type": "markdown",
   "id": "960fc96b",
   "metadata": {
    "papermill": {
     "duration": 0.042599,
     "end_time": "2021-12-01T00:26:54.844971",
     "exception": false,
     "start_time": "2021-12-01T00:26:54.802372",
     "status": "completed"
    },
    "tags": []
   },
   "source": [
    "Построим зависимости выживаемости от разных признаков, чтобы увидеть как они коррелируют\n",
    "\n",
    "**Зависимость выживаемости от пола:**"
   ]
  },
  {
   "cell_type": "code",
   "execution_count": 4,
   "id": "0fd3c6e0",
   "metadata": {
    "execution": {
     "iopub.execute_input": "2021-12-01T00:26:54.933774Z",
     "iopub.status.busy": "2021-12-01T00:26:54.932445Z",
     "iopub.status.idle": "2021-12-01T00:26:55.225456Z",
     "shell.execute_reply": "2021-12-01T00:26:55.224834Z",
     "shell.execute_reply.started": "2021-12-01T00:25:26.277325Z"
    },
    "papermill": {
     "duration": 0.338617,
     "end_time": "2021-12-01T00:26:55.225601",
     "exception": false,
     "start_time": "2021-12-01T00:26:54.886984",
     "status": "completed"
    },
    "tags": []
   },
   "outputs": [
    {
     "name": "stdout",
     "output_type": "stream",
     "text": [
      "Процент выживших женщин: 74.20382165605095\n",
      "Процент выживших мужчин: 18.890814558058924\n"
     ]
    },
    {
     "data": {
      "image/png": "[encoded data removed]",
      "text/plain": [
       "<Figure size 432x288 with 1 Axes>"
      ]
     },
     "metadata": {
      "needs_background": "light"
     },
     "output_type": "display_data"
    }
   ],
   "source": [
    "#Построим диаграмму зависимости выживаемости от пола\n",
    "sns.barplot(x=\"Sex\", y=\"Survived\", data=train)\n",
    "\n",
    "#Найдем процент выживших женщин и мужчин\n",
    "print(\"Процент выживших женщин:\", train[\"Survived\"][train[\"Sex\"] == 'female'].value_counts(normalize = True)[1]*100)\n",
    "\n",
    "print(\"Процент выживших мужчин:\", train[\"Survived\"][train[\"Sex\"] == 'male'].value_counts(normalize = True)[1]*100)"
   ]
  },
  {
   "cell_type": "markdown",
   "id": "8e590b4b",
   "metadata": {
    "papermill": {
     "duration": 0.104601,
     "end_time": "2021-12-01T00:26:55.372314",
     "exception": false,
     "start_time": "2021-12-01T00:26:55.267713",
     "status": "completed"
    },
    "tags": []
   },
   "source": [
    "**Зависимость выживаемости от возраста пассажиров:**"
   ]
  },
  {
   "cell_type": "code",
   "execution_count": 5,
   "id": "e88168b0",
   "metadata": {
    "execution": {
     "iopub.execute_input": "2021-12-01T00:26:55.467954Z",
     "iopub.status.busy": "2021-12-01T00:26:55.467181Z",
     "iopub.status.idle": "2021-12-01T00:26:56.043628Z",
     "shell.execute_reply": "2021-12-01T00:26:56.044181Z",
     "shell.execute_reply.started": "2021-12-01T00:25:26.571818Z"
    },
    "papermill": {
     "duration": 0.628284,
     "end_time": "2021-12-01T00:26:56.044405",
     "exception": false,
     "start_time": "2021-12-01T00:26:55.416121",
     "status": "completed"
    },
    "tags": []
   },
   "outputs": [
    {
     "data": {
      "image/png": "[encoded data removed]",
      "text/plain": [
       "<Figure size 432x288 with 1 Axes>"
      ]
     },
     "metadata": {
      "needs_background": "light"
     },
     "output_type": "display_data"
    }
   ],
   "source": [
    "#Так как значений возраста достаточно много разделим их на категории, пропущенные данные заменим с помощью метода fillna на значения -0.5\n",
    "train[\"Age\"] = train[\"Age\"].fillna(-0.5)\n",
    "test[\"Age\"] = test[\"Age\"].fillna(-0.5)\n",
    "#создадим массивы с необходимыми категориями и их обозначениями на графике, выжившие пассажиры с неизвестным возрастом попадают в первый диапазон\n",
    "bins = [-1, 0, 5, 12, 18, 24, 35, 60, np.inf]\n",
    "labels = ['Unknown', 'Baby', 'Child', 'Teenager', 'Student', 'Young Adult', 'Adult', 'Senior']\n",
    "#разделим исходные таблицы с данными на заданные промежутки с помощью функции cut\n",
    "train['AgeGroup'] = pd.cut(train[\"Age\"], bins, labels = labels)\n",
    "test['AgeGroup'] = pd.cut(test[\"Age\"], bins, labels = labels)\n",
    "\n",
    "#Построим диаграмму зависимости выживаемости от категории возрастов\n",
    "sns.barplot(x=\"AgeGroup\", y=\"Survived\", data=train)\n",
    "plt.show()"
   ]
  },
  {
   "cell_type": "markdown",
   "id": "8a2696f6",
   "metadata": {
    "papermill": {
     "duration": 0.043453,
     "end_time": "2021-12-01T00:26:56.133406",
     "exception": false,
     "start_time": "2021-12-01T00:26:56.089953",
     "status": "completed"
    },
    "tags": []
   },
   "source": [
    "**Зависимость выживаемости от класса пассажиров:**"
   ]
  },
  {
   "cell_type": "code",
   "execution_count": 6,
   "id": "7cedf305",
   "metadata": {
    "execution": {
     "iopub.execute_input": "2021-12-01T00:26:56.228725Z",
     "iopub.status.busy": "2021-12-01T00:26:56.227799Z",
     "iopub.status.idle": "2021-12-01T00:26:56.488318Z",
     "shell.execute_reply": "2021-12-01T00:26:56.488891Z",
     "shell.execute_reply.started": "2021-12-01T00:25:27.099350Z"
    },
    "papermill": {
     "duration": 0.313485,
     "end_time": "2021-12-01T00:26:56.489077",
     "exception": false,
     "start_time": "2021-12-01T00:26:56.175592",
     "status": "completed"
    },
    "tags": []
   },
   "outputs": [
    {
     "name": "stdout",
     "output_type": "stream",
     "text": [
      "Процент выживших пассажиров 1го класса: 62.96296296296296\n",
      "Процент выживших пассажиров 2го класса: 47.28260869565217\n",
      "Процент выживших пассажиров 3го класса: 24.236252545824847\n"
     ]
    },
    {
     "data": {
      "image/png": "[encoded data removed]",
      "text/plain": [
       "<Figure size 432x288 with 1 Axes>"
      ]
     },
     "metadata": {
      "needs_background": "light"
     },
     "output_type": "display_data"
    }
   ],
   "source": [
    "#Построим диаграмму зависимости выживаемости от класса пассажиров\n",
    "sns.barplot(x=\"Pclass\", y=\"Survived\", data=train)\n",
    "\n",
    "#Найдем процент выживших разных классов\n",
    "print(\"Процент выживших пассажиров 1го класса:\", train[\"Survived\"][train[\"Pclass\"] == 1].value_counts(normalize = True)[1]*100)\n",
    "\n",
    "print(\"Процент выживших пассажиров 2го класса:\", train[\"Survived\"][train[\"Pclass\"] == 2].value_counts(normalize = True)[1]*100)\n",
    "\n",
    "print(\"Процент выживших пассажиров 3го класса:\", train[\"Survived\"][train[\"Pclass\"] == 3].value_counts(normalize = True)[1]*100)"
   ]
  },
  {
   "cell_type": "markdown",
   "id": "5a25f783",
   "metadata": {
    "papermill": {
     "duration": 0.048782,
     "end_time": "2021-12-01T00:26:56.582581",
     "exception": false,
     "start_time": "2021-12-01T00:26:56.533799",
     "status": "completed"
    },
    "tags": []
   },
   "source": [
    "**Зависимость выживаемости при наличии братьев/сестер/супругов:**"
   ]
  },
  {
   "cell_type": "code",
   "execution_count": 7,
   "id": "6226fb67",
   "metadata": {
    "execution": {
     "iopub.execute_input": "2021-12-01T00:26:56.673961Z",
     "iopub.status.busy": "2021-12-01T00:26:56.672756Z",
     "iopub.status.idle": "2021-12-01T00:26:57.131458Z",
     "shell.execute_reply": "2021-12-01T00:26:57.132199Z",
     "shell.execute_reply.started": "2021-12-01T00:25:27.650851Z"
    },
    "papermill": {
     "duration": 0.506659,
     "end_time": "2021-12-01T00:26:57.132393",
     "exception": false,
     "start_time": "2021-12-01T00:26:56.625734",
     "status": "completed"
    },
    "tags": []
   },
   "outputs": [
    {
     "name": "stdout",
     "output_type": "stream",
     "text": [
      "Процент выживших без родственников: 34.53947368421053\n",
      "Процент выживших с 1 родственником: 53.588516746411486\n",
      "Процент выживших с 2 родственниками: 46.42857142857143\n",
      "Процент выживших с 3 родственниками: 25.0\n",
      "Процент выживших с 4 родственниками: 16.666666666666664\n"
     ]
    },
    {
     "data": {
      "image/png": "[encoded data removed]",
      "text/plain": [
       "<Figure size 432x288 with 1 Axes>"
      ]
     },
     "metadata": {
      "needs_background": "light"
     },
     "output_type": "display_data"
    }
   ],
   "source": [
    "#Построим диаграмму зависимости выживаемости от наличия родственников\n",
    "sns.barplot(x=\"SibSp\", y=\"Survived\", data=train)\n",
    "\n",
    "#Возьмем максимальное значение в 4 родственника и найдем их процент\n",
    "print(\"Процент выживших без родственников:\", train[\"Survived\"][train[\"SibSp\"] == 0].value_counts(normalize = True)[1]*100)\n",
    "\n",
    "print(\"Процент выживших с 1 родственником:\", train[\"Survived\"][train[\"SibSp\"] == 1].value_counts(normalize = True)[1]*100)\n",
    "\n",
    "print(\"Процент выживших с 2 родственниками:\", train[\"Survived\"][train[\"SibSp\"] == 2].value_counts(normalize = True)[1]*100)\n",
    "\n",
    "print(\"Процент выживших с 3 родственниками:\", train[\"Survived\"][train[\"SibSp\"] == 3].value_counts(normalize = True)[1]*100)\n",
    "\n",
    "print(\"Процент выживших с 4 родственниками:\", train[\"Survived\"][train[\"SibSp\"] == 4].value_counts(normalize = True)[1]*100)\n"
   ]
  },
  {
   "cell_type": "markdown",
   "id": "f9b6608f",
   "metadata": {
    "papermill": {
     "duration": 0.04608,
     "end_time": "2021-12-01T00:26:57.224011",
     "exception": false,
     "start_time": "2021-12-01T00:26:57.177931",
     "status": "completed"
    },
    "tags": []
   },
   "source": [
    "**Зависимость выживаемости при наличии родителей/детей:**"
   ]
  },
  {
   "cell_type": "code",
   "execution_count": 8,
   "id": "56f38c1a",
   "metadata": {
    "execution": {
     "iopub.execute_input": "2021-12-01T00:26:57.325896Z",
     "iopub.status.busy": "2021-12-01T00:26:57.324793Z",
     "iopub.status.idle": "2021-12-01T00:26:57.714752Z",
     "shell.execute_reply": "2021-12-01T00:26:57.715263Z",
     "shell.execute_reply.started": "2021-12-01T00:25:28.148453Z"
    },
    "papermill": {
     "duration": 0.446476,
     "end_time": "2021-12-01T00:26:57.715452",
     "exception": false,
     "start_time": "2021-12-01T00:26:57.268976",
     "status": "completed"
    },
    "tags": []
   },
   "outputs": [
    {
     "name": "stdout",
     "output_type": "stream",
     "text": [
      "Процент выживших без родителей/детей: 34.365781710914455\n",
      "Процент выживших с 1 родителем/ребенком: 55.08474576271186\n",
      "Процент выживших с 2 родителями/детьми: 50.0\n",
      "Процент выживших с 3 детьми: 60.0\n",
      "Процент выживших с 5 детьми: 20.0\n"
     ]
    },
    {
     "data": {
      "image/png": "[encoded data removed]",
      "text/plain": [
       "<Figure size 432x288 with 1 Axes>"
      ]
     },
     "metadata": {
      "needs_background": "light"
     },
     "output_type": "display_data"
    }
   ],
   "source": [
    "#Построим диаграмму зависимости выживаемости от наличия родителей/детей\n",
    "sns.barplot(x=\"Parch\", y=\"Survived\", data=train)\n",
    "\n",
    "#найдем процент выживших пассажиров с родителями/детьми\n",
    "print(\"Процент выживших без родителей/детей:\", train[\"Survived\"][train[\"Parch\"] == 0].value_counts(normalize = True)[1]*100)\n",
    "\n",
    "print(\"Процент выживших с 1 родителем/ребенком:\", train[\"Survived\"][train[\"Parch\"] == 1].value_counts(normalize = True)[1]*100)\n",
    "\n",
    "print(\"Процент выживших с 2 родителями/детьми:\", train[\"Survived\"][train[\"Parch\"] == 2].value_counts(normalize = True)[1]*100)\n",
    "\n",
    "print(\"Процент выживших с 3 детьми:\", train[\"Survived\"][train[\"Parch\"] == 3].value_counts(normalize = True)[1]*100)\n",
    "\n",
    "print(\"Процент выживших с 5 детьми:\", train[\"Survived\"][train[\"Parch\"] == 5].value_counts(normalize = True)[1]*100)\n"
   ]
  },
  {
   "cell_type": "markdown",
   "id": "7de63b7c",
   "metadata": {
    "papermill": {
     "duration": 0.047516,
     "end_time": "2021-12-01T00:26:57.811510",
     "exception": false,
     "start_time": "2021-12-01T00:26:57.763994",
     "status": "completed"
    },
    "tags": []
   },
   "source": [
    "**Зависимость выживаемости от наличия номера каюты:**"
   ]
  },
  {
   "cell_type": "code",
   "execution_count": 9,
   "id": "d2005191",
   "metadata": {
    "execution": {
     "iopub.execute_input": "2021-12-01T00:26:57.917536Z",
     "iopub.status.busy": "2021-12-01T00:26:57.916780Z",
     "iopub.status.idle": "2021-12-01T00:26:58.132777Z",
     "shell.execute_reply": "2021-12-01T00:26:58.133792Z",
     "shell.execute_reply.started": "2021-12-01T00:25:28.602068Z"
    },
    "papermill": {
     "duration": 0.277096,
     "end_time": "2021-12-01T00:26:58.134250",
     "exception": false,
     "start_time": "2021-12-01T00:26:57.857154",
     "status": "completed"
    },
    "tags": []
   },
   "outputs": [
    {
     "name": "stdout",
     "output_type": "stream",
     "text": [
      "Процент выживших пассажиров с записанным номером каюты: 66.66666666666666\n",
      "Процент выживших пассажиров без записанного номера каюты: 29.985443959243085\n"
     ]
    },
    {
     "data": {
      "image/png": "[encoded data removed]",
      "text/plain": [
       "<Figure size 432x288 with 1 Axes>"
      ]
     },
     "metadata": {
      "needs_background": "light"
     },
     "output_type": "display_data"
    }
   ],
   "source": [
    "#Представим тех пассажиров, у которых был записан номер каюты в виде 1, тех у кого не было останется значение 0\n",
    "train[\"CabinBool\"] = (train[\"Cabin\"].notnull().astype('int'))\n",
    "test[\"CabinBool\"] = (test[\"Cabin\"].notnull().astype('int'))\n",
    "\n",
    "#найдем процент выживших пассажиров\n",
    "print(\"Процент выживших пассажиров с записанным номером каюты:\", train[\"Survived\"][train[\"CabinBool\"] == 1].value_counts(normalize = True)[1]*100)\n",
    "\n",
    "print(\"Процент выживших пассажиров без записанного номера каюты:\", train[\"Survived\"][train[\"CabinBool\"] == 0].value_counts(normalize = True)[1]*100)\n",
    "\n",
    "#Построим диаграмму зависимости выживаемости от наличия номера каюты в списках\n",
    "sns.barplot(x=\"CabinBool\", y=\"Survived\", data=train)\n",
    "plt.show()"
   ]
  },
  {
   "cell_type": "markdown",
   "id": "ef1d50ae",
   "metadata": {
    "papermill": {
     "duration": 0.047562,
     "end_time": "2021-12-01T00:26:58.233041",
     "exception": false,
     "start_time": "2021-12-01T00:26:58.185479",
     "status": "completed"
    },
    "tags": []
   },
   "source": [
    "Отсюда делаем вывод, что выживаемость гораздо выше у женщин, чем у мужчин. У детей в возрасте до 5 лет самый высокий шанс на выживание. Также сильно влияет социально-экономическое положение пассажира (класс), наибольший шанс выжить у 1го класса пассажиров. Самый высокий шанс выжить при наличие 1 родственника, при наличие 1-2 родственников шанс выжить больше, чем без них, при наличие 3 и более родственников шанс выжить меньше, чем с 1-2 или без них. Люди, у которых на борту 1-3 родителя/ребенка имеют шанс выживания намного выше, чем те у кого их больше. При отсутствии детей/родителей, шанс выжить меньше, чем при наличие 1-3 родителя/ребенка. Также у людей с записанными номерами кают шанс выжить намного выше чем у тех, у кого он не известен/не записан."
   ]
  },
  {
   "cell_type": "markdown",
   "id": "bfb1309b",
   "metadata": {
    "papermill": {
     "duration": 0.047035,
     "end_time": "2021-12-01T00:26:58.326341",
     "exception": false,
     "start_time": "2021-12-01T00:26:58.279306",
     "status": "completed"
    },
    "tags": []
   },
   "source": [
    "Рассмотрим данные обучающей выборки на предмет качества.\n",
    "\n",
    "Функцией describe выводим статистические характеристики данных"
   ]
  },
  {
   "cell_type": "code",
   "execution_count": 10,
   "id": "63725895",
   "metadata": {
    "execution": {
     "iopub.execute_input": "2021-12-01T00:26:58.423842Z",
     "iopub.status.busy": "2021-12-01T00:26:58.423088Z",
     "iopub.status.idle": "2021-12-01T00:26:58.474702Z",
     "shell.execute_reply": "2021-12-01T00:26:58.475292Z",
     "shell.execute_reply.started": "2021-12-01T00:25:28.882285Z"
    },
    "papermill": {
     "duration": 0.101964,
     "end_time": "2021-12-01T00:26:58.475491",
     "exception": false,
     "start_time": "2021-12-01T00:26:58.373527",
     "status": "completed"
    },
    "tags": []
   },
   "outputs": [
    {
     "data": {
      "text/html": [
       "<div>\n",
       "<style scoped>\n",
       "    .dataframe tbody tr th:only-of-type {\n",
       "        vertical-align: middle;\n",
       "    }\n",
       "\n",
       "    .dataframe tbody tr th {\n",
       "        vertical-align: top;\n",
       "    }\n",
       "\n",
       "    .dataframe thead th {\n",
       "        text-align: right;\n",
       "    }\n",
       "</style>\n",
       "<table border=\"1\" class=\"dataframe\">\n",
       "  <thead>\n",
       "    <tr style=\"text-align: right;\">\n",
       "      <th></th>\n",
       "      <th>PassengerId</th>\n",
       "      <th>Survived</th>\n",
       "      <th>Pclass</th>\n",
       "      <th>Name</th>\n",
       "      <th>Sex</th>\n",
       "      <th>Age</th>\n",
       "      <th>SibSp</th>\n",
       "      <th>Parch</th>\n",
       "      <th>Ticket</th>\n",
       "      <th>Fare</th>\n",
       "      <th>Cabin</th>\n",
       "      <th>Embarked</th>\n",
       "      <th>AgeGroup</th>\n",
       "      <th>CabinBool</th>\n",
       "    </tr>\n",
       "  </thead>\n",
       "  <tbody>\n",
       "    <tr>\n",
       "      <th>count</th>\n",
       "      <td>891.000000</td>\n",
       "      <td>891.000000</td>\n",
       "      <td>891.000000</td>\n",
       "      <td>891</td>\n",
       "      <td>891</td>\n",
       "      <td>891.000000</td>\n",
       "      <td>891.000000</td>\n",
       "      <td>891.000000</td>\n",
       "      <td>891</td>\n",
       "      <td>891.000000</td>\n",
       "      <td>204</td>\n",
       "      <td>889</td>\n",
       "      <td>891</td>\n",
       "      <td>891.000000</td>\n",
       "    </tr>\n",
       "    <tr>\n",
       "      <th>unique</th>\n",
       "      <td>NaN</td>\n",
       "      <td>NaN</td>\n",
       "      <td>NaN</td>\n",
       "      <td>891</td>\n",
       "      <td>2</td>\n",
       "      <td>NaN</td>\n",
       "      <td>NaN</td>\n",
       "      <td>NaN</td>\n",
       "      <td>681</td>\n",
       "      <td>NaN</td>\n",
       "      <td>147</td>\n",
       "      <td>3</td>\n",
       "      <td>8</td>\n",
       "      <td>NaN</td>\n",
       "    </tr>\n",
       "    <tr>\n",
       "      <th>top</th>\n",
       "      <td>NaN</td>\n",
       "      <td>NaN</td>\n",
       "      <td>NaN</td>\n",
       "      <td>Braund, Mr. Owen Harris</td>\n",
       "      <td>male</td>\n",
       "      <td>NaN</td>\n",
       "      <td>NaN</td>\n",
       "      <td>NaN</td>\n",
       "      <td>347082</td>\n",
       "      <td>NaN</td>\n",
       "      <td>B96 B98</td>\n",
       "      <td>S</td>\n",
       "      <td>Young Adult</td>\n",
       "      <td>NaN</td>\n",
       "    </tr>\n",
       "    <tr>\n",
       "      <th>freq</th>\n",
       "      <td>NaN</td>\n",
       "      <td>NaN</td>\n",
       "      <td>NaN</td>\n",
       "      <td>1</td>\n",
       "      <td>577</td>\n",
       "      <td>NaN</td>\n",
       "      <td>NaN</td>\n",
       "      <td>NaN</td>\n",
       "      <td>7</td>\n",
       "      <td>NaN</td>\n",
       "      <td>4</td>\n",
       "      <td>644</td>\n",
       "      <td>220</td>\n",
       "      <td>NaN</td>\n",
       "    </tr>\n",
       "    <tr>\n",
       "      <th>mean</th>\n",
       "      <td>446.000000</td>\n",
       "      <td>0.383838</td>\n",
       "      <td>2.308642</td>\n",
       "      <td>NaN</td>\n",
       "      <td>NaN</td>\n",
       "      <td>23.699966</td>\n",
       "      <td>0.523008</td>\n",
       "      <td>0.381594</td>\n",
       "      <td>NaN</td>\n",
       "      <td>32.204208</td>\n",
       "      <td>NaN</td>\n",
       "      <td>NaN</td>\n",
       "      <td>NaN</td>\n",
       "      <td>0.228956</td>\n",
       "    </tr>\n",
       "    <tr>\n",
       "      <th>std</th>\n",
       "      <td>257.353842</td>\n",
       "      <td>0.486592</td>\n",
       "      <td>0.836071</td>\n",
       "      <td>NaN</td>\n",
       "      <td>NaN</td>\n",
       "      <td>17.731181</td>\n",
       "      <td>1.102743</td>\n",
       "      <td>0.806057</td>\n",
       "      <td>NaN</td>\n",
       "      <td>49.693429</td>\n",
       "      <td>NaN</td>\n",
       "      <td>NaN</td>\n",
       "      <td>NaN</td>\n",
       "      <td>0.420397</td>\n",
       "    </tr>\n",
       "    <tr>\n",
       "      <th>min</th>\n",
       "      <td>1.000000</td>\n",
       "      <td>0.000000</td>\n",
       "      <td>1.000000</td>\n",
       "      <td>NaN</td>\n",
       "      <td>NaN</td>\n",
       "      <td>-0.500000</td>\n",
       "      <td>0.000000</td>\n",
       "      <td>0.000000</td>\n",
       "      <td>NaN</td>\n",
       "      <td>0.000000</td>\n",
       "      <td>NaN</td>\n",
       "      <td>NaN</td>\n",
       "      <td>NaN</td>\n",
       "      <td>0.000000</td>\n",
       "    </tr>\n",
       "    <tr>\n",
       "      <th>25%</th>\n",
       "      <td>223.500000</td>\n",
       "      <td>0.000000</td>\n",
       "      <td>2.000000</td>\n",
       "      <td>NaN</td>\n",
       "      <td>NaN</td>\n",
       "      <td>6.000000</td>\n",
       "      <td>0.000000</td>\n",
       "      <td>0.000000</td>\n",
       "      <td>NaN</td>\n",
       "      <td>7.910400</td>\n",
       "      <td>NaN</td>\n",
       "      <td>NaN</td>\n",
       "      <td>NaN</td>\n",
       "      <td>0.000000</td>\n",
       "    </tr>\n",
       "    <tr>\n",
       "      <th>50%</th>\n",
       "      <td>446.000000</td>\n",
       "      <td>0.000000</td>\n",
       "      <td>3.000000</td>\n",
       "      <td>NaN</td>\n",
       "      <td>NaN</td>\n",
       "      <td>24.000000</td>\n",
       "      <td>0.000000</td>\n",
       "      <td>0.000000</td>\n",
       "      <td>NaN</td>\n",
       "      <td>14.454200</td>\n",
       "      <td>NaN</td>\n",
       "      <td>NaN</td>\n",
       "      <td>NaN</td>\n",
       "      <td>0.000000</td>\n",
       "    </tr>\n",
       "    <tr>\n",
       "      <th>75%</th>\n",
       "      <td>668.500000</td>\n",
       "      <td>1.000000</td>\n",
       "      <td>3.000000</td>\n",
       "      <td>NaN</td>\n",
       "      <td>NaN</td>\n",
       "      <td>35.000000</td>\n",
       "      <td>1.000000</td>\n",
       "      <td>0.000000</td>\n",
       "      <td>NaN</td>\n",
       "      <td>31.000000</td>\n",
       "      <td>NaN</td>\n",
       "      <td>NaN</td>\n",
       "      <td>NaN</td>\n",
       "      <td>0.000000</td>\n",
       "    </tr>\n",
       "    <tr>\n",
       "      <th>max</th>\n",
       "      <td>891.000000</td>\n",
       "      <td>1.000000</td>\n",
       "      <td>3.000000</td>\n",
       "      <td>NaN</td>\n",
       "      <td>NaN</td>\n",
       "      <td>80.000000</td>\n",
       "      <td>8.000000</td>\n",
       "      <td>6.000000</td>\n",
       "      <td>NaN</td>\n",
       "      <td>512.329200</td>\n",
       "      <td>NaN</td>\n",
       "      <td>NaN</td>\n",
       "      <td>NaN</td>\n",
       "      <td>1.000000</td>\n",
       "    </tr>\n",
       "  </tbody>\n",
       "</table>\n",
       "</div>"
      ],
      "text/plain": [
       "        PassengerId    Survived      Pclass                     Name   Sex  \\\n",
       "count    891.000000  891.000000  891.000000                      891   891   \n",
       "unique          NaN         NaN         NaN                      891     2   \n",
       "top             NaN         NaN         NaN  Braund, Mr. Owen Harris  male   \n",
       "freq            NaN         NaN         NaN                        1   577   \n",
       "mean     446.000000    0.383838    2.308642                      NaN   NaN   \n",
       "std      257.353842    0.486592    0.836071                      NaN   NaN   \n",
       "min        1.000000    0.000000    1.000000                      NaN   NaN   \n",
       "25%      223.500000    0.000000    2.000000                      NaN   NaN   \n",
       "50%      446.000000    0.000000    3.000000                      NaN   NaN   \n",
       "75%      668.500000    1.000000    3.000000                      NaN   NaN   \n",
       "max      891.000000    1.000000    3.000000                      NaN   NaN   \n",
       "\n",
       "               Age       SibSp       Parch  Ticket        Fare    Cabin  \\\n",
       "count   891.000000  891.000000  891.000000     891  891.000000      204   \n",
       "unique         NaN         NaN         NaN     681         NaN      147   \n",
       "top            NaN         NaN         NaN  347082         NaN  B96 B98   \n",
       "freq           NaN         NaN         NaN       7         NaN        4   \n",
       "mean     23.699966    0.523008    0.381594     NaN   32.204208      NaN   \n",
       "std      17.731181    1.102743    0.806057     NaN   49.693429      NaN   \n",
       "min      -0.500000    0.000000    0.000000     NaN    0.000000      NaN   \n",
       "25%       6.000000    0.000000    0.000000     NaN    7.910400      NaN   \n",
       "50%      24.000000    0.000000    0.000000     NaN   14.454200      NaN   \n",
       "75%      35.000000    1.000000    0.000000     NaN   31.000000      NaN   \n",
       "max      80.000000    8.000000    6.000000     NaN  512.329200      NaN   \n",
       "\n",
       "       Embarked     AgeGroup   CabinBool  \n",
       "count       889          891  891.000000  \n",
       "unique        3            8         NaN  \n",
       "top           S  Young Adult         NaN  \n",
       "freq        644          220         NaN  \n",
       "mean        NaN          NaN    0.228956  \n",
       "std         NaN          NaN    0.420397  \n",
       "min         NaN          NaN    0.000000  \n",
       "25%         NaN          NaN    0.000000  \n",
       "50%         NaN          NaN    0.000000  \n",
       "75%         NaN          NaN    0.000000  \n",
       "max         NaN          NaN    1.000000  "
      ]
     },
     "execution_count": 10,
     "metadata": {},
     "output_type": "execute_result"
    }
   ],
   "source": [
    "train.describe(include=\"all\")"
   ]
  },
  {
   "cell_type": "code",
   "execution_count": 11,
   "id": "56da346e",
   "metadata": {
    "execution": {
     "iopub.execute_input": "2021-12-01T00:26:58.578842Z",
     "iopub.status.busy": "2021-12-01T00:26:58.577522Z",
     "iopub.status.idle": "2021-12-01T00:26:58.620524Z",
     "shell.execute_reply": "2021-12-01T00:26:58.621086Z",
     "shell.execute_reply.started": "2021-12-01T00:25:28.941059Z"
    },
    "papermill": {
     "duration": 0.097856,
     "end_time": "2021-12-01T00:26:58.621273",
     "exception": false,
     "start_time": "2021-12-01T00:26:58.523417",
     "status": "completed"
    },
    "tags": []
   },
   "outputs": [
    {
     "data": {
      "text/html": [
       "<div>\n",
       "<style scoped>\n",
       "    .dataframe tbody tr th:only-of-type {\n",
       "        vertical-align: middle;\n",
       "    }\n",
       "\n",
       "    .dataframe tbody tr th {\n",
       "        vertical-align: top;\n",
       "    }\n",
       "\n",
       "    .dataframe thead th {\n",
       "        text-align: right;\n",
       "    }\n",
       "</style>\n",
       "<table border=\"1\" class=\"dataframe\">\n",
       "  <thead>\n",
       "    <tr style=\"text-align: right;\">\n",
       "      <th></th>\n",
       "      <th>PassengerId</th>\n",
       "      <th>Pclass</th>\n",
       "      <th>Name</th>\n",
       "      <th>Sex</th>\n",
       "      <th>Age</th>\n",
       "      <th>SibSp</th>\n",
       "      <th>Parch</th>\n",
       "      <th>Ticket</th>\n",
       "      <th>Fare</th>\n",
       "      <th>Cabin</th>\n",
       "      <th>Embarked</th>\n",
       "      <th>AgeGroup</th>\n",
       "      <th>CabinBool</th>\n",
       "    </tr>\n",
       "  </thead>\n",
       "  <tbody>\n",
       "    <tr>\n",
       "      <th>count</th>\n",
       "      <td>418.000000</td>\n",
       "      <td>418.000000</td>\n",
       "      <td>418</td>\n",
       "      <td>418</td>\n",
       "      <td>418.000000</td>\n",
       "      <td>418.000000</td>\n",
       "      <td>418.000000</td>\n",
       "      <td>418</td>\n",
       "      <td>417.000000</td>\n",
       "      <td>91</td>\n",
       "      <td>418</td>\n",
       "      <td>418</td>\n",
       "      <td>418.000000</td>\n",
       "    </tr>\n",
       "    <tr>\n",
       "      <th>unique</th>\n",
       "      <td>NaN</td>\n",
       "      <td>NaN</td>\n",
       "      <td>418</td>\n",
       "      <td>2</td>\n",
       "      <td>NaN</td>\n",
       "      <td>NaN</td>\n",
       "      <td>NaN</td>\n",
       "      <td>363</td>\n",
       "      <td>NaN</td>\n",
       "      <td>76</td>\n",
       "      <td>3</td>\n",
       "      <td>8</td>\n",
       "      <td>NaN</td>\n",
       "    </tr>\n",
       "    <tr>\n",
       "      <th>top</th>\n",
       "      <td>NaN</td>\n",
       "      <td>NaN</td>\n",
       "      <td>Kelly, Mr. James</td>\n",
       "      <td>male</td>\n",
       "      <td>NaN</td>\n",
       "      <td>NaN</td>\n",
       "      <td>NaN</td>\n",
       "      <td>PC 17608</td>\n",
       "      <td>NaN</td>\n",
       "      <td>B57 B59 B63 B66</td>\n",
       "      <td>S</td>\n",
       "      <td>Young Adult</td>\n",
       "      <td>NaN</td>\n",
       "    </tr>\n",
       "    <tr>\n",
       "      <th>freq</th>\n",
       "      <td>NaN</td>\n",
       "      <td>NaN</td>\n",
       "      <td>1</td>\n",
       "      <td>266</td>\n",
       "      <td>NaN</td>\n",
       "      <td>NaN</td>\n",
       "      <td>NaN</td>\n",
       "      <td>5</td>\n",
       "      <td>NaN</td>\n",
       "      <td>3</td>\n",
       "      <td>270</td>\n",
       "      <td>96</td>\n",
       "      <td>NaN</td>\n",
       "    </tr>\n",
       "    <tr>\n",
       "      <th>mean</th>\n",
       "      <td>1100.500000</td>\n",
       "      <td>2.265550</td>\n",
       "      <td>NaN</td>\n",
       "      <td>NaN</td>\n",
       "      <td>23.941388</td>\n",
       "      <td>0.447368</td>\n",
       "      <td>0.392344</td>\n",
       "      <td>NaN</td>\n",
       "      <td>35.627188</td>\n",
       "      <td>NaN</td>\n",
       "      <td>NaN</td>\n",
       "      <td>NaN</td>\n",
       "      <td>0.217703</td>\n",
       "    </tr>\n",
       "    <tr>\n",
       "      <th>std</th>\n",
       "      <td>120.810458</td>\n",
       "      <td>0.841838</td>\n",
       "      <td>NaN</td>\n",
       "      <td>NaN</td>\n",
       "      <td>17.741080</td>\n",
       "      <td>0.896760</td>\n",
       "      <td>0.981429</td>\n",
       "      <td>NaN</td>\n",
       "      <td>55.907576</td>\n",
       "      <td>NaN</td>\n",
       "      <td>NaN</td>\n",
       "      <td>NaN</td>\n",
       "      <td>0.413179</td>\n",
       "    </tr>\n",
       "    <tr>\n",
       "      <th>min</th>\n",
       "      <td>892.000000</td>\n",
       "      <td>1.000000</td>\n",
       "      <td>NaN</td>\n",
       "      <td>NaN</td>\n",
       "      <td>-0.500000</td>\n",
       "      <td>0.000000</td>\n",
       "      <td>0.000000</td>\n",
       "      <td>NaN</td>\n",
       "      <td>0.000000</td>\n",
       "      <td>NaN</td>\n",
       "      <td>NaN</td>\n",
       "      <td>NaN</td>\n",
       "      <td>0.000000</td>\n",
       "    </tr>\n",
       "    <tr>\n",
       "      <th>25%</th>\n",
       "      <td>996.250000</td>\n",
       "      <td>1.000000</td>\n",
       "      <td>NaN</td>\n",
       "      <td>NaN</td>\n",
       "      <td>9.000000</td>\n",
       "      <td>0.000000</td>\n",
       "      <td>0.000000</td>\n",
       "      <td>NaN</td>\n",
       "      <td>7.895800</td>\n",
       "      <td>NaN</td>\n",
       "      <td>NaN</td>\n",
       "      <td>NaN</td>\n",
       "      <td>0.000000</td>\n",
       "    </tr>\n",
       "    <tr>\n",
       "      <th>50%</th>\n",
       "      <td>1100.500000</td>\n",
       "      <td>3.000000</td>\n",
       "      <td>NaN</td>\n",
       "      <td>NaN</td>\n",
       "      <td>24.000000</td>\n",
       "      <td>0.000000</td>\n",
       "      <td>0.000000</td>\n",
       "      <td>NaN</td>\n",
       "      <td>14.454200</td>\n",
       "      <td>NaN</td>\n",
       "      <td>NaN</td>\n",
       "      <td>NaN</td>\n",
       "      <td>0.000000</td>\n",
       "    </tr>\n",
       "    <tr>\n",
       "      <th>75%</th>\n",
       "      <td>1204.750000</td>\n",
       "      <td>3.000000</td>\n",
       "      <td>NaN</td>\n",
       "      <td>NaN</td>\n",
       "      <td>35.750000</td>\n",
       "      <td>1.000000</td>\n",
       "      <td>0.000000</td>\n",
       "      <td>NaN</td>\n",
       "      <td>31.500000</td>\n",
       "      <td>NaN</td>\n",
       "      <td>NaN</td>\n",
       "      <td>NaN</td>\n",
       "      <td>0.000000</td>\n",
       "    </tr>\n",
       "    <tr>\n",
       "      <th>max</th>\n",
       "      <td>1309.000000</td>\n",
       "      <td>3.000000</td>\n",
       "      <td>NaN</td>\n",
       "      <td>NaN</td>\n",
       "      <td>76.000000</td>\n",
       "      <td>8.000000</td>\n",
       "      <td>9.000000</td>\n",
       "      <td>NaN</td>\n",
       "      <td>512.329200</td>\n",
       "      <td>NaN</td>\n",
       "      <td>NaN</td>\n",
       "      <td>NaN</td>\n",
       "      <td>1.000000</td>\n",
       "    </tr>\n",
       "  </tbody>\n",
       "</table>\n",
       "</div>"
      ],
      "text/plain": [
       "        PassengerId      Pclass              Name   Sex         Age  \\\n",
       "count    418.000000  418.000000               418   418  418.000000   \n",
       "unique          NaN         NaN               418     2         NaN   \n",
       "top             NaN         NaN  Kelly, Mr. James  male         NaN   \n",
       "freq            NaN         NaN                 1   266         NaN   \n",
       "mean    1100.500000    2.265550               NaN   NaN   23.941388   \n",
       "std      120.810458    0.841838               NaN   NaN   17.741080   \n",
       "min      892.000000    1.000000               NaN   NaN   -0.500000   \n",
       "25%      996.250000    1.000000               NaN   NaN    9.000000   \n",
       "50%     1100.500000    3.000000               NaN   NaN   24.000000   \n",
       "75%     1204.750000    3.000000               NaN   NaN   35.750000   \n",
       "max     1309.000000    3.000000               NaN   NaN   76.000000   \n",
       "\n",
       "             SibSp       Parch    Ticket        Fare            Cabin  \\\n",
       "count   418.000000  418.000000       418  417.000000               91   \n",
       "unique         NaN         NaN       363         NaN               76   \n",
       "top            NaN         NaN  PC 17608         NaN  B57 B59 B63 B66   \n",
       "freq           NaN         NaN         5         NaN                3   \n",
       "mean      0.447368    0.392344       NaN   35.627188              NaN   \n",
       "std       0.896760    0.981429       NaN   55.907576              NaN   \n",
       "min       0.000000    0.000000       NaN    0.000000              NaN   \n",
       "25%       0.000000    0.000000       NaN    7.895800              NaN   \n",
       "50%       0.000000    0.000000       NaN   14.454200              NaN   \n",
       "75%       1.000000    0.000000       NaN   31.500000              NaN   \n",
       "max       8.000000    9.000000       NaN  512.329200              NaN   \n",
       "\n",
       "       Embarked     AgeGroup   CabinBool  \n",
       "count       418          418  418.000000  \n",
       "unique        3            8         NaN  \n",
       "top           S  Young Adult         NaN  \n",
       "freq        270           96         NaN  \n",
       "mean        NaN          NaN    0.217703  \n",
       "std         NaN          NaN    0.413179  \n",
       "min         NaN          NaN    0.000000  \n",
       "25%         NaN          NaN    0.000000  \n",
       "50%         NaN          NaN    0.000000  \n",
       "75%         NaN          NaN    0.000000  \n",
       "max         NaN          NaN    1.000000  "
      ]
     },
     "execution_count": 11,
     "metadata": {},
     "output_type": "execute_result"
    }
   ],
   "source": [
    "test.describe(include=\"all\")"
   ]
  },
  {
   "cell_type": "code",
   "execution_count": 12,
   "id": "d3cc658c",
   "metadata": {
    "execution": {
     "iopub.execute_input": "2021-12-01T00:26:58.722893Z",
     "iopub.status.busy": "2021-12-01T00:26:58.721869Z",
     "iopub.status.idle": "2021-12-01T00:26:58.730659Z",
     "shell.execute_reply": "2021-12-01T00:26:58.731205Z",
     "shell.execute_reply.started": "2021-12-01T00:25:29.001257Z"
    },
    "papermill": {
     "duration": 0.062846,
     "end_time": "2021-12-01T00:26:58.731402",
     "exception": false,
     "start_time": "2021-12-01T00:26:58.668556",
     "status": "completed"
    },
    "tags": []
   },
   "outputs": [
    {
     "name": "stdout",
     "output_type": "stream",
     "text": [
      "PassengerId      0\n",
      "Survived         0\n",
      "Pclass           0\n",
      "Name             0\n",
      "Sex              0\n",
      "Age              0\n",
      "SibSp            0\n",
      "Parch            0\n",
      "Ticket           0\n",
      "Fare             0\n",
      "Cabin          687\n",
      "Embarked         2\n",
      "AgeGroup         0\n",
      "CabinBool        0\n",
      "dtype: int64\n"
     ]
    }
   ],
   "source": [
    "print(pd.isnull(train).sum())"
   ]
  },
  {
   "cell_type": "code",
   "execution_count": 13,
   "id": "be823633",
   "metadata": {
    "execution": {
     "iopub.execute_input": "2021-12-01T00:26:58.844277Z",
     "iopub.status.busy": "2021-12-01T00:26:58.843129Z",
     "iopub.status.idle": "2021-12-01T00:26:58.846967Z",
     "shell.execute_reply": "2021-12-01T00:26:58.847501Z",
     "shell.execute_reply.started": "2021-12-01T00:25:29.019739Z"
    },
    "papermill": {
     "duration": 0.062689,
     "end_time": "2021-12-01T00:26:58.847722",
     "exception": false,
     "start_time": "2021-12-01T00:26:58.785033",
     "status": "completed"
    },
    "tags": []
   },
   "outputs": [
    {
     "name": "stdout",
     "output_type": "stream",
     "text": [
      "PassengerId      0\n",
      "Pclass           0\n",
      "Name             0\n",
      "Sex              0\n",
      "Age              0\n",
      "SibSp            0\n",
      "Parch            0\n",
      "Ticket           0\n",
      "Fare             1\n",
      "Cabin          327\n",
      "Embarked         0\n",
      "AgeGroup         0\n",
      "CabinBool        0\n",
      "dtype: int64\n"
     ]
    }
   ],
   "source": [
    "print(pd.isnull(test).sum())"
   ]
  },
  {
   "cell_type": "markdown",
   "id": "bbf805af",
   "metadata": {
    "papermill": {
     "duration": 0.050544,
     "end_time": "2021-12-01T00:26:58.948376",
     "exception": false,
     "start_time": "2021-12-01T00:26:58.897832",
     "status": "completed"
    },
    "tags": []
   },
   "source": [
    "Такие данные, как возраст, стоимость проезда, количество братьев/сестер/супругов, количество родителей/детей относятся к количественным признакам.\n",
    "\n",
    "выжил/не выжил, класс пассажира, пол, порт посадки относятся к категориальным признакам.\n",
    "\n",
    "Номер билета, каюта, имя, порт посадки и пол являются строковыми данными. Также значения стоимости проезда и возраста принимают значения float.\n",
    "\n",
    "В обучающей выборке всего 891 пассажир, в тестовой 418. В обучающей выборке отсутствуют значения порта отправки. Как и в обучающей, так и в тестовой выборках отсутствуют значения возрастных признаков, также отсутствуют значения номеров кают. Так как пропусков в возрастных признаках не очень много, то лучшим решением будет найти алгоритм для их замены значениями. Номеров кают наоборот, отсутствует очень большое количество, поэтому заполнить значения чем-либо будет затруднительно и проще всего вовсе удалить признак из набора данных.\n",
    "\n",
    "Многие методы машинного анализа работают только с числовыми данными. Поэтому необходимо привести нечисловые параметры к числовым."
   ]
  },
  {
   "cell_type": "markdown",
   "id": "65eef7bf",
   "metadata": {
    "papermill": {
     "duration": 0.053274,
     "end_time": "2021-12-01T00:26:59.050182",
     "exception": false,
     "start_time": "2021-12-01T00:26:58.996908",
     "status": "completed"
    },
    "tags": []
   },
   "source": [
    "Для начала удалим номер каюты и номер билета из двух выборок, потому что эти данные не являются качественными"
   ]
  },
  {
   "cell_type": "code",
   "execution_count": 14,
   "id": "59072ccc",
   "metadata": {
    "execution": {
     "iopub.execute_input": "2021-12-01T00:26:59.159298Z",
     "iopub.status.busy": "2021-12-01T00:26:59.158338Z",
     "iopub.status.idle": "2021-12-01T00:26:59.165320Z",
     "shell.execute_reply": "2021-12-01T00:26:59.165918Z",
     "shell.execute_reply.started": "2021-12-01T00:25:29.037697Z"
    },
    "papermill": {
     "duration": 0.0659,
     "end_time": "2021-12-01T00:26:59.166123",
     "exception": false,
     "start_time": "2021-12-01T00:26:59.100223",
     "status": "completed"
    },
    "tags": []
   },
   "outputs": [],
   "source": [
    "train = train.drop(['Cabin'], axis = 1)\n",
    "test = test.drop(['Cabin'], axis = 1)"
   ]
  },
  {
   "cell_type": "code",
   "execution_count": 15,
   "id": "4b586786",
   "metadata": {
    "execution": {
     "iopub.execute_input": "2021-12-01T00:26:59.268847Z",
     "iopub.status.busy": "2021-12-01T00:26:59.268133Z",
     "iopub.status.idle": "2021-12-01T00:26:59.274773Z",
     "shell.execute_reply": "2021-12-01T00:26:59.275383Z",
     "shell.execute_reply.started": "2021-12-01T00:25:29.058687Z"
    },
    "papermill": {
     "duration": 0.060763,
     "end_time": "2021-12-01T00:26:59.275582",
     "exception": false,
     "start_time": "2021-12-01T00:26:59.214819",
     "status": "completed"
    },
    "tags": []
   },
   "outputs": [],
   "source": [
    "train = train.drop(['Ticket'], axis = 1)\n",
    "test = test.drop(['Ticket'], axis = 1)"
   ]
  },
  {
   "cell_type": "markdown",
   "id": "10d9dfd2",
   "metadata": {
    "papermill": {
     "duration": 0.051396,
     "end_time": "2021-12-01T00:26:59.377145",
     "exception": false,
     "start_time": "2021-12-01T00:26:59.325749",
     "status": "completed"
    },
    "tags": []
   },
   "source": [
    "Определим количество людей с каждого порта для обучающей выборки и заменим пропуски значением самого используемого."
   ]
  },
  {
   "cell_type": "code",
   "execution_count": 16,
   "id": "0cf1d266",
   "metadata": {
    "execution": {
     "iopub.execute_input": "2021-12-01T00:26:59.484340Z",
     "iopub.status.busy": "2021-12-01T00:26:59.483161Z",
     "iopub.status.idle": "2021-12-01T00:26:59.494233Z",
     "shell.execute_reply": "2021-12-01T00:26:59.494752Z",
     "shell.execute_reply.started": "2021-12-01T00:25:29.077208Z"
    },
    "papermill": {
     "duration": 0.066573,
     "end_time": "2021-12-01T00:26:59.494943",
     "exception": false,
     "start_time": "2021-12-01T00:26:59.428370",
     "status": "completed"
    },
    "tags": []
   },
   "outputs": [
    {
     "name": "stdout",
     "output_type": "stream",
     "text": [
      "Порт southampton:\n",
      "644\n",
      "Порт cherbourg:\n",
      "168\n",
      "Порт queenstown:\n",
      "77\n"
     ]
    }
   ],
   "source": [
    "print(\"Порт southampton:\")\n",
    "southampton = train[train[\"Embarked\"] == \"S\"].shape[0]\n",
    "print(southampton)\n",
    "\n",
    "print(\"Порт cherbourg:\")\n",
    "cherbourg = train[train[\"Embarked\"] == \"C\"].shape[0]\n",
    "print(cherbourg)\n",
    "\n",
    "print(\"Порт queenstown:\")\n",
    "queenstown = train[train[\"Embarked\"] == \"Q\"].shape[0]\n",
    "print(queenstown)"
   ]
  },
  {
   "cell_type": "code",
   "execution_count": 17,
   "id": "1fe5e1c2",
   "metadata": {
    "execution": {
     "iopub.execute_input": "2021-12-01T00:26:59.606576Z",
     "iopub.status.busy": "2021-12-01T00:26:59.605215Z",
     "iopub.status.idle": "2021-12-01T00:26:59.610005Z",
     "shell.execute_reply": "2021-12-01T00:26:59.610587Z",
     "shell.execute_reply.started": "2021-12-01T00:25:29.100250Z"
    },
    "papermill": {
     "duration": 0.061671,
     "end_time": "2021-12-01T00:26:59.610796",
     "exception": false,
     "start_time": "2021-12-01T00:26:59.549125",
     "status": "completed"
    },
    "tags": []
   },
   "outputs": [],
   "source": [
    "#Функцией fillna заменяем пустые строки значением порта southampton\n",
    "train = train.fillna({\"Embarked\": \"S\"})"
   ]
  },
  {
   "cell_type": "markdown",
   "id": "981b2dfb",
   "metadata": {
    "papermill": {
     "duration": 0.052124,
     "end_time": "2021-12-01T00:26:59.715176",
     "exception": false,
     "start_time": "2021-12-01T00:26:59.663052",
     "status": "completed"
    },
    "tags": []
   },
   "source": [
    "Найдем метод предсказания возрастного признака для недостающих значений"
   ]
  },
  {
   "cell_type": "code",
   "execution_count": 18,
   "id": "7c4c9f4e",
   "metadata": {
    "execution": {
     "iopub.execute_input": "2021-12-01T00:26:59.819303Z",
     "iopub.status.busy": "2021-12-01T00:26:59.818563Z",
     "iopub.status.idle": "2021-12-01T00:26:59.849122Z",
     "shell.execute_reply": "2021-12-01T00:26:59.849752Z",
     "shell.execute_reply.started": "2021-12-01T00:25:29.114419Z"
    },
    "papermill": {
     "duration": 0.083806,
     "end_time": "2021-12-01T00:26:59.849932",
     "exception": false,
     "start_time": "2021-12-01T00:26:59.766126",
     "status": "completed"
    },
    "tags": []
   },
   "outputs": [
    {
     "data": {
      "text/html": [
       "<div>\n",
       "<style scoped>\n",
       "    .dataframe tbody tr th:only-of-type {\n",
       "        vertical-align: middle;\n",
       "    }\n",
       "\n",
       "    .dataframe tbody tr th {\n",
       "        vertical-align: top;\n",
       "    }\n",
       "\n",
       "    .dataframe thead th {\n",
       "        text-align: right;\n",
       "    }\n",
       "</style>\n",
       "<table border=\"1\" class=\"dataframe\">\n",
       "  <thead>\n",
       "    <tr style=\"text-align: right;\">\n",
       "      <th>Sex</th>\n",
       "      <th>female</th>\n",
       "      <th>male</th>\n",
       "    </tr>\n",
       "    <tr>\n",
       "      <th>Title</th>\n",
       "      <th></th>\n",
       "      <th></th>\n",
       "    </tr>\n",
       "  </thead>\n",
       "  <tbody>\n",
       "    <tr>\n",
       "      <th>Capt</th>\n",
       "      <td>0</td>\n",
       "      <td>1</td>\n",
       "    </tr>\n",
       "    <tr>\n",
       "      <th>Col</th>\n",
       "      <td>0</td>\n",
       "      <td>2</td>\n",
       "    </tr>\n",
       "    <tr>\n",
       "      <th>Countess</th>\n",
       "      <td>1</td>\n",
       "      <td>0</td>\n",
       "    </tr>\n",
       "    <tr>\n",
       "      <th>Don</th>\n",
       "      <td>0</td>\n",
       "      <td>1</td>\n",
       "    </tr>\n",
       "    <tr>\n",
       "      <th>Dr</th>\n",
       "      <td>1</td>\n",
       "      <td>6</td>\n",
       "    </tr>\n",
       "    <tr>\n",
       "      <th>Jonkheer</th>\n",
       "      <td>0</td>\n",
       "      <td>1</td>\n",
       "    </tr>\n",
       "    <tr>\n",
       "      <th>Lady</th>\n",
       "      <td>1</td>\n",
       "      <td>0</td>\n",
       "    </tr>\n",
       "    <tr>\n",
       "      <th>Major</th>\n",
       "      <td>0</td>\n",
       "      <td>2</td>\n",
       "    </tr>\n",
       "    <tr>\n",
       "      <th>Master</th>\n",
       "      <td>0</td>\n",
       "      <td>40</td>\n",
       "    </tr>\n",
       "    <tr>\n",
       "      <th>Miss</th>\n",
       "      <td>182</td>\n",
       "      <td>0</td>\n",
       "    </tr>\n",
       "    <tr>\n",
       "      <th>Mlle</th>\n",
       "      <td>2</td>\n",
       "      <td>0</td>\n",
       "    </tr>\n",
       "    <tr>\n",
       "      <th>Mme</th>\n",
       "      <td>1</td>\n",
       "      <td>0</td>\n",
       "    </tr>\n",
       "    <tr>\n",
       "      <th>Mr</th>\n",
       "      <td>0</td>\n",
       "      <td>517</td>\n",
       "    </tr>\n",
       "    <tr>\n",
       "      <th>Mrs</th>\n",
       "      <td>125</td>\n",
       "      <td>0</td>\n",
       "    </tr>\n",
       "    <tr>\n",
       "      <th>Ms</th>\n",
       "      <td>1</td>\n",
       "      <td>0</td>\n",
       "    </tr>\n",
       "    <tr>\n",
       "      <th>Rev</th>\n",
       "      <td>0</td>\n",
       "      <td>6</td>\n",
       "    </tr>\n",
       "    <tr>\n",
       "      <th>Sir</th>\n",
       "      <td>0</td>\n",
       "      <td>1</td>\n",
       "    </tr>\n",
       "  </tbody>\n",
       "</table>\n",
       "</div>"
      ],
      "text/plain": [
       "Sex       female  male\n",
       "Title                 \n",
       "Capt           0     1\n",
       "Col            0     2\n",
       "Countess       1     0\n",
       "Don            0     1\n",
       "Dr             1     6\n",
       "Jonkheer       0     1\n",
       "Lady           1     0\n",
       "Major          0     2\n",
       "Master         0    40\n",
       "Miss         182     0\n",
       "Mlle           2     0\n",
       "Mme            1     0\n",
       "Mr             0   517\n",
       "Mrs          125     0\n",
       "Ms             1     0\n",
       "Rev            0     6\n",
       "Sir            0     1"
      ]
     },
     "execution_count": 18,
     "metadata": {},
     "output_type": "execute_result"
    }
   ],
   "source": [
    "#Создадим обьединенную выборку\n",
    "combine = [train, test]\n",
    "\n",
    "#определим титул к каждому имени пассажира и выведем их\n",
    "for dataset in combine:\n",
    "    dataset['Title'] = dataset.Name.str.extract(' ([A-Za-z]+)\\.', expand=False)\n",
    "#функция crosstab выводит частоту появления данных\n",
    "pd.crosstab(train['Title'], train['Sex'])"
   ]
  },
  {
   "cell_type": "code",
   "execution_count": 19,
   "id": "254ca066",
   "metadata": {
    "execution": {
     "iopub.execute_input": "2021-12-01T00:26:59.956708Z",
     "iopub.status.busy": "2021-12-01T00:26:59.955908Z",
     "iopub.status.idle": "2021-12-01T00:26:59.981169Z",
     "shell.execute_reply": "2021-12-01T00:26:59.981770Z",
     "shell.execute_reply.started": "2021-12-01T00:25:29.152037Z"
    },
    "papermill": {
     "duration": 0.083033,
     "end_time": "2021-12-01T00:26:59.981951",
     "exception": false,
     "start_time": "2021-12-01T00:26:59.898918",
     "status": "completed"
    },
    "tags": []
   },
   "outputs": [
    {
     "data": {
      "text/html": [
       "<div>\n",
       "<style scoped>\n",
       "    .dataframe tbody tr th:only-of-type {\n",
       "        vertical-align: middle;\n",
       "    }\n",
       "\n",
       "    .dataframe tbody tr th {\n",
       "        vertical-align: top;\n",
       "    }\n",
       "\n",
       "    .dataframe thead th {\n",
       "        text-align: right;\n",
       "    }\n",
       "</style>\n",
       "<table border=\"1\" class=\"dataframe\">\n",
       "  <thead>\n",
       "    <tr style=\"text-align: right;\">\n",
       "      <th></th>\n",
       "      <th>Title</th>\n",
       "      <th>Survived</th>\n",
       "    </tr>\n",
       "  </thead>\n",
       "  <tbody>\n",
       "    <tr>\n",
       "      <th>0</th>\n",
       "      <td>Master</td>\n",
       "      <td>0.575000</td>\n",
       "    </tr>\n",
       "    <tr>\n",
       "      <th>1</th>\n",
       "      <td>Miss</td>\n",
       "      <td>0.702703</td>\n",
       "    </tr>\n",
       "    <tr>\n",
       "      <th>2</th>\n",
       "      <td>Mr</td>\n",
       "      <td>0.156673</td>\n",
       "    </tr>\n",
       "    <tr>\n",
       "      <th>3</th>\n",
       "      <td>Mrs</td>\n",
       "      <td>0.793651</td>\n",
       "    </tr>\n",
       "    <tr>\n",
       "      <th>4</th>\n",
       "      <td>Rare</td>\n",
       "      <td>0.285714</td>\n",
       "    </tr>\n",
       "    <tr>\n",
       "      <th>5</th>\n",
       "      <td>Royal</td>\n",
       "      <td>1.000000</td>\n",
       "    </tr>\n",
       "  </tbody>\n",
       "</table>\n",
       "</div>"
      ],
      "text/plain": [
       "    Title  Survived\n",
       "0  Master  0.575000\n",
       "1    Miss  0.702703\n",
       "2      Mr  0.156673\n",
       "3     Mrs  0.793651\n",
       "4    Rare  0.285714\n",
       "5   Royal  1.000000"
      ]
     },
     "execution_count": 19,
     "metadata": {},
     "output_type": "execute_result"
    }
   ],
   "source": [
    "#обьеденим титулы в более общий вид\n",
    "for dataset in combine:\n",
    "    dataset['Title'] = dataset['Title'].replace(['Lady', 'Capt', 'Col',\n",
    "    'Don', 'Dr', 'Major', 'Rev', 'Jonkheer', 'Dona'], 'Rare')\n",
    "    \n",
    "    dataset['Title'] = dataset['Title'].replace(['Countess', 'Lady', 'Sir'], 'Royal')\n",
    "    dataset['Title'] = dataset['Title'].replace('Mlle', 'Miss')\n",
    "    dataset['Title'] = dataset['Title'].replace('Ms', 'Miss')\n",
    "    dataset['Title'] = dataset['Title'].replace('Mme', 'Mrs')\n",
    "\n",
    "train[['Title', 'Survived']].groupby(['Title'], as_index=False).mean()"
   ]
  },
  {
   "cell_type": "code",
   "execution_count": 20,
   "id": "7c76008c",
   "metadata": {
    "execution": {
     "iopub.execute_input": "2021-12-01T00:27:00.095162Z",
     "iopub.status.busy": "2021-12-01T00:27:00.091694Z",
     "iopub.status.idle": "2021-12-01T00:27:00.112566Z",
     "shell.execute_reply": "2021-12-01T00:27:00.113173Z",
     "shell.execute_reply.started": "2021-12-01T00:25:29.186796Z"
    },
    "papermill": {
     "duration": 0.07883,
     "end_time": "2021-12-01T00:27:00.113377",
     "exception": false,
     "start_time": "2021-12-01T00:27:00.034547",
     "status": "completed"
    },
    "tags": []
   },
   "outputs": [
    {
     "data": {
      "text/html": [
       "<div>\n",
       "<style scoped>\n",
       "    .dataframe tbody tr th:only-of-type {\n",
       "        vertical-align: middle;\n",
       "    }\n",
       "\n",
       "    .dataframe tbody tr th {\n",
       "        vertical-align: top;\n",
       "    }\n",
       "\n",
       "    .dataframe thead th {\n",
       "        text-align: right;\n",
       "    }\n",
       "</style>\n",
       "<table border=\"1\" class=\"dataframe\">\n",
       "  <thead>\n",
       "    <tr style=\"text-align: right;\">\n",
       "      <th></th>\n",
       "      <th>PassengerId</th>\n",
       "      <th>Survived</th>\n",
       "      <th>Pclass</th>\n",
       "      <th>Name</th>\n",
       "      <th>Sex</th>\n",
       "      <th>Age</th>\n",
       "      <th>SibSp</th>\n",
       "      <th>Parch</th>\n",
       "      <th>Fare</th>\n",
       "      <th>Embarked</th>\n",
       "      <th>AgeGroup</th>\n",
       "      <th>CabinBool</th>\n",
       "      <th>Title</th>\n",
       "    </tr>\n",
       "  </thead>\n",
       "  <tbody>\n",
       "    <tr>\n",
       "      <th>0</th>\n",
       "      <td>1</td>\n",
       "      <td>0</td>\n",
       "      <td>3</td>\n",
       "      <td>Braund, Mr. Owen Harris</td>\n",
       "      <td>male</td>\n",
       "      <td>22.0</td>\n",
       "      <td>1</td>\n",
       "      <td>0</td>\n",
       "      <td>7.2500</td>\n",
       "      <td>S</td>\n",
       "      <td>Student</td>\n",
       "      <td>0</td>\n",
       "      <td>1</td>\n",
       "    </tr>\n",
       "    <tr>\n",
       "      <th>1</th>\n",
       "      <td>2</td>\n",
       "      <td>1</td>\n",
       "      <td>1</td>\n",
       "      <td>Cumings, Mrs. John Bradley (Florence Briggs Th...</td>\n",
       "      <td>female</td>\n",
       "      <td>38.0</td>\n",
       "      <td>1</td>\n",
       "      <td>0</td>\n",
       "      <td>71.2833</td>\n",
       "      <td>C</td>\n",
       "      <td>Adult</td>\n",
       "      <td>1</td>\n",
       "      <td>3</td>\n",
       "    </tr>\n",
       "    <tr>\n",
       "      <th>2</th>\n",
       "      <td>3</td>\n",
       "      <td>1</td>\n",
       "      <td>3</td>\n",
       "      <td>Heikkinen, Miss. Laina</td>\n",
       "      <td>female</td>\n",
       "      <td>26.0</td>\n",
       "      <td>0</td>\n",
       "      <td>0</td>\n",
       "      <td>7.9250</td>\n",
       "      <td>S</td>\n",
       "      <td>Young Adult</td>\n",
       "      <td>0</td>\n",
       "      <td>2</td>\n",
       "    </tr>\n",
       "    <tr>\n",
       "      <th>3</th>\n",
       "      <td>4</td>\n",
       "      <td>1</td>\n",
       "      <td>1</td>\n",
       "      <td>Futrelle, Mrs. Jacques Heath (Lily May Peel)</td>\n",
       "      <td>female</td>\n",
       "      <td>35.0</td>\n",
       "      <td>1</td>\n",
       "      <td>0</td>\n",
       "      <td>53.1000</td>\n",
       "      <td>S</td>\n",
       "      <td>Young Adult</td>\n",
       "      <td>1</td>\n",
       "      <td>3</td>\n",
       "    </tr>\n",
       "    <tr>\n",
       "      <th>4</th>\n",
       "      <td>5</td>\n",
       "      <td>0</td>\n",
       "      <td>3</td>\n",
       "      <td>Allen, Mr. William Henry</td>\n",
       "      <td>male</td>\n",
       "      <td>35.0</td>\n",
       "      <td>0</td>\n",
       "      <td>0</td>\n",
       "      <td>8.0500</td>\n",
       "      <td>S</td>\n",
       "      <td>Young Adult</td>\n",
       "      <td>0</td>\n",
       "      <td>1</td>\n",
       "    </tr>\n",
       "  </tbody>\n",
       "</table>\n",
       "</div>"
      ],
      "text/plain": [
       "   PassengerId  Survived  Pclass  \\\n",
       "0            1         0       3   \n",
       "1            2         1       1   \n",
       "2            3         1       3   \n",
       "3            4         1       1   \n",
       "4            5         0       3   \n",
       "\n",
       "                                                Name     Sex   Age  SibSp  \\\n",
       "0                            Braund, Mr. Owen Harris    male  22.0      1   \n",
       "1  Cumings, Mrs. John Bradley (Florence Briggs Th...  female  38.0      1   \n",
       "2                             Heikkinen, Miss. Laina  female  26.0      0   \n",
       "3       Futrelle, Mrs. Jacques Heath (Lily May Peel)  female  35.0      1   \n",
       "4                           Allen, Mr. William Henry    male  35.0      0   \n",
       "\n",
       "   Parch     Fare Embarked     AgeGroup  CabinBool  Title  \n",
       "0      0   7.2500        S      Student          0      1  \n",
       "1      0  71.2833        C        Adult          1      3  \n",
       "2      0   7.9250        S  Young Adult          0      2  \n",
       "3      0  53.1000        S  Young Adult          1      3  \n",
       "4      0   8.0500        S  Young Adult          0      1  "
      ]
     },
     "execution_count": 20,
     "metadata": {},
     "output_type": "execute_result"
    }
   ],
   "source": [
    "#Каждому титулу поставим в соответствие номер\n",
    "title_mapping = {\"Mr\": 1, \"Miss\": 2, \"Mrs\": 3, \"Master\": 4, \"Royal\": 5, \"Rare\": 6}\n",
    "#заменим эти номера в выборке вместо самих титулов с помощью функции map\n",
    "for dataset in combine:\n",
    "    dataset['Title'] = dataset['Title'].map(title_mapping)\n",
    "    dataset['Title'] = dataset['Title'].fillna(0)\n",
    "\n",
    "train.head()"
   ]
  },
  {
   "cell_type": "code",
   "execution_count": 21,
   "id": "d6ca2101",
   "metadata": {
    "execution": {
     "iopub.execute_input": "2021-12-01T00:27:00.221141Z",
     "iopub.status.busy": "2021-12-01T00:27:00.220369Z",
     "iopub.status.idle": "2021-12-01T00:27:00.370233Z",
     "shell.execute_reply": "2021-12-01T00:27:00.369568Z",
     "shell.execute_reply.started": "2021-12-01T00:25:29.218907Z"
    },
    "papermill": {
     "duration": 0.203822,
     "end_time": "2021-12-01T00:27:00.370387",
     "exception": false,
     "start_time": "2021-12-01T00:27:00.166565",
     "status": "completed"
    },
    "tags": []
   },
   "outputs": [],
   "source": [
    "#значения возрастного признака для каждого титула рассчитаем через средние значения возрастной категории, созданной ранее\n",
    "mr_age = train[train[\"Title\"] == 1][\"AgeGroup\"].mode() #Young Adult\n",
    "miss_age = train[train[\"Title\"] == 2][\"AgeGroup\"].mode() #Student\n",
    "mrs_age = train[train[\"Title\"] == 3][\"AgeGroup\"].mode() #Adult\n",
    "master_age = train[train[\"Title\"] == 4][\"AgeGroup\"].mode() #Baby\n",
    "royal_age = train[train[\"Title\"] == 5][\"AgeGroup\"].mode() #Adult\n",
    "rare_age = train[train[\"Title\"] == 6][\"AgeGroup\"].mode() #Adult\n",
    "#соотнесем значения титула в виде номера с возрастной категорией\n",
    "age_title_mapping = {1: \"Young Adult\", 2: \"Student\", 3: \"Adult\", 4: \"Baby\", 5: \"Adult\", 6: \"Adult\"}\n",
    "#заменим пропуски в серии возрастных категорий соответствующими категориями найденными через титулы\n",
    "for x in range(len(train[\"AgeGroup\"])):\n",
    "    if train[\"AgeGroup\"][x] == \"Unknown\":\n",
    "        train[\"AgeGroup\"][x] = age_title_mapping[train[\"Title\"][x]]\n",
    "        \n",
    "for x in range(len(test[\"AgeGroup\"])):\n",
    "    if test[\"AgeGroup\"][x] == \"Unknown\":\n",
    "        test[\"AgeGroup\"][x] = age_title_mapping[test[\"Title\"][x]]"
   ]
  },
  {
   "cell_type": "code",
   "execution_count": 22,
   "id": "73564e68",
   "metadata": {
    "execution": {
     "iopub.execute_input": "2021-12-01T00:27:00.475920Z",
     "iopub.status.busy": "2021-12-01T00:27:00.474610Z",
     "iopub.status.idle": "2021-12-01T00:27:00.486612Z",
     "shell.execute_reply": "2021-12-01T00:27:00.487175Z",
     "shell.execute_reply.started": "2021-12-01T00:25:29.375186Z"
    },
    "papermill": {
     "duration": 0.065975,
     "end_time": "2021-12-01T00:27:00.487385",
     "exception": false,
     "start_time": "2021-12-01T00:27:00.421410",
     "status": "completed"
    },
    "tags": []
   },
   "outputs": [],
   "source": [
    "#заменим каждую возрастную категорию соответствующим номером\n",
    "age_mapping = {'Baby': 1, 'Child': 2, 'Teenager': 3, 'Student': 4, 'Young Adult': 5, 'Adult': 6, 'Senior': 7}\n",
    "train['AgeGroup'] = train['AgeGroup'].map(age_mapping)\n",
    "test['AgeGroup'] = test['AgeGroup'].map(age_mapping)\n",
    "\n",
    "#так как мы уже нашли пропуски в возрастном признаке, создав признак возрастной категории и подобрав для него значения, то возрастной признак удалим за ненадобностью\n",
    "train = train.drop(['Age'], axis = 1)\n",
    "test = test.drop(['Age'], axis = 1)"
   ]
  },
  {
   "cell_type": "code",
   "execution_count": 23,
   "id": "46550ccf",
   "metadata": {
    "execution": {
     "iopub.execute_input": "2021-12-01T00:27:00.599549Z",
     "iopub.status.busy": "2021-12-01T00:27:00.598856Z",
     "iopub.status.idle": "2021-12-01T00:27:00.616122Z",
     "shell.execute_reply": "2021-12-01T00:27:00.616695Z",
     "shell.execute_reply.started": "2021-12-01T00:25:29.389727Z"
    },
    "papermill": {
     "duration": 0.077297,
     "end_time": "2021-12-01T00:27:00.616879",
     "exception": false,
     "start_time": "2021-12-01T00:27:00.539582",
     "status": "completed"
    },
    "tags": []
   },
   "outputs": [
    {
     "data": {
      "text/html": [
       "<div>\n",
       "<style scoped>\n",
       "    .dataframe tbody tr th:only-of-type {\n",
       "        vertical-align: middle;\n",
       "    }\n",
       "\n",
       "    .dataframe tbody tr th {\n",
       "        vertical-align: top;\n",
       "    }\n",
       "\n",
       "    .dataframe thead th {\n",
       "        text-align: right;\n",
       "    }\n",
       "</style>\n",
       "<table border=\"1\" class=\"dataframe\">\n",
       "  <thead>\n",
       "    <tr style=\"text-align: right;\">\n",
       "      <th></th>\n",
       "      <th>PassengerId</th>\n",
       "      <th>Survived</th>\n",
       "      <th>Pclass</th>\n",
       "      <th>Name</th>\n",
       "      <th>Sex</th>\n",
       "      <th>SibSp</th>\n",
       "      <th>Parch</th>\n",
       "      <th>Fare</th>\n",
       "      <th>Embarked</th>\n",
       "      <th>AgeGroup</th>\n",
       "      <th>CabinBool</th>\n",
       "      <th>Title</th>\n",
       "    </tr>\n",
       "  </thead>\n",
       "  <tbody>\n",
       "    <tr>\n",
       "      <th>0</th>\n",
       "      <td>1</td>\n",
       "      <td>0</td>\n",
       "      <td>3</td>\n",
       "      <td>Braund, Mr. Owen Harris</td>\n",
       "      <td>male</td>\n",
       "      <td>1</td>\n",
       "      <td>0</td>\n",
       "      <td>7.2500</td>\n",
       "      <td>S</td>\n",
       "      <td>4.0</td>\n",
       "      <td>0</td>\n",
       "      <td>1</td>\n",
       "    </tr>\n",
       "    <tr>\n",
       "      <th>1</th>\n",
       "      <td>2</td>\n",
       "      <td>1</td>\n",
       "      <td>1</td>\n",
       "      <td>Cumings, Mrs. John Bradley (Florence Briggs Th...</td>\n",
       "      <td>female</td>\n",
       "      <td>1</td>\n",
       "      <td>0</td>\n",
       "      <td>71.2833</td>\n",
       "      <td>C</td>\n",
       "      <td>6.0</td>\n",
       "      <td>1</td>\n",
       "      <td>3</td>\n",
       "    </tr>\n",
       "    <tr>\n",
       "      <th>2</th>\n",
       "      <td>3</td>\n",
       "      <td>1</td>\n",
       "      <td>3</td>\n",
       "      <td>Heikkinen, Miss. Laina</td>\n",
       "      <td>female</td>\n",
       "      <td>0</td>\n",
       "      <td>0</td>\n",
       "      <td>7.9250</td>\n",
       "      <td>S</td>\n",
       "      <td>5.0</td>\n",
       "      <td>0</td>\n",
       "      <td>2</td>\n",
       "    </tr>\n",
       "    <tr>\n",
       "      <th>3</th>\n",
       "      <td>4</td>\n",
       "      <td>1</td>\n",
       "      <td>1</td>\n",
       "      <td>Futrelle, Mrs. Jacques Heath (Lily May Peel)</td>\n",
       "      <td>female</td>\n",
       "      <td>1</td>\n",
       "      <td>0</td>\n",
       "      <td>53.1000</td>\n",
       "      <td>S</td>\n",
       "      <td>5.0</td>\n",
       "      <td>1</td>\n",
       "      <td>3</td>\n",
       "    </tr>\n",
       "    <tr>\n",
       "      <th>4</th>\n",
       "      <td>5</td>\n",
       "      <td>0</td>\n",
       "      <td>3</td>\n",
       "      <td>Allen, Mr. William Henry</td>\n",
       "      <td>male</td>\n",
       "      <td>0</td>\n",
       "      <td>0</td>\n",
       "      <td>8.0500</td>\n",
       "      <td>S</td>\n",
       "      <td>5.0</td>\n",
       "      <td>0</td>\n",
       "      <td>1</td>\n",
       "    </tr>\n",
       "    <tr>\n",
       "      <th>5</th>\n",
       "      <td>6</td>\n",
       "      <td>0</td>\n",
       "      <td>3</td>\n",
       "      <td>Moran, Mr. James</td>\n",
       "      <td>male</td>\n",
       "      <td>0</td>\n",
       "      <td>0</td>\n",
       "      <td>8.4583</td>\n",
       "      <td>Q</td>\n",
       "      <td>5.0</td>\n",
       "      <td>0</td>\n",
       "      <td>1</td>\n",
       "    </tr>\n",
       "    <tr>\n",
       "      <th>6</th>\n",
       "      <td>7</td>\n",
       "      <td>0</td>\n",
       "      <td>1</td>\n",
       "      <td>McCarthy, Mr. Timothy J</td>\n",
       "      <td>male</td>\n",
       "      <td>0</td>\n",
       "      <td>0</td>\n",
       "      <td>51.8625</td>\n",
       "      <td>S</td>\n",
       "      <td>6.0</td>\n",
       "      <td>1</td>\n",
       "      <td>1</td>\n",
       "    </tr>\n",
       "    <tr>\n",
       "      <th>7</th>\n",
       "      <td>8</td>\n",
       "      <td>0</td>\n",
       "      <td>3</td>\n",
       "      <td>Palsson, Master. Gosta Leonard</td>\n",
       "      <td>male</td>\n",
       "      <td>3</td>\n",
       "      <td>1</td>\n",
       "      <td>21.0750</td>\n",
       "      <td>S</td>\n",
       "      <td>1.0</td>\n",
       "      <td>0</td>\n",
       "      <td>4</td>\n",
       "    </tr>\n",
       "    <tr>\n",
       "      <th>8</th>\n",
       "      <td>9</td>\n",
       "      <td>1</td>\n",
       "      <td>3</td>\n",
       "      <td>Johnson, Mrs. Oscar W (Elisabeth Vilhelmina Berg)</td>\n",
       "      <td>female</td>\n",
       "      <td>0</td>\n",
       "      <td>2</td>\n",
       "      <td>11.1333</td>\n",
       "      <td>S</td>\n",
       "      <td>5.0</td>\n",
       "      <td>0</td>\n",
       "      <td>3</td>\n",
       "    </tr>\n",
       "    <tr>\n",
       "      <th>9</th>\n",
       "      <td>10</td>\n",
       "      <td>1</td>\n",
       "      <td>2</td>\n",
       "      <td>Nasser, Mrs. Nicholas (Adele Achem)</td>\n",
       "      <td>female</td>\n",
       "      <td>1</td>\n",
       "      <td>0</td>\n",
       "      <td>30.0708</td>\n",
       "      <td>C</td>\n",
       "      <td>3.0</td>\n",
       "      <td>0</td>\n",
       "      <td>3</td>\n",
       "    </tr>\n",
       "  </tbody>\n",
       "</table>\n",
       "</div>"
      ],
      "text/plain": [
       "   PassengerId  Survived  Pclass  \\\n",
       "0            1         0       3   \n",
       "1            2         1       1   \n",
       "2            3         1       3   \n",
       "3            4         1       1   \n",
       "4            5         0       3   \n",
       "5            6         0       3   \n",
       "6            7         0       1   \n",
       "7            8         0       3   \n",
       "8            9         1       3   \n",
       "9           10         1       2   \n",
       "\n",
       "                                                Name     Sex  SibSp  Parch  \\\n",
       "0                            Braund, Mr. Owen Harris    male      1      0   \n",
       "1  Cumings, Mrs. John Bradley (Florence Briggs Th...  female      1      0   \n",
       "2                             Heikkinen, Miss. Laina  female      0      0   \n",
       "3       Futrelle, Mrs. Jacques Heath (Lily May Peel)  female      1      0   \n",
       "4                           Allen, Mr. William Henry    male      0      0   \n",
       "5                                   Moran, Mr. James    male      0      0   \n",
       "6                            McCarthy, Mr. Timothy J    male      0      0   \n",
       "7                     Palsson, Master. Gosta Leonard    male      3      1   \n",
       "8  Johnson, Mrs. Oscar W (Elisabeth Vilhelmina Berg)  female      0      2   \n",
       "9                Nasser, Mrs. Nicholas (Adele Achem)  female      1      0   \n",
       "\n",
       "      Fare Embarked  AgeGroup  CabinBool  Title  \n",
       "0   7.2500        S       4.0          0      1  \n",
       "1  71.2833        C       6.0          1      3  \n",
       "2   7.9250        S       5.0          0      2  \n",
       "3  53.1000        S       5.0          1      3  \n",
       "4   8.0500        S       5.0          0      1  \n",
       "5   8.4583        Q       5.0          0      1  \n",
       "6  51.8625        S       6.0          1      1  \n",
       "7  21.0750        S       1.0          0      4  \n",
       "8  11.1333        S       5.0          0      3  \n",
       "9  30.0708        C       3.0          0      3  "
      ]
     },
     "execution_count": 23,
     "metadata": {},
     "output_type": "execute_result"
    }
   ],
   "source": [
    "train.head(10)"
   ]
  },
  {
   "cell_type": "code",
   "execution_count": 24,
   "id": "b9bb5f1c",
   "metadata": {
    "execution": {
     "iopub.execute_input": "2021-12-01T00:27:00.731009Z",
     "iopub.status.busy": "2021-12-01T00:27:00.730239Z",
     "iopub.status.idle": "2021-12-01T00:27:00.736882Z",
     "shell.execute_reply": "2021-12-01T00:27:00.737495Z",
     "shell.execute_reply.started": "2021-12-01T00:25:29.414351Z"
    },
    "papermill": {
     "duration": 0.063943,
     "end_time": "2021-12-01T00:27:00.737721",
     "exception": false,
     "start_time": "2021-12-01T00:27:00.673778",
     "status": "completed"
    },
    "tags": []
   },
   "outputs": [
    {
     "name": "stdout",
     "output_type": "stream",
     "text": [
      "PassengerId    0\n",
      "Pclass         0\n",
      "Name           0\n",
      "Sex            0\n",
      "SibSp          0\n",
      "Parch          0\n",
      "Fare           1\n",
      "Embarked       0\n",
      "AgeGroup       0\n",
      "CabinBool      0\n",
      "Title          0\n",
      "dtype: int64\n"
     ]
    }
   ],
   "source": [
    "print(pd.isnull(test).sum())"
   ]
  },
  {
   "cell_type": "markdown",
   "id": "6d60eb8e",
   "metadata": {
    "papermill": {
     "duration": 0.051362,
     "end_time": "2021-12-01T00:27:00.843977",
     "exception": false,
     "start_time": "2021-12-01T00:27:00.792615",
     "status": "completed"
    },
    "tags": []
   },
   "source": [
    "Так как признак имени больше не представляет качественные данные, то можно его удалить"
   ]
  },
  {
   "cell_type": "code",
   "execution_count": 25,
   "id": "7a319e3a",
   "metadata": {
    "execution": {
     "iopub.execute_input": "2021-12-01T00:27:00.954631Z",
     "iopub.status.busy": "2021-12-01T00:27:00.953854Z",
     "iopub.status.idle": "2021-12-01T00:27:00.957868Z",
     "shell.execute_reply": "2021-12-01T00:27:00.958427Z",
     "shell.execute_reply.started": "2021-12-01T00:25:29.431046Z"
    },
    "papermill": {
     "duration": 0.06253,
     "end_time": "2021-12-01T00:27:00.958614",
     "exception": false,
     "start_time": "2021-12-01T00:27:00.896084",
     "status": "completed"
    },
    "tags": []
   },
   "outputs": [],
   "source": [
    "train = train.drop(['Name'], axis = 1)\n",
    "test = test.drop(['Name'], axis = 1)"
   ]
  },
  {
   "cell_type": "markdown",
   "id": "616b01a3",
   "metadata": {
    "papermill": {
     "duration": 0.052102,
     "end_time": "2021-12-01T00:27:01.062195",
     "exception": false,
     "start_time": "2021-12-01T00:27:01.010093",
     "status": "completed"
    },
    "tags": []
   },
   "source": [
    "Заменим строковые значения пола числовыми 0 для мужчин и 1 для женщин. Также строковые значения портов посадки заменим на числовые."
   ]
  },
  {
   "cell_type": "code",
   "execution_count": 26,
   "id": "f2df9131",
   "metadata": {
    "execution": {
     "iopub.execute_input": "2021-12-01T00:27:01.177558Z",
     "iopub.status.busy": "2021-12-01T00:27:01.176449Z",
     "iopub.status.idle": "2021-12-01T00:27:01.184226Z",
     "shell.execute_reply": "2021-12-01T00:27:01.184807Z",
     "shell.execute_reply.started": "2021-12-01T00:25:29.445604Z"
    },
    "papermill": {
     "duration": 0.066062,
     "end_time": "2021-12-01T00:27:01.184991",
     "exception": false,
     "start_time": "2021-12-01T00:27:01.118929",
     "status": "completed"
    },
    "tags": []
   },
   "outputs": [],
   "source": [
    "sex_mapping = {\"male\": 0, \"female\": 1}\n",
    "train['Sex'] = train['Sex'].map(sex_mapping)\n",
    "test['Sex'] = test['Sex'].map(sex_mapping)"
   ]
  },
  {
   "cell_type": "code",
   "execution_count": 27,
   "id": "acbe015a",
   "metadata": {
    "execution": {
     "iopub.execute_input": "2021-12-01T00:27:01.295908Z",
     "iopub.status.busy": "2021-12-01T00:27:01.294868Z",
     "iopub.status.idle": "2021-12-01T00:27:01.304181Z",
     "shell.execute_reply": "2021-12-01T00:27:01.304973Z",
     "shell.execute_reply.started": "2021-12-01T00:25:29.461848Z"
    },
    "papermill": {
     "duration": 0.067414,
     "end_time": "2021-12-01T00:27:01.305196",
     "exception": false,
     "start_time": "2021-12-01T00:27:01.237782",
     "status": "completed"
    },
    "tags": []
   },
   "outputs": [],
   "source": [
    "embarked_mapping = {\"S\": 1, \"C\": 2, \"Q\": 3}\n",
    "train['Embarked'] = train['Embarked'].map(embarked_mapping)\n",
    "test['Embarked'] = test['Embarked'].map(embarked_mapping)"
   ]
  },
  {
   "cell_type": "markdown",
   "id": "da6ce5ea",
   "metadata": {
    "papermill": {
     "duration": 0.054689,
     "end_time": "2021-12-01T00:27:01.414258",
     "exception": false,
     "start_time": "2021-12-01T00:27:01.359569",
     "status": "completed"
    },
    "tags": []
   },
   "source": [
    "Для признака стоимость проезда вставим попущенное значение, а также разделим все цены на 4 группы по величине"
   ]
  },
  {
   "cell_type": "code",
   "execution_count": 28,
   "id": "771bbcd2",
   "metadata": {
    "execution": {
     "iopub.execute_input": "2021-12-01T00:27:01.527727Z",
     "iopub.status.busy": "2021-12-01T00:27:01.526582Z",
     "iopub.status.idle": "2021-12-01T00:27:01.546457Z",
     "shell.execute_reply": "2021-12-01T00:27:01.547321Z",
     "shell.execute_reply.started": "2021-12-01T00:25:29.476060Z"
    },
    "papermill": {
     "duration": 0.077671,
     "end_time": "2021-12-01T00:27:01.547535",
     "exception": false,
     "start_time": "2021-12-01T00:27:01.469864",
     "status": "completed"
    },
    "tags": []
   },
   "outputs": [],
   "source": [
    "#Заменим пропущенное значение на среднее значение стоимости проезда для соответствующего класса пассажира\n",
    "for x in range(len(test[\"Fare\"])):\n",
    "    if pd.isnull(test[\"Fare\"][x]):\n",
    "        pclass = test[\"Pclass\"][x] \n",
    "        test[\"Fare\"][x] = round(train[train[\"Pclass\"] == pclass][\"Fare\"].mean(), 4)\n",
    "        \n",
    "#Разделим значения признака стоимость проезда типа float на 4 группы и создадим для них отдельную серию в выборке\n",
    "train['FareBand'] = pd.qcut(train['Fare'], 4, labels = [1, 2, 3, 4])\n",
    "test['FareBand'] = pd.qcut(test['Fare'], 4, labels = [1, 2, 3, 4])\n",
    "\n",
    "#удалим серии стоимости проезда\n",
    "train = train.drop(['Fare'], axis = 1)\n",
    "test = test.drop(['Fare'], axis = 1)"
   ]
  },
  {
   "cell_type": "markdown",
   "id": "557ba618",
   "metadata": {
    "papermill": {
     "duration": 0.052716,
     "end_time": "2021-12-01T00:27:01.655611",
     "exception": false,
     "start_time": "2021-12-01T00:27:01.602895",
     "status": "completed"
    },
    "tags": []
   },
   "source": [
    "Проверим данные на качество"
   ]
  },
  {
   "cell_type": "code",
   "execution_count": 29,
   "id": "12495c99",
   "metadata": {
    "execution": {
     "iopub.execute_input": "2021-12-01T00:27:01.786073Z",
     "iopub.status.busy": "2021-12-01T00:27:01.785113Z",
     "iopub.status.idle": "2021-12-01T00:27:01.791292Z",
     "shell.execute_reply": "2021-12-01T00:27:01.791937Z",
     "shell.execute_reply.started": "2021-12-01T00:25:29.503044Z"
    },
    "papermill": {
     "duration": 0.079191,
     "end_time": "2021-12-01T00:27:01.792146",
     "exception": false,
     "start_time": "2021-12-01T00:27:01.712955",
     "status": "completed"
    },
    "tags": []
   },
   "outputs": [
    {
     "data": {
      "text/html": [
       "<div>\n",
       "<style scoped>\n",
       "    .dataframe tbody tr th:only-of-type {\n",
       "        vertical-align: middle;\n",
       "    }\n",
       "\n",
       "    .dataframe tbody tr th {\n",
       "        vertical-align: top;\n",
       "    }\n",
       "\n",
       "    .dataframe thead th {\n",
       "        text-align: right;\n",
       "    }\n",
       "</style>\n",
       "<table border=\"1\" class=\"dataframe\">\n",
       "  <thead>\n",
       "    <tr style=\"text-align: right;\">\n",
       "      <th></th>\n",
       "      <th>PassengerId</th>\n",
       "      <th>Survived</th>\n",
       "      <th>Pclass</th>\n",
       "      <th>Sex</th>\n",
       "      <th>SibSp</th>\n",
       "      <th>Parch</th>\n",
       "      <th>Embarked</th>\n",
       "      <th>AgeGroup</th>\n",
       "      <th>CabinBool</th>\n",
       "      <th>Title</th>\n",
       "      <th>FareBand</th>\n",
       "    </tr>\n",
       "  </thead>\n",
       "  <tbody>\n",
       "    <tr>\n",
       "      <th>0</th>\n",
       "      <td>1</td>\n",
       "      <td>0</td>\n",
       "      <td>3</td>\n",
       "      <td>0</td>\n",
       "      <td>1</td>\n",
       "      <td>0</td>\n",
       "      <td>1</td>\n",
       "      <td>4.0</td>\n",
       "      <td>0</td>\n",
       "      <td>1</td>\n",
       "      <td>1</td>\n",
       "    </tr>\n",
       "    <tr>\n",
       "      <th>1</th>\n",
       "      <td>2</td>\n",
       "      <td>1</td>\n",
       "      <td>1</td>\n",
       "      <td>1</td>\n",
       "      <td>1</td>\n",
       "      <td>0</td>\n",
       "      <td>2</td>\n",
       "      <td>6.0</td>\n",
       "      <td>1</td>\n",
       "      <td>3</td>\n",
       "      <td>4</td>\n",
       "    </tr>\n",
       "    <tr>\n",
       "      <th>2</th>\n",
       "      <td>3</td>\n",
       "      <td>1</td>\n",
       "      <td>3</td>\n",
       "      <td>1</td>\n",
       "      <td>0</td>\n",
       "      <td>0</td>\n",
       "      <td>1</td>\n",
       "      <td>5.0</td>\n",
       "      <td>0</td>\n",
       "      <td>2</td>\n",
       "      <td>2</td>\n",
       "    </tr>\n",
       "    <tr>\n",
       "      <th>3</th>\n",
       "      <td>4</td>\n",
       "      <td>1</td>\n",
       "      <td>1</td>\n",
       "      <td>1</td>\n",
       "      <td>1</td>\n",
       "      <td>0</td>\n",
       "      <td>1</td>\n",
       "      <td>5.0</td>\n",
       "      <td>1</td>\n",
       "      <td>3</td>\n",
       "      <td>4</td>\n",
       "    </tr>\n",
       "    <tr>\n",
       "      <th>4</th>\n",
       "      <td>5</td>\n",
       "      <td>0</td>\n",
       "      <td>3</td>\n",
       "      <td>0</td>\n",
       "      <td>0</td>\n",
       "      <td>0</td>\n",
       "      <td>1</td>\n",
       "      <td>5.0</td>\n",
       "      <td>0</td>\n",
       "      <td>1</td>\n",
       "      <td>2</td>\n",
       "    </tr>\n",
       "    <tr>\n",
       "      <th>5</th>\n",
       "      <td>6</td>\n",
       "      <td>0</td>\n",
       "      <td>3</td>\n",
       "      <td>0</td>\n",
       "      <td>0</td>\n",
       "      <td>0</td>\n",
       "      <td>3</td>\n",
       "      <td>5.0</td>\n",
       "      <td>0</td>\n",
       "      <td>1</td>\n",
       "      <td>2</td>\n",
       "    </tr>\n",
       "    <tr>\n",
       "      <th>6</th>\n",
       "      <td>7</td>\n",
       "      <td>0</td>\n",
       "      <td>1</td>\n",
       "      <td>0</td>\n",
       "      <td>0</td>\n",
       "      <td>0</td>\n",
       "      <td>1</td>\n",
       "      <td>6.0</td>\n",
       "      <td>1</td>\n",
       "      <td>1</td>\n",
       "      <td>4</td>\n",
       "    </tr>\n",
       "    <tr>\n",
       "      <th>7</th>\n",
       "      <td>8</td>\n",
       "      <td>0</td>\n",
       "      <td>3</td>\n",
       "      <td>0</td>\n",
       "      <td>3</td>\n",
       "      <td>1</td>\n",
       "      <td>1</td>\n",
       "      <td>1.0</td>\n",
       "      <td>0</td>\n",
       "      <td>4</td>\n",
       "      <td>3</td>\n",
       "    </tr>\n",
       "    <tr>\n",
       "      <th>8</th>\n",
       "      <td>9</td>\n",
       "      <td>1</td>\n",
       "      <td>3</td>\n",
       "      <td>1</td>\n",
       "      <td>0</td>\n",
       "      <td>2</td>\n",
       "      <td>1</td>\n",
       "      <td>5.0</td>\n",
       "      <td>0</td>\n",
       "      <td>3</td>\n",
       "      <td>2</td>\n",
       "    </tr>\n",
       "    <tr>\n",
       "      <th>9</th>\n",
       "      <td>10</td>\n",
       "      <td>1</td>\n",
       "      <td>2</td>\n",
       "      <td>1</td>\n",
       "      <td>1</td>\n",
       "      <td>0</td>\n",
       "      <td>2</td>\n",
       "      <td>3.0</td>\n",
       "      <td>0</td>\n",
       "      <td>3</td>\n",
       "      <td>3</td>\n",
       "    </tr>\n",
       "  </tbody>\n",
       "</table>\n",
       "</div>"
      ],
      "text/plain": [
       "   PassengerId  Survived  Pclass  Sex  SibSp  Parch  Embarked  AgeGroup  \\\n",
       "0            1         0       3    0      1      0         1       4.0   \n",
       "1            2         1       1    1      1      0         2       6.0   \n",
       "2            3         1       3    1      0      0         1       5.0   \n",
       "3            4         1       1    1      1      0         1       5.0   \n",
       "4            5         0       3    0      0      0         1       5.0   \n",
       "5            6         0       3    0      0      0         3       5.0   \n",
       "6            7         0       1    0      0      0         1       6.0   \n",
       "7            8         0       3    0      3      1         1       1.0   \n",
       "8            9         1       3    1      0      2         1       5.0   \n",
       "9           10         1       2    1      1      0         2       3.0   \n",
       "\n",
       "   CabinBool  Title FareBand  \n",
       "0          0      1        1  \n",
       "1          1      3        4  \n",
       "2          0      2        2  \n",
       "3          1      3        4  \n",
       "4          0      1        2  \n",
       "5          0      1        2  \n",
       "6          1      1        4  \n",
       "7          0      4        3  \n",
       "8          0      3        2  \n",
       "9          0      3        3  "
      ]
     },
     "execution_count": 29,
     "metadata": {},
     "output_type": "execute_result"
    }
   ],
   "source": [
    "train.head(10)"
   ]
  },
  {
   "cell_type": "code",
   "execution_count": 30,
   "id": "d2d1f77a",
   "metadata": {
    "execution": {
     "iopub.execute_input": "2021-12-01T00:27:01.904990Z",
     "iopub.status.busy": "2021-12-01T00:27:01.904247Z",
     "iopub.status.idle": "2021-12-01T00:27:01.918070Z",
     "shell.execute_reply": "2021-12-01T00:27:01.918673Z",
     "shell.execute_reply.started": "2021-12-01T00:25:29.525978Z"
    },
    "papermill": {
     "duration": 0.070541,
     "end_time": "2021-12-01T00:27:01.918861",
     "exception": false,
     "start_time": "2021-12-01T00:27:01.848320",
     "status": "completed"
    },
    "tags": []
   },
   "outputs": [
    {
     "data": {
      "text/html": [
       "<div>\n",
       "<style scoped>\n",
       "    .dataframe tbody tr th:only-of-type {\n",
       "        vertical-align: middle;\n",
       "    }\n",
       "\n",
       "    .dataframe tbody tr th {\n",
       "        vertical-align: top;\n",
       "    }\n",
       "\n",
       "    .dataframe thead th {\n",
       "        text-align: right;\n",
       "    }\n",
       "</style>\n",
       "<table border=\"1\" class=\"dataframe\">\n",
       "  <thead>\n",
       "    <tr style=\"text-align: right;\">\n",
       "      <th></th>\n",
       "      <th>PassengerId</th>\n",
       "      <th>Pclass</th>\n",
       "      <th>Sex</th>\n",
       "      <th>SibSp</th>\n",
       "      <th>Parch</th>\n",
       "      <th>Embarked</th>\n",
       "      <th>AgeGroup</th>\n",
       "      <th>CabinBool</th>\n",
       "      <th>Title</th>\n",
       "      <th>FareBand</th>\n",
       "    </tr>\n",
       "  </thead>\n",
       "  <tbody>\n",
       "    <tr>\n",
       "      <th>0</th>\n",
       "      <td>892</td>\n",
       "      <td>3</td>\n",
       "      <td>0</td>\n",
       "      <td>0</td>\n",
       "      <td>0</td>\n",
       "      <td>3</td>\n",
       "      <td>5.0</td>\n",
       "      <td>0</td>\n",
       "      <td>1</td>\n",
       "      <td>1</td>\n",
       "    </tr>\n",
       "    <tr>\n",
       "      <th>1</th>\n",
       "      <td>893</td>\n",
       "      <td>3</td>\n",
       "      <td>1</td>\n",
       "      <td>1</td>\n",
       "      <td>0</td>\n",
       "      <td>1</td>\n",
       "      <td>6.0</td>\n",
       "      <td>0</td>\n",
       "      <td>3</td>\n",
       "      <td>1</td>\n",
       "    </tr>\n",
       "    <tr>\n",
       "      <th>2</th>\n",
       "      <td>894</td>\n",
       "      <td>2</td>\n",
       "      <td>0</td>\n",
       "      <td>0</td>\n",
       "      <td>0</td>\n",
       "      <td>3</td>\n",
       "      <td>7.0</td>\n",
       "      <td>0</td>\n",
       "      <td>1</td>\n",
       "      <td>2</td>\n",
       "    </tr>\n",
       "    <tr>\n",
       "      <th>3</th>\n",
       "      <td>895</td>\n",
       "      <td>3</td>\n",
       "      <td>0</td>\n",
       "      <td>0</td>\n",
       "      <td>0</td>\n",
       "      <td>1</td>\n",
       "      <td>5.0</td>\n",
       "      <td>0</td>\n",
       "      <td>1</td>\n",
       "      <td>2</td>\n",
       "    </tr>\n",
       "    <tr>\n",
       "      <th>4</th>\n",
       "      <td>896</td>\n",
       "      <td>3</td>\n",
       "      <td>1</td>\n",
       "      <td>1</td>\n",
       "      <td>1</td>\n",
       "      <td>1</td>\n",
       "      <td>4.0</td>\n",
       "      <td>0</td>\n",
       "      <td>3</td>\n",
       "      <td>2</td>\n",
       "    </tr>\n",
       "    <tr>\n",
       "      <th>5</th>\n",
       "      <td>897</td>\n",
       "      <td>3</td>\n",
       "      <td>0</td>\n",
       "      <td>0</td>\n",
       "      <td>0</td>\n",
       "      <td>1</td>\n",
       "      <td>3.0</td>\n",
       "      <td>0</td>\n",
       "      <td>1</td>\n",
       "      <td>2</td>\n",
       "    </tr>\n",
       "    <tr>\n",
       "      <th>6</th>\n",
       "      <td>898</td>\n",
       "      <td>3</td>\n",
       "      <td>1</td>\n",
       "      <td>0</td>\n",
       "      <td>0</td>\n",
       "      <td>3</td>\n",
       "      <td>5.0</td>\n",
       "      <td>0</td>\n",
       "      <td>2</td>\n",
       "      <td>1</td>\n",
       "    </tr>\n",
       "    <tr>\n",
       "      <th>7</th>\n",
       "      <td>899</td>\n",
       "      <td>2</td>\n",
       "      <td>0</td>\n",
       "      <td>1</td>\n",
       "      <td>1</td>\n",
       "      <td>1</td>\n",
       "      <td>5.0</td>\n",
       "      <td>0</td>\n",
       "      <td>1</td>\n",
       "      <td>3</td>\n",
       "    </tr>\n",
       "    <tr>\n",
       "      <th>8</th>\n",
       "      <td>900</td>\n",
       "      <td>3</td>\n",
       "      <td>1</td>\n",
       "      <td>0</td>\n",
       "      <td>0</td>\n",
       "      <td>2</td>\n",
       "      <td>3.0</td>\n",
       "      <td>0</td>\n",
       "      <td>3</td>\n",
       "      <td>1</td>\n",
       "    </tr>\n",
       "    <tr>\n",
       "      <th>9</th>\n",
       "      <td>901</td>\n",
       "      <td>3</td>\n",
       "      <td>0</td>\n",
       "      <td>2</td>\n",
       "      <td>0</td>\n",
       "      <td>1</td>\n",
       "      <td>4.0</td>\n",
       "      <td>0</td>\n",
       "      <td>1</td>\n",
       "      <td>3</td>\n",
       "    </tr>\n",
       "  </tbody>\n",
       "</table>\n",
       "</div>"
      ],
      "text/plain": [
       "   PassengerId  Pclass  Sex  SibSp  Parch  Embarked  AgeGroup  CabinBool  \\\n",
       "0          892       3    0      0      0         3       5.0          0   \n",
       "1          893       3    1      1      0         1       6.0          0   \n",
       "2          894       2    0      0      0         3       7.0          0   \n",
       "3          895       3    0      0      0         1       5.0          0   \n",
       "4          896       3    1      1      1         1       4.0          0   \n",
       "5          897       3    0      0      0         1       3.0          0   \n",
       "6          898       3    1      0      0         3       5.0          0   \n",
       "7          899       2    0      1      1         1       5.0          0   \n",
       "8          900       3    1      0      0         2       3.0          0   \n",
       "9          901       3    0      2      0         1       4.0          0   \n",
       "\n",
       "   Title FareBand  \n",
       "0      1        1  \n",
       "1      3        1  \n",
       "2      1        2  \n",
       "3      1        2  \n",
       "4      3        2  \n",
       "5      1        2  \n",
       "6      2        1  \n",
       "7      1        3  \n",
       "8      3        1  \n",
       "9      1        3  "
      ]
     },
     "execution_count": 30,
     "metadata": {},
     "output_type": "execute_result"
    }
   ],
   "source": [
    "test.head(10)"
   ]
  },
  {
   "cell_type": "markdown",
   "id": "e4ce57d7",
   "metadata": {
    "papermill": {
     "duration": 0.054822,
     "end_time": "2021-12-01T00:27:02.029042",
     "exception": false,
     "start_time": "2021-12-01T00:27:01.974220",
     "status": "completed"
    },
    "tags": []
   },
   "source": [
    "Построим модели классификации с помощью библиотеки sklearn. Для сравнения построим модель дерева решений, модель случайных лесов и модель knn (k ближайших соседей). Для проверки точности модели необходимо использовать часть обучающих данных. Оптимальное соотношение 0,7 на 0,3."
   ]
  },
  {
   "cell_type": "code",
   "execution_count": 31,
   "id": "7725e60d",
   "metadata": {
    "execution": {
     "iopub.execute_input": "2021-12-01T00:27:02.139831Z",
     "iopub.status.busy": "2021-12-01T00:27:02.139085Z",
     "iopub.status.idle": "2021-12-01T00:27:02.363683Z",
     "shell.execute_reply": "2021-12-01T00:27:02.363051Z",
     "shell.execute_reply.started": "2021-12-01T00:25:29.554076Z"
    },
    "papermill": {
     "duration": 0.280138,
     "end_time": "2021-12-01T00:27:02.363846",
     "exception": false,
     "start_time": "2021-12-01T00:27:02.083708",
     "status": "completed"
    },
    "tags": []
   },
   "outputs": [],
   "source": [
    "#Импортируем библиотеки для построения моделей и расчета точности модели\n",
    "from sklearn.model_selection import train_test_split\n",
    "from sklearn.metrics import accuracy_score\n",
    "#формируем данные для обучения модели и целевой признак из обучающей выборки\n",
    "predictors = train.drop(['Survived', 'PassengerId'], axis=1)\n",
    "target = train[\"Survived\"]\n",
    "#с помощью функции train_test_split разбиваем данные x и y в указанной выше пропорции и присваиваем переменным x_train, x_val, y_train, y_val\n",
    "x_train, x_val, y_train, y_val = train_test_split(predictors, target, test_size = 0.3, random_state = 0)"
   ]
  },
  {
   "cell_type": "code",
   "execution_count": 32,
   "id": "f62a8557",
   "metadata": {
    "execution": {
     "iopub.execute_input": "2021-12-01T00:27:02.479966Z",
     "iopub.status.busy": "2021-12-01T00:27:02.479222Z",
     "iopub.status.idle": "2021-12-01T00:27:02.703774Z",
     "shell.execute_reply": "2021-12-01T00:27:02.704564Z",
     "shell.execute_reply.started": "2021-12-01T00:25:29.570429Z"
    },
    "papermill": {
     "duration": 0.287253,
     "end_time": "2021-12-01T00:27:02.704858",
     "exception": false,
     "start_time": "2021-12-01T00:27:02.417605",
     "status": "completed"
    },
    "tags": []
   },
   "outputs": [
    {
     "name": "stdout",
     "output_type": "stream",
     "text": [
      "80.22\n"
     ]
    }
   ],
   "source": [
    "# Дерево решений\n",
    "from sklearn.tree import DecisionTreeClassifier\n",
    "\n",
    "decisiontree = DecisionTreeClassifier()\n",
    "decisiontree.fit(x_train, y_train)\n",
    "#находим предсказанное значение признака, а также определяем точность модели сравнением полученных предсказанных правильных ответов со всеми ответами\n",
    "y_pred = decisiontree.predict(x_val)\n",
    "acc_decisiontree = round(accuracy_score(y_pred, y_val) * 100, 2)\n",
    "print(acc_decisiontree)"
   ]
  },
  {
   "cell_type": "code",
   "execution_count": 33,
   "id": "88aa0a3f",
   "metadata": {
    "execution": {
     "iopub.execute_input": "2021-12-01T00:27:02.837578Z",
     "iopub.status.busy": "2021-12-01T00:27:02.836817Z",
     "iopub.status.idle": "2021-12-01T00:27:03.100298Z",
     "shell.execute_reply": "2021-12-01T00:27:03.101082Z",
     "shell.execute_reply.started": "2021-12-01T00:25:29.587559Z"
    },
    "papermill": {
     "duration": 0.324515,
     "end_time": "2021-12-01T00:27:03.101311",
     "exception": false,
     "start_time": "2021-12-01T00:27:02.776796",
     "status": "completed"
    },
    "tags": []
   },
   "outputs": [
    {
     "name": "stdout",
     "output_type": "stream",
     "text": [
      "83.21\n"
     ]
    }
   ],
   "source": [
    "# Случайные леса\n",
    "from sklearn.ensemble import RandomForestClassifier\n",
    "\n",
    "randomforest = RandomForestClassifier()\n",
    "randomforest.fit(x_train, y_train)\n",
    "y_pred = randomforest.predict(x_val)\n",
    "acc_randomforest = round(accuracy_score(y_pred, y_val) * 100, 2)\n",
    "print(acc_randomforest)"
   ]
  },
  {
   "cell_type": "code",
   "execution_count": 34,
   "id": "b32fbf41",
   "metadata": {
    "execution": {
     "iopub.execute_input": "2021-12-01T00:27:03.213511Z",
     "iopub.status.busy": "2021-12-01T00:27:03.212399Z",
     "iopub.status.idle": "2021-12-01T00:27:03.242692Z",
     "shell.execute_reply": "2021-12-01T00:27:03.241328Z",
     "shell.execute_reply.started": "2021-12-01T00:25:29.843966Z"
    },
    "papermill": {
     "duration": 0.087546,
     "end_time": "2021-12-01T00:27:03.242889",
     "exception": false,
     "start_time": "2021-12-01T00:27:03.155343",
     "status": "completed"
    },
    "tags": []
   },
   "outputs": [
    {
     "name": "stdout",
     "output_type": "stream",
     "text": [
      "84.7\n"
     ]
    }
   ],
   "source": [
    "# метод K ближайших соседей\n",
    "from sklearn.neighbors import KNeighborsClassifier\n",
    "\n",
    "knn = KNeighborsClassifier()\n",
    "knn.fit(x_train, y_train)\n",
    "y_pred = knn.predict(x_val)\n",
    "acc_knn = round(accuracy_score(y_pred, y_val) * 100, 2)\n",
    "print(acc_knn)"
   ]
  },
  {
   "cell_type": "markdown",
   "id": "af6f919d",
   "metadata": {
    "papermill": {
     "duration": 0.056314,
     "end_time": "2021-12-01T00:27:03.353284",
     "exception": false,
     "start_time": "2021-12-01T00:27:03.296970",
     "status": "completed"
    },
    "tags": []
   },
   "source": [
    "Наиболее точным методом предсказания оказался метод K ближайших соседей. Используем его для создания выходного файла"
   ]
  },
  {
   "cell_type": "code",
   "execution_count": 35,
   "id": "cd54a54d",
   "metadata": {
    "execution": {
     "iopub.execute_input": "2021-12-01T00:27:03.466340Z",
     "iopub.status.busy": "2021-12-01T00:27:03.465586Z",
     "iopub.status.idle": "2021-12-01T00:27:03.498683Z",
     "shell.execute_reply": "2021-12-01T00:27:03.498056Z",
     "shell.execute_reply.started": "2021-12-01T00:25:48.094673Z"
    },
    "papermill": {
     "duration": 0.091426,
     "end_time": "2021-12-01T00:27:03.498841",
     "exception": false,
     "start_time": "2021-12-01T00:27:03.407415",
     "status": "completed"
    },
    "tags": []
   },
   "outputs": [],
   "source": [
    "#присваиваем переменной ids значение номера пассажира и вычисляем предсказание ответа\n",
    "ids = test['PassengerId']\n",
    "predictions = knn.predict(test.drop('PassengerId', axis=1))\n",
    "#Представляем выходные данные в виде таблицы и конвертируем в csv файл\n",
    "output = pd.DataFrame({ 'PassengerId' : ids, 'Survived': predictions })\n",
    "output.to_csv('submission.csv', index=False)"
   ]
  }
 ],
 "metadata": {
  "kernelspec": {
   "display_name": "Python 3",
   "language": "python",
   "name": "python3"
  },
  "language_info": {
   "codemirror_mode": {
    "name": "ipython",
    "version": 3
   },
   "file_extension": ".py",
   "mimetype": "text/x-python",
   "name": "python",
   "nbconvert_exporter": "python",
   "pygments_lexer": "ipython3",
   "version": "3.7.10"
  },
  "papermill": {
   "default_parameters": {},
   "duration": 22.186895,
   "end_time": "2021-12-01T00:27:04.264284",
   "environment_variables": {},
   "exception": null,
   "input_path": "__notebook__.ipynb",
   "output_path": "__notebook__.ipynb",
   "parameters": {},
   "start_time": "2021-12-01T00:26:42.077389",
   "version": "2.3.3"
  }
 },
 "nbformat": 4,
 "nbformat_minor": 5
}
