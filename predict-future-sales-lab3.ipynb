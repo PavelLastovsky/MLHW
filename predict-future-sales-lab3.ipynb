{
 "cells": [
  {
   "cell_type": "markdown",
   "id": "17d42cf1",
   "metadata": {
    "papermill": {
     "duration": 0.051194,
     "end_time": "2021-12-01T23:17:09.866405",
     "exception": false,
     "start_time": "2021-12-01T23:17:09.815211",
     "status": "completed"
    },
    "tags": []
   },
   "source": [
    "В данной работе необходимо предсказать общий обьем продаж для каждого товара и магазина в следующем месяце на основе данных временных рядов. Алгоритм для построения регрессионной модели является таким же, как и для первой лабораторной работы."
   ]
  },
  {
   "cell_type": "markdown",
   "id": "05671468",
   "metadata": {
    "papermill": {
     "duration": 0.04055,
     "end_time": "2021-12-01T23:17:09.958251",
     "exception": false,
     "start_time": "2021-12-01T23:17:09.917701",
     "status": "completed"
    },
    "tags": []
   },
   "source": [
    "Для начала импортируем необходимые библиотеки"
   ]
  },
  {
   "cell_type": "code",
   "execution_count": 1,
   "id": "96d28c46",
   "metadata": {
    "execution": {
     "iopub.execute_input": "2021-12-01T23:17:10.051257Z",
     "iopub.status.busy": "2021-12-01T23:17:10.050361Z",
     "iopub.status.idle": "2021-12-01T23:17:11.269929Z",
     "shell.execute_reply": "2021-12-01T23:17:11.269362Z",
     "shell.execute_reply.started": "2021-12-01T19:50:38.035559Z"
    },
    "papermill": {
     "duration": 1.272289,
     "end_time": "2021-12-01T23:17:11.270085",
     "exception": false,
     "start_time": "2021-12-01T23:17:09.997796",
     "status": "completed"
    },
    "tags": []
   },
   "outputs": [
    {
     "data": {
      "text/plain": [
       "sys.version_info(major=3, minor=7, micro=10, releaselevel='final', serial=0)"
      ]
     },
     "execution_count": 1,
     "metadata": {},
     "output_type": "execute_result"
    }
   ],
   "source": [
    "import numpy as np\n",
    "import pandas as pd\n",
    "pd.set_option('display.max_rows', 500)\n",
    "pd.set_option('display.max_columns', 100)\n",
    "\n",
    "from itertools import product\n",
    "from sklearn.preprocessing import LabelEncoder\n",
    "\n",
    "import seaborn as sns\n",
    "import matplotlib.pyplot as plt\n",
    "%matplotlib inline\n",
    "\n",
    "from xgboost import XGBRegressor\n",
    "from xgboost import plot_importance\n",
    "\n",
    "def plot_features(booster, figsize):    \n",
    "    fig, ax = plt.subplots(1,1,figsize=figsize)\n",
    "    return plot_importance(booster=booster, ax=ax)\n",
    "import sys\n",
    "import gc\n",
    "import pickle\n",
    "sys.version_info"
   ]
  },
  {
   "cell_type": "code",
   "execution_count": 2,
   "id": "e4305b5d",
   "metadata": {
    "execution": {
     "iopub.execute_input": "2021-12-01T23:17:11.351081Z",
     "iopub.status.busy": "2021-12-01T23:17:11.350492Z",
     "iopub.status.idle": "2021-12-01T23:17:13.750738Z",
     "shell.execute_reply": "2021-12-01T23:17:13.749786Z",
     "shell.execute_reply.started": "2021-12-01T19:50:38.063902Z"
    },
    "papermill": {
     "duration": 2.442772,
     "end_time": "2021-12-01T23:17:13.750911",
     "exception": false,
     "start_time": "2021-12-01T23:17:11.308139",
     "status": "completed"
    },
    "tags": []
   },
   "outputs": [],
   "source": [
    "items = pd.read_csv('/kaggle/input/competitive-data-science-predict-future-sales/items.csv')\n",
    "shops = pd.read_csv('/kaggle/input/competitive-data-science-predict-future-sales/shops.csv')\n",
    "cats = pd.read_csv('/kaggle/input/competitive-data-science-predict-future-sales/item_categories.csv')\n",
    "train = pd.read_csv('/kaggle/input/competitive-data-science-predict-future-sales/sales_train.csv')\n",
    "test  = pd.read_csv('/kaggle/input/competitive-data-science-predict-future-sales/test.csv').set_index('ID')"
   ]
  },
  {
   "cell_type": "code",
   "execution_count": 3,
   "id": "4e89d1f5",
   "metadata": {
    "execution": {
     "iopub.execute_input": "2021-12-01T23:17:13.835065Z",
     "iopub.status.busy": "2021-12-01T23:17:13.834413Z",
     "iopub.status.idle": "2021-12-01T23:17:13.846651Z",
     "shell.execute_reply": "2021-12-01T23:17:13.847102Z",
     "shell.execute_reply.started": "2021-12-01T19:50:39.806103Z"
    },
    "papermill": {
     "duration": 0.05528,
     "end_time": "2021-12-01T23:17:13.847335",
     "exception": false,
     "start_time": "2021-12-01T23:17:13.792055",
     "status": "completed"
    },
    "tags": []
   },
   "outputs": [
    {
     "data": {
      "text/html": [
       "<div>\n",
       "<style scoped>\n",
       "    .dataframe tbody tr th:only-of-type {\n",
       "        vertical-align: middle;\n",
       "    }\n",
       "\n",
       "    .dataframe tbody tr th {\n",
       "        vertical-align: top;\n",
       "    }\n",
       "\n",
       "    .dataframe thead th {\n",
       "        text-align: right;\n",
       "    }\n",
       "</style>\n",
       "<table border=\"1\" class=\"dataframe\">\n",
       "  <thead>\n",
       "    <tr style=\"text-align: right;\">\n",
       "      <th></th>\n",
       "      <th>item_name</th>\n",
       "      <th>item_id</th>\n",
       "      <th>item_category_id</th>\n",
       "    </tr>\n",
       "  </thead>\n",
       "  <tbody>\n",
       "    <tr>\n",
       "      <th>0</th>\n",
       "      <td>! ВО ВЛАСТИ НАВАЖДЕНИЯ (ПЛАСТ.)         D</td>\n",
       "      <td>0</td>\n",
       "      <td>40</td>\n",
       "    </tr>\n",
       "    <tr>\n",
       "      <th>1</th>\n",
       "      <td>!ABBYY FineReader 12 Professional Edition Full...</td>\n",
       "      <td>1</td>\n",
       "      <td>76</td>\n",
       "    </tr>\n",
       "    <tr>\n",
       "      <th>2</th>\n",
       "      <td>***В ЛУЧАХ СЛАВЫ   (UNV)                    D</td>\n",
       "      <td>2</td>\n",
       "      <td>40</td>\n",
       "    </tr>\n",
       "    <tr>\n",
       "      <th>3</th>\n",
       "      <td>***ГОЛУБАЯ ВОЛНА  (Univ)                      D</td>\n",
       "      <td>3</td>\n",
       "      <td>40</td>\n",
       "    </tr>\n",
       "    <tr>\n",
       "      <th>4</th>\n",
       "      <td>***КОРОБКА (СТЕКЛО)                       D</td>\n",
       "      <td>4</td>\n",
       "      <td>40</td>\n",
       "    </tr>\n",
       "    <tr>\n",
       "      <th>5</th>\n",
       "      <td>***НОВЫЕ АМЕРИКАНСКИЕ ГРАФФИТИ  (UNI)         ...</td>\n",
       "      <td>5</td>\n",
       "      <td>40</td>\n",
       "    </tr>\n",
       "    <tr>\n",
       "      <th>6</th>\n",
       "      <td>***УДАР ПО ВОРОТАМ (UNI)               D</td>\n",
       "      <td>6</td>\n",
       "      <td>40</td>\n",
       "    </tr>\n",
       "    <tr>\n",
       "      <th>7</th>\n",
       "      <td>***УДАР ПО ВОРОТАМ-2 (UNI)               D</td>\n",
       "      <td>7</td>\n",
       "      <td>40</td>\n",
       "    </tr>\n",
       "    <tr>\n",
       "      <th>8</th>\n",
       "      <td>***ЧАЙ С МУССОЛИНИ                     D</td>\n",
       "      <td>8</td>\n",
       "      <td>40</td>\n",
       "    </tr>\n",
       "    <tr>\n",
       "      <th>9</th>\n",
       "      <td>***ШУГАРЛЭНДСКИЙ ЭКСПРЕСС (UNI)             D</td>\n",
       "      <td>9</td>\n",
       "      <td>40</td>\n",
       "    </tr>\n",
       "  </tbody>\n",
       "</table>\n",
       "</div>"
      ],
      "text/plain": [
       "                                           item_name  item_id  \\\n",
       "0          ! ВО ВЛАСТИ НАВАЖДЕНИЯ (ПЛАСТ.)         D        0   \n",
       "1  !ABBYY FineReader 12 Professional Edition Full...        1   \n",
       "2      ***В ЛУЧАХ СЛАВЫ   (UNV)                    D        2   \n",
       "3    ***ГОЛУБАЯ ВОЛНА  (Univ)                      D        3   \n",
       "4        ***КОРОБКА (СТЕКЛО)                       D        4   \n",
       "5  ***НОВЫЕ АМЕРИКАНСКИЕ ГРАФФИТИ  (UNI)         ...        5   \n",
       "6           ***УДАР ПО ВОРОТАМ (UNI)               D        6   \n",
       "7         ***УДАР ПО ВОРОТАМ-2 (UNI)               D        7   \n",
       "8           ***ЧАЙ С МУССОЛИНИ                     D        8   \n",
       "9      ***ШУГАРЛЭНДСКИЙ ЭКСПРЕСС (UNI)             D        9   \n",
       "\n",
       "   item_category_id  \n",
       "0                40  \n",
       "1                76  \n",
       "2                40  \n",
       "3                40  \n",
       "4                40  \n",
       "5                40  \n",
       "6                40  \n",
       "7                40  \n",
       "8                40  \n",
       "9                40  "
      ]
     },
     "execution_count": 3,
     "metadata": {},
     "output_type": "execute_result"
    }
   ],
   "source": [
    "items.head(10)"
   ]
  },
  {
   "cell_type": "code",
   "execution_count": 4,
   "id": "afff0f68",
   "metadata": {
    "execution": {
     "iopub.execute_input": "2021-12-01T23:17:13.992165Z",
     "iopub.status.busy": "2021-12-01T23:17:13.991519Z",
     "iopub.status.idle": "2021-12-01T23:17:14.001590Z",
     "shell.execute_reply": "2021-12-01T23:17:14.001075Z",
     "shell.execute_reply.started": "2021-12-01T19:50:39.817320Z"
    },
    "papermill": {
     "duration": 0.113944,
     "end_time": "2021-12-01T23:17:14.001737",
     "exception": false,
     "start_time": "2021-12-01T23:17:13.887793",
     "status": "completed"
    },
    "tags": []
   },
   "outputs": [
    {
     "data": {
      "text/html": [
       "<div>\n",
       "<style scoped>\n",
       "    .dataframe tbody tr th:only-of-type {\n",
       "        vertical-align: middle;\n",
       "    }\n",
       "\n",
       "    .dataframe tbody tr th {\n",
       "        vertical-align: top;\n",
       "    }\n",
       "\n",
       "    .dataframe thead th {\n",
       "        text-align: right;\n",
       "    }\n",
       "</style>\n",
       "<table border=\"1\" class=\"dataframe\">\n",
       "  <thead>\n",
       "    <tr style=\"text-align: right;\">\n",
       "      <th></th>\n",
       "      <th>shop_name</th>\n",
       "      <th>shop_id</th>\n",
       "    </tr>\n",
       "  </thead>\n",
       "  <tbody>\n",
       "    <tr>\n",
       "      <th>0</th>\n",
       "      <td>!Якутск Орджоникидзе, 56 фран</td>\n",
       "      <td>0</td>\n",
       "    </tr>\n",
       "    <tr>\n",
       "      <th>1</th>\n",
       "      <td>!Якутск ТЦ \"Центральный\" фран</td>\n",
       "      <td>1</td>\n",
       "    </tr>\n",
       "    <tr>\n",
       "      <th>2</th>\n",
       "      <td>Адыгея ТЦ \"Мега\"</td>\n",
       "      <td>2</td>\n",
       "    </tr>\n",
       "    <tr>\n",
       "      <th>3</th>\n",
       "      <td>Балашиха ТРК \"Октябрь-Киномир\"</td>\n",
       "      <td>3</td>\n",
       "    </tr>\n",
       "    <tr>\n",
       "      <th>4</th>\n",
       "      <td>Волжский ТЦ \"Волга Молл\"</td>\n",
       "      <td>4</td>\n",
       "    </tr>\n",
       "    <tr>\n",
       "      <th>5</th>\n",
       "      <td>Вологда ТРЦ \"Мармелад\"</td>\n",
       "      <td>5</td>\n",
       "    </tr>\n",
       "    <tr>\n",
       "      <th>6</th>\n",
       "      <td>Воронеж (Плехановская, 13)</td>\n",
       "      <td>6</td>\n",
       "    </tr>\n",
       "    <tr>\n",
       "      <th>7</th>\n",
       "      <td>Воронеж ТРЦ \"Максимир\"</td>\n",
       "      <td>7</td>\n",
       "    </tr>\n",
       "    <tr>\n",
       "      <th>8</th>\n",
       "      <td>Воронеж ТРЦ Сити-Парк \"Град\"</td>\n",
       "      <td>8</td>\n",
       "    </tr>\n",
       "    <tr>\n",
       "      <th>9</th>\n",
       "      <td>Выездная Торговля</td>\n",
       "      <td>9</td>\n",
       "    </tr>\n",
       "  </tbody>\n",
       "</table>\n",
       "</div>"
      ],
      "text/plain": [
       "                        shop_name  shop_id\n",
       "0   !Якутск Орджоникидзе, 56 фран        0\n",
       "1   !Якутск ТЦ \"Центральный\" фран        1\n",
       "2                Адыгея ТЦ \"Мега\"        2\n",
       "3  Балашиха ТРК \"Октябрь-Киномир\"        3\n",
       "4        Волжский ТЦ \"Волга Молл\"        4\n",
       "5          Вологда ТРЦ \"Мармелад\"        5\n",
       "6      Воронеж (Плехановская, 13)        6\n",
       "7          Воронеж ТРЦ \"Максимир\"        7\n",
       "8    Воронеж ТРЦ Сити-Парк \"Град\"        8\n",
       "9               Выездная Торговля        9"
      ]
     },
     "execution_count": 4,
     "metadata": {},
     "output_type": "execute_result"
    }
   ],
   "source": [
    "shops.head(10)"
   ]
  },
  {
   "cell_type": "code",
   "execution_count": 5,
   "id": "b62635ee",
   "metadata": {
    "execution": {
     "iopub.execute_input": "2021-12-01T23:17:14.089209Z",
     "iopub.status.busy": "2021-12-01T23:17:14.088552Z",
     "iopub.status.idle": "2021-12-01T23:17:14.093078Z",
     "shell.execute_reply": "2021-12-01T23:17:14.092532Z",
     "shell.execute_reply.started": "2021-12-01T19:50:39.838066Z"
    },
    "papermill": {
     "duration": 0.052398,
     "end_time": "2021-12-01T23:17:14.093249",
     "exception": false,
     "start_time": "2021-12-01T23:17:14.040851",
     "status": "completed"
    },
    "tags": []
   },
   "outputs": [
    {
     "data": {
      "text/html": [
       "<div>\n",
       "<style scoped>\n",
       "    .dataframe tbody tr th:only-of-type {\n",
       "        vertical-align: middle;\n",
       "    }\n",
       "\n",
       "    .dataframe tbody tr th {\n",
       "        vertical-align: top;\n",
       "    }\n",
       "\n",
       "    .dataframe thead th {\n",
       "        text-align: right;\n",
       "    }\n",
       "</style>\n",
       "<table border=\"1\" class=\"dataframe\">\n",
       "  <thead>\n",
       "    <tr style=\"text-align: right;\">\n",
       "      <th></th>\n",
       "      <th>item_category_name</th>\n",
       "      <th>item_category_id</th>\n",
       "    </tr>\n",
       "  </thead>\n",
       "  <tbody>\n",
       "    <tr>\n",
       "      <th>0</th>\n",
       "      <td>PC - Гарнитуры/Наушники</td>\n",
       "      <td>0</td>\n",
       "    </tr>\n",
       "    <tr>\n",
       "      <th>1</th>\n",
       "      <td>Аксессуары - PS2</td>\n",
       "      <td>1</td>\n",
       "    </tr>\n",
       "    <tr>\n",
       "      <th>2</th>\n",
       "      <td>Аксессуары - PS3</td>\n",
       "      <td>2</td>\n",
       "    </tr>\n",
       "    <tr>\n",
       "      <th>3</th>\n",
       "      <td>Аксессуары - PS4</td>\n",
       "      <td>3</td>\n",
       "    </tr>\n",
       "    <tr>\n",
       "      <th>4</th>\n",
       "      <td>Аксессуары - PSP</td>\n",
       "      <td>4</td>\n",
       "    </tr>\n",
       "    <tr>\n",
       "      <th>5</th>\n",
       "      <td>Аксессуары - PSVita</td>\n",
       "      <td>5</td>\n",
       "    </tr>\n",
       "    <tr>\n",
       "      <th>6</th>\n",
       "      <td>Аксессуары - XBOX 360</td>\n",
       "      <td>6</td>\n",
       "    </tr>\n",
       "    <tr>\n",
       "      <th>7</th>\n",
       "      <td>Аксессуары - XBOX ONE</td>\n",
       "      <td>7</td>\n",
       "    </tr>\n",
       "    <tr>\n",
       "      <th>8</th>\n",
       "      <td>Билеты (Цифра)</td>\n",
       "      <td>8</td>\n",
       "    </tr>\n",
       "    <tr>\n",
       "      <th>9</th>\n",
       "      <td>Доставка товара</td>\n",
       "      <td>9</td>\n",
       "    </tr>\n",
       "  </tbody>\n",
       "</table>\n",
       "</div>"
      ],
      "text/plain": [
       "        item_category_name  item_category_id\n",
       "0  PC - Гарнитуры/Наушники                 0\n",
       "1         Аксессуары - PS2                 1\n",
       "2         Аксессуары - PS3                 2\n",
       "3         Аксессуары - PS4                 3\n",
       "4         Аксессуары - PSP                 4\n",
       "5      Аксессуары - PSVita                 5\n",
       "6    Аксессуары - XBOX 360                 6\n",
       "7    Аксессуары - XBOX ONE                 7\n",
       "8           Билеты (Цифра)                 8\n",
       "9          Доставка товара                 9"
      ]
     },
     "execution_count": 5,
     "metadata": {},
     "output_type": "execute_result"
    }
   ],
   "source": [
    "cats.head(10)"
   ]
  },
  {
   "cell_type": "code",
   "execution_count": 6,
   "id": "9245beea",
   "metadata": {
    "execution": {
     "iopub.execute_input": "2021-12-01T23:17:14.187862Z",
     "iopub.status.busy": "2021-12-01T23:17:14.186845Z",
     "iopub.status.idle": "2021-12-01T23:17:14.190547Z",
     "shell.execute_reply": "2021-12-01T23:17:14.191030Z",
     "shell.execute_reply.started": "2021-12-01T19:50:39.848332Z"
    },
    "papermill": {
     "duration": 0.056188,
     "end_time": "2021-12-01T23:17:14.191237",
     "exception": false,
     "start_time": "2021-12-01T23:17:14.135049",
     "status": "completed"
    },
    "tags": []
   },
   "outputs": [
    {
     "data": {
      "text/html": [
       "<div>\n",
       "<style scoped>\n",
       "    .dataframe tbody tr th:only-of-type {\n",
       "        vertical-align: middle;\n",
       "    }\n",
       "\n",
       "    .dataframe tbody tr th {\n",
       "        vertical-align: top;\n",
       "    }\n",
       "\n",
       "    .dataframe thead th {\n",
       "        text-align: right;\n",
       "    }\n",
       "</style>\n",
       "<table border=\"1\" class=\"dataframe\">\n",
       "  <thead>\n",
       "    <tr style=\"text-align: right;\">\n",
       "      <th></th>\n",
       "      <th>date</th>\n",
       "      <th>date_block_num</th>\n",
       "      <th>shop_id</th>\n",
       "      <th>item_id</th>\n",
       "      <th>item_price</th>\n",
       "      <th>item_cnt_day</th>\n",
       "    </tr>\n",
       "  </thead>\n",
       "  <tbody>\n",
       "    <tr>\n",
       "      <th>0</th>\n",
       "      <td>02.01.2013</td>\n",
       "      <td>0</td>\n",
       "      <td>59</td>\n",
       "      <td>22154</td>\n",
       "      <td>999.00</td>\n",
       "      <td>1.0</td>\n",
       "    </tr>\n",
       "    <tr>\n",
       "      <th>1</th>\n",
       "      <td>03.01.2013</td>\n",
       "      <td>0</td>\n",
       "      <td>25</td>\n",
       "      <td>2552</td>\n",
       "      <td>899.00</td>\n",
       "      <td>1.0</td>\n",
       "    </tr>\n",
       "    <tr>\n",
       "      <th>2</th>\n",
       "      <td>05.01.2013</td>\n",
       "      <td>0</td>\n",
       "      <td>25</td>\n",
       "      <td>2552</td>\n",
       "      <td>899.00</td>\n",
       "      <td>-1.0</td>\n",
       "    </tr>\n",
       "    <tr>\n",
       "      <th>3</th>\n",
       "      <td>06.01.2013</td>\n",
       "      <td>0</td>\n",
       "      <td>25</td>\n",
       "      <td>2554</td>\n",
       "      <td>1709.05</td>\n",
       "      <td>1.0</td>\n",
       "    </tr>\n",
       "    <tr>\n",
       "      <th>4</th>\n",
       "      <td>15.01.2013</td>\n",
       "      <td>0</td>\n",
       "      <td>25</td>\n",
       "      <td>2555</td>\n",
       "      <td>1099.00</td>\n",
       "      <td>1.0</td>\n",
       "    </tr>\n",
       "    <tr>\n",
       "      <th>5</th>\n",
       "      <td>10.01.2013</td>\n",
       "      <td>0</td>\n",
       "      <td>25</td>\n",
       "      <td>2564</td>\n",
       "      <td>349.00</td>\n",
       "      <td>1.0</td>\n",
       "    </tr>\n",
       "    <tr>\n",
       "      <th>6</th>\n",
       "      <td>02.01.2013</td>\n",
       "      <td>0</td>\n",
       "      <td>25</td>\n",
       "      <td>2565</td>\n",
       "      <td>549.00</td>\n",
       "      <td>1.0</td>\n",
       "    </tr>\n",
       "    <tr>\n",
       "      <th>7</th>\n",
       "      <td>04.01.2013</td>\n",
       "      <td>0</td>\n",
       "      <td>25</td>\n",
       "      <td>2572</td>\n",
       "      <td>239.00</td>\n",
       "      <td>1.0</td>\n",
       "    </tr>\n",
       "    <tr>\n",
       "      <th>8</th>\n",
       "      <td>11.01.2013</td>\n",
       "      <td>0</td>\n",
       "      <td>25</td>\n",
       "      <td>2572</td>\n",
       "      <td>299.00</td>\n",
       "      <td>1.0</td>\n",
       "    </tr>\n",
       "    <tr>\n",
       "      <th>9</th>\n",
       "      <td>03.01.2013</td>\n",
       "      <td>0</td>\n",
       "      <td>25</td>\n",
       "      <td>2573</td>\n",
       "      <td>299.00</td>\n",
       "      <td>3.0</td>\n",
       "    </tr>\n",
       "  </tbody>\n",
       "</table>\n",
       "</div>"
      ],
      "text/plain": [
       "         date  date_block_num  shop_id  item_id  item_price  item_cnt_day\n",
       "0  02.01.2013               0       59    22154      999.00           1.0\n",
       "1  03.01.2013               0       25     2552      899.00           1.0\n",
       "2  05.01.2013               0       25     2552      899.00          -1.0\n",
       "3  06.01.2013               0       25     2554     1709.05           1.0\n",
       "4  15.01.2013               0       25     2555     1099.00           1.0\n",
       "5  10.01.2013               0       25     2564      349.00           1.0\n",
       "6  02.01.2013               0       25     2565      549.00           1.0\n",
       "7  04.01.2013               0       25     2572      239.00           1.0\n",
       "8  11.01.2013               0       25     2572      299.00           1.0\n",
       "9  03.01.2013               0       25     2573      299.00           3.0"
      ]
     },
     "execution_count": 6,
     "metadata": {},
     "output_type": "execute_result"
    }
   ],
   "source": [
    "train.head(10)"
   ]
  },
  {
   "cell_type": "code",
   "execution_count": 7,
   "id": "72f839e8",
   "metadata": {
    "execution": {
     "iopub.execute_input": "2021-12-01T23:17:14.278528Z",
     "iopub.status.busy": "2021-12-01T23:17:14.277796Z",
     "iopub.status.idle": "2021-12-01T23:17:14.281659Z",
     "shell.execute_reply": "2021-12-01T23:17:14.282202Z",
     "shell.execute_reply.started": "2021-12-01T19:50:39.869455Z"
    },
    "papermill": {
     "duration": 0.051946,
     "end_time": "2021-12-01T23:17:14.282374",
     "exception": false,
     "start_time": "2021-12-01T23:17:14.230428",
     "status": "completed"
    },
    "tags": []
   },
   "outputs": [
    {
     "data": {
      "text/html": [
       "<div>\n",
       "<style scoped>\n",
       "    .dataframe tbody tr th:only-of-type {\n",
       "        vertical-align: middle;\n",
       "    }\n",
       "\n",
       "    .dataframe tbody tr th {\n",
       "        vertical-align: top;\n",
       "    }\n",
       "\n",
       "    .dataframe thead th {\n",
       "        text-align: right;\n",
       "    }\n",
       "</style>\n",
       "<table border=\"1\" class=\"dataframe\">\n",
       "  <thead>\n",
       "    <tr style=\"text-align: right;\">\n",
       "      <th></th>\n",
       "      <th>shop_id</th>\n",
       "      <th>item_id</th>\n",
       "    </tr>\n",
       "    <tr>\n",
       "      <th>ID</th>\n",
       "      <th></th>\n",
       "      <th></th>\n",
       "    </tr>\n",
       "  </thead>\n",
       "  <tbody>\n",
       "    <tr>\n",
       "      <th>0</th>\n",
       "      <td>5</td>\n",
       "      <td>5037</td>\n",
       "    </tr>\n",
       "    <tr>\n",
       "      <th>1</th>\n",
       "      <td>5</td>\n",
       "      <td>5320</td>\n",
       "    </tr>\n",
       "    <tr>\n",
       "      <th>2</th>\n",
       "      <td>5</td>\n",
       "      <td>5233</td>\n",
       "    </tr>\n",
       "    <tr>\n",
       "      <th>3</th>\n",
       "      <td>5</td>\n",
       "      <td>5232</td>\n",
       "    </tr>\n",
       "    <tr>\n",
       "      <th>4</th>\n",
       "      <td>5</td>\n",
       "      <td>5268</td>\n",
       "    </tr>\n",
       "    <tr>\n",
       "      <th>5</th>\n",
       "      <td>5</td>\n",
       "      <td>5039</td>\n",
       "    </tr>\n",
       "    <tr>\n",
       "      <th>6</th>\n",
       "      <td>5</td>\n",
       "      <td>5041</td>\n",
       "    </tr>\n",
       "    <tr>\n",
       "      <th>7</th>\n",
       "      <td>5</td>\n",
       "      <td>5046</td>\n",
       "    </tr>\n",
       "    <tr>\n",
       "      <th>8</th>\n",
       "      <td>5</td>\n",
       "      <td>5319</td>\n",
       "    </tr>\n",
       "    <tr>\n",
       "      <th>9</th>\n",
       "      <td>5</td>\n",
       "      <td>5003</td>\n",
       "    </tr>\n",
       "  </tbody>\n",
       "</table>\n",
       "</div>"
      ],
      "text/plain": [
       "    shop_id  item_id\n",
       "ID                  \n",
       "0         5     5037\n",
       "1         5     5320\n",
       "2         5     5233\n",
       "3         5     5232\n",
       "4         5     5268\n",
       "5         5     5039\n",
       "6         5     5041\n",
       "7         5     5046\n",
       "8         5     5319\n",
       "9         5     5003"
      ]
     },
     "execution_count": 7,
     "metadata": {},
     "output_type": "execute_result"
    }
   ],
   "source": [
    "test.head(10)"
   ]
  },
  {
   "cell_type": "markdown",
   "id": "4c863b2b",
   "metadata": {
    "papermill": {
     "duration": 0.039632,
     "end_time": "2021-12-01T23:17:14.362878",
     "exception": false,
     "start_time": "2021-12-01T23:17:14.323246",
     "status": "completed"
    },
    "tags": []
   },
   "source": [
    "Рассмотрим данные, они включают следующие признаки: даты проданного товара, номер месяца, номер товаров и магазинов, номер представляющий пару магазин - товар, номер категории товара, количество проданных товаров, цена товара, наименование товара, наименование магазина, наименование категории товара. Так как пропущенных данных нету, рассмотрим их значения на графиках."
   ]
  },
  {
   "cell_type": "code",
   "execution_count": 8,
   "id": "f3e5a328",
   "metadata": {
    "execution": {
     "iopub.execute_input": "2021-12-01T23:17:14.446338Z",
     "iopub.status.busy": "2021-12-01T23:17:14.445659Z",
     "iopub.status.idle": "2021-12-01T23:17:15.857882Z",
     "shell.execute_reply": "2021-12-01T23:17:15.857353Z",
     "shell.execute_reply.started": "2021-12-01T19:50:39.880343Z"
    },
    "papermill": {
     "duration": 1.455199,
     "end_time": "2021-12-01T23:17:15.858017",
     "exception": false,
     "start_time": "2021-12-01T23:17:14.402818",
     "status": "completed"
    },
    "tags": []
   },
   "outputs": [
    {
     "data": {
      "text/plain": [
       "<AxesSubplot:xlabel='item_cnt_day'>"
      ]
     },
     "execution_count": 8,
     "metadata": {},
     "output_type": "execute_result"
    },
    {
     "data": {
      "image/png": "[encoded data removed]",
      "text/plain": [
       "<Figure size 720x288 with 1 Axes>"
      ]
     },
     "metadata": {
      "needs_background": "light"
     },
     "output_type": "display_data"
    }
   ],
   "source": [
    "plt.figure(figsize=(10,4))\n",
    "plt.xlim(-100, 3000)\n",
    "sns.boxplot(x=train.item_cnt_day)"
   ]
  },
  {
   "cell_type": "code",
   "execution_count": 9,
   "id": "f67fd6ad",
   "metadata": {
    "execution": {
     "iopub.execute_input": "2021-12-01T23:17:15.949057Z",
     "iopub.status.busy": "2021-12-01T23:17:15.948440Z",
     "iopub.status.idle": "2021-12-01T23:17:17.190091Z",
     "shell.execute_reply": "2021-12-01T23:17:17.189143Z",
     "shell.execute_reply.started": "2021-12-01T19:50:41.232240Z"
    },
    "papermill": {
     "duration": 1.290829,
     "end_time": "2021-12-01T23:17:17.190286",
     "exception": false,
     "start_time": "2021-12-01T23:17:15.899457",
     "status": "completed"
    },
    "tags": []
   },
   "outputs": [
    {
     "data": {
      "text/plain": [
       "<AxesSubplot:xlabel='item_price'>"
      ]
     },
     "execution_count": 9,
     "metadata": {},
     "output_type": "execute_result"
    },
    {
     "data": {
      "image/png": "[encoded data removed]",
      "text/plain": [
       "<Figure size 720x288 with 1 Axes>"
      ]
     },
     "metadata": {
      "needs_background": "light"
     },
     "output_type": "display_data"
    }
   ],
   "source": [
    "plt.figure(figsize=(10,4))\n",
    "plt.xlim(train.item_price.min(), train.item_price.max()*1.1)\n",
    "sns.boxplot(x=train.item_price)"
   ]
  },
  {
   "cell_type": "markdown",
   "id": "466748fa",
   "metadata": {
    "papermill": {
     "duration": 0.040947,
     "end_time": "2021-12-01T23:17:17.272445",
     "exception": false,
     "start_time": "2021-12-01T23:17:17.231498",
     "status": "completed"
    },
    "tags": []
   },
   "source": [
    "На графиках видны 2 сильно выделяющихся значения, для большего качества удалим их из общего количества"
   ]
  },
  {
   "cell_type": "code",
   "execution_count": 10,
   "id": "e36f7405",
   "metadata": {
    "execution": {
     "iopub.execute_input": "2021-12-01T23:17:17.363190Z",
     "iopub.status.busy": "2021-12-01T23:17:17.362569Z",
     "iopub.status.idle": "2021-12-01T23:17:17.619539Z",
     "shell.execute_reply": "2021-12-01T23:17:17.618924Z",
     "shell.execute_reply.started": "2021-12-01T19:50:42.443369Z"
    },
    "papermill": {
     "duration": 0.306109,
     "end_time": "2021-12-01T23:17:17.619708",
     "exception": false,
     "start_time": "2021-12-01T23:17:17.313599",
     "status": "completed"
    },
    "tags": []
   },
   "outputs": [],
   "source": [
    "train = train[train.item_price<90000]\n",
    "train = train[train.item_cnt_day<1001]"
   ]
  },
  {
   "cell_type": "markdown",
   "id": "ad056adc",
   "metadata": {
    "papermill": {
     "duration": 0.04195,
     "end_time": "2021-12-01T23:17:17.703203",
     "exception": false,
     "start_time": "2021-12-01T23:17:17.661253",
     "status": "completed"
    },
    "tags": []
   },
   "source": [
    "Также заменим значение признака цена товара, который меньше нуля на среднее значение цены"
   ]
  },
  {
   "cell_type": "code",
   "execution_count": 11,
   "id": "582425b3",
   "metadata": {
    "execution": {
     "iopub.execute_input": "2021-12-01T23:17:17.795713Z",
     "iopub.status.busy": "2021-12-01T23:17:17.794618Z",
     "iopub.status.idle": "2021-12-01T23:17:17.834428Z",
     "shell.execute_reply": "2021-12-01T23:17:17.833823Z",
     "shell.execute_reply.started": "2021-12-01T19:50:42.666349Z"
    },
    "papermill": {
     "duration": 0.089951,
     "end_time": "2021-12-01T23:17:17.834580",
     "exception": false,
     "start_time": "2021-12-01T23:17:17.744629",
     "status": "completed"
    },
    "tags": []
   },
   "outputs": [],
   "source": [
    "median = train[(train.shop_id==32)&(train.item_id==2973)&(train.date_block_num==4)&(train.item_price>0)].item_price.median()\n",
    "train.loc[train.item_price<0, 'item_price'] = median"
   ]
  },
  {
   "cell_type": "markdown",
   "id": "be1a2540",
   "metadata": {
    "papermill": {
     "duration": 0.040859,
     "end_time": "2021-12-01T23:17:17.917070",
     "exception": false,
     "start_time": "2021-12-01T23:17:17.876211",
     "status": "completed"
    },
    "tags": []
   },
   "source": [
    "Исправим повторения в признаках названий магазинов заменив их номера"
   ]
  },
  {
   "cell_type": "code",
   "execution_count": 12,
   "id": "d6c0f82b",
   "metadata": {
    "execution": {
     "iopub.execute_input": "2021-12-01T23:17:18.008058Z",
     "iopub.status.busy": "2021-12-01T23:17:18.007394Z",
     "iopub.status.idle": "2021-12-01T23:17:18.074249Z",
     "shell.execute_reply": "2021-12-01T23:17:18.073670Z",
     "shell.execute_reply.started": "2021-12-01T19:50:42.712346Z"
    },
    "papermill": {
     "duration": 0.115657,
     "end_time": "2021-12-01T23:17:18.074400",
     "exception": false,
     "start_time": "2021-12-01T23:17:17.958743",
     "status": "completed"
    },
    "tags": []
   },
   "outputs": [],
   "source": [
    "# Якутск Орджоникидзе, 56\n",
    "train.loc[train.shop_id == 0, 'shop_id'] = 57\n",
    "test.loc[test.shop_id == 0, 'shop_id'] = 57\n",
    "# Якутск ТЦ \"Центральный\"\n",
    "train.loc[train.shop_id == 1, 'shop_id'] = 58\n",
    "test.loc[test.shop_id == 1, 'shop_id'] = 58\n",
    "# Жуковский ул. Чкалова 39м²\n",
    "train.loc[train.shop_id == 10, 'shop_id'] = 11\n",
    "test.loc[test.shop_id == 10, 'shop_id'] = 11"
   ]
  },
  {
   "cell_type": "markdown",
   "id": "34911ab7",
   "metadata": {
    "papermill": {
     "duration": 0.041508,
     "end_time": "2021-12-01T23:17:18.158856",
     "exception": false,
     "start_time": "2021-12-01T23:17:18.117348",
     "status": "completed"
    },
    "tags": []
   },
   "source": [
    "Для удобства данных приведем их строковые признаки к числовым. Заменим названия магазинов, на код города, в котором они располагаются, также разделим название категории товара на 2 категории и обе занесем в виде численных значений кодов соответствующих наименований категорий и подкатегорий товара."
   ]
  },
  {
   "cell_type": "code",
   "execution_count": 13,
   "id": "21544710",
   "metadata": {
    "execution": {
     "iopub.execute_input": "2021-12-01T23:17:18.263197Z",
     "iopub.status.busy": "2021-12-01T23:17:18.256194Z",
     "iopub.status.idle": "2021-12-01T23:17:18.266280Z",
     "shell.execute_reply": "2021-12-01T23:17:18.265738Z",
     "shell.execute_reply.started": "2021-12-01T19:50:42.786213Z"
    },
    "papermill": {
     "duration": 0.065967,
     "end_time": "2021-12-01T23:17:18.266432",
     "exception": false,
     "start_time": "2021-12-01T23:17:18.200465",
     "status": "completed"
    },
    "tags": []
   },
   "outputs": [],
   "source": [
    "#разделение проводим с помощью функции split\n",
    "shops.loc[shops.shop_name == 'Сергиев Посад ТЦ \"7Я\"', 'shop_name'] = 'СергиевПосад ТЦ \"7Я\"'\n",
    "shops['city'] = shops['shop_name'].str.split(' ').map(lambda x: x[0])\n",
    "shops.loc[shops.city == '!Якутск', 'city'] = 'Якутск'\n",
    "shops['city_code'] = LabelEncoder().fit_transform(shops['city'])\n",
    "shops = shops[['shop_id','city_code']]\n",
    "\n",
    "cats['split'] = cats['item_category_name'].str.split('-')\n",
    "cats['type'] = cats['split'].map(lambda x: x[0].strip())\n",
    "cats['type_code'] = LabelEncoder().fit_transform(cats['type'])\n",
    "# для случая если признак состоит только из 1 серии(содержит в себе 1 часть изначально)\n",
    "cats['subtype'] = cats['split'].map(lambda x: x[1].strip() if len(x) > 1 else x[0].strip())\n",
    "cats['subtype_code'] = LabelEncoder().fit_transform(cats['subtype'])\n",
    "cats = cats[['item_category_id','type_code', 'subtype_code']]\n",
    "\n",
    "items.drop(['item_name'], axis=1, inplace=True)"
   ]
  },
  {
   "cell_type": "code",
   "execution_count": 14,
   "id": "e6f30eed",
   "metadata": {
    "execution": {
     "iopub.execute_input": "2021-12-01T23:17:18.359384Z",
     "iopub.status.busy": "2021-12-01T23:17:18.358668Z",
     "iopub.status.idle": "2021-12-01T23:17:18.362251Z",
     "shell.execute_reply": "2021-12-01T23:17:18.361684Z",
     "shell.execute_reply.started": "2021-12-01T19:50:42.807852Z"
    },
    "papermill": {
     "duration": 0.053811,
     "end_time": "2021-12-01T23:17:18.362392",
     "exception": false,
     "start_time": "2021-12-01T23:17:18.308581",
     "status": "completed"
    },
    "tags": []
   },
   "outputs": [
    {
     "data": {
      "text/html": [
       "<div>\n",
       "<style scoped>\n",
       "    .dataframe tbody tr th:only-of-type {\n",
       "        vertical-align: middle;\n",
       "    }\n",
       "\n",
       "    .dataframe tbody tr th {\n",
       "        vertical-align: top;\n",
       "    }\n",
       "\n",
       "    .dataframe thead th {\n",
       "        text-align: right;\n",
       "    }\n",
       "</style>\n",
       "<table border=\"1\" class=\"dataframe\">\n",
       "  <thead>\n",
       "    <tr style=\"text-align: right;\">\n",
       "      <th></th>\n",
       "      <th>shop_id</th>\n",
       "      <th>city_code</th>\n",
       "    </tr>\n",
       "  </thead>\n",
       "  <tbody>\n",
       "    <tr>\n",
       "      <th>0</th>\n",
       "      <td>0</td>\n",
       "      <td>29</td>\n",
       "    </tr>\n",
       "    <tr>\n",
       "      <th>1</th>\n",
       "      <td>1</td>\n",
       "      <td>29</td>\n",
       "    </tr>\n",
       "    <tr>\n",
       "      <th>2</th>\n",
       "      <td>2</td>\n",
       "      <td>0</td>\n",
       "    </tr>\n",
       "    <tr>\n",
       "      <th>3</th>\n",
       "      <td>3</td>\n",
       "      <td>1</td>\n",
       "    </tr>\n",
       "    <tr>\n",
       "      <th>4</th>\n",
       "      <td>4</td>\n",
       "      <td>2</td>\n",
       "    </tr>\n",
       "    <tr>\n",
       "      <th>5</th>\n",
       "      <td>5</td>\n",
       "      <td>3</td>\n",
       "    </tr>\n",
       "    <tr>\n",
       "      <th>6</th>\n",
       "      <td>6</td>\n",
       "      <td>4</td>\n",
       "    </tr>\n",
       "    <tr>\n",
       "      <th>7</th>\n",
       "      <td>7</td>\n",
       "      <td>4</td>\n",
       "    </tr>\n",
       "    <tr>\n",
       "      <th>8</th>\n",
       "      <td>8</td>\n",
       "      <td>4</td>\n",
       "    </tr>\n",
       "    <tr>\n",
       "      <th>9</th>\n",
       "      <td>9</td>\n",
       "      <td>5</td>\n",
       "    </tr>\n",
       "  </tbody>\n",
       "</table>\n",
       "</div>"
      ],
      "text/plain": [
       "   shop_id  city_code\n",
       "0        0         29\n",
       "1        1         29\n",
       "2        2          0\n",
       "3        3          1\n",
       "4        4          2\n",
       "5        5          3\n",
       "6        6          4\n",
       "7        7          4\n",
       "8        8          4\n",
       "9        9          5"
      ]
     },
     "execution_count": 14,
     "metadata": {},
     "output_type": "execute_result"
    }
   ],
   "source": [
    "shops.head(10)"
   ]
  },
  {
   "cell_type": "code",
   "execution_count": 15,
   "id": "bacb0cc4",
   "metadata": {
    "execution": {
     "iopub.execute_input": "2021-12-01T23:17:18.455459Z",
     "iopub.status.busy": "2021-12-01T23:17:18.454825Z",
     "iopub.status.idle": "2021-12-01T23:17:18.458853Z",
     "shell.execute_reply": "2021-12-01T23:17:18.458378Z",
     "shell.execute_reply.started": "2021-12-01T19:50:42.833543Z"
    },
    "papermill": {
     "duration": 0.054633,
     "end_time": "2021-12-01T23:17:18.458983",
     "exception": false,
     "start_time": "2021-12-01T23:17:18.404350",
     "status": "completed"
    },
    "tags": []
   },
   "outputs": [
    {
     "data": {
      "text/html": [
       "<div>\n",
       "<style scoped>\n",
       "    .dataframe tbody tr th:only-of-type {\n",
       "        vertical-align: middle;\n",
       "    }\n",
       "\n",
       "    .dataframe tbody tr th {\n",
       "        vertical-align: top;\n",
       "    }\n",
       "\n",
       "    .dataframe thead th {\n",
       "        text-align: right;\n",
       "    }\n",
       "</style>\n",
       "<table border=\"1\" class=\"dataframe\">\n",
       "  <thead>\n",
       "    <tr style=\"text-align: right;\">\n",
       "      <th></th>\n",
       "      <th>item_category_id</th>\n",
       "      <th>type_code</th>\n",
       "      <th>subtype_code</th>\n",
       "    </tr>\n",
       "  </thead>\n",
       "  <tbody>\n",
       "    <tr>\n",
       "      <th>0</th>\n",
       "      <td>0</td>\n",
       "      <td>0</td>\n",
       "      <td>29</td>\n",
       "    </tr>\n",
       "    <tr>\n",
       "      <th>1</th>\n",
       "      <td>1</td>\n",
       "      <td>1</td>\n",
       "      <td>9</td>\n",
       "    </tr>\n",
       "    <tr>\n",
       "      <th>2</th>\n",
       "      <td>2</td>\n",
       "      <td>1</td>\n",
       "      <td>10</td>\n",
       "    </tr>\n",
       "    <tr>\n",
       "      <th>3</th>\n",
       "      <td>3</td>\n",
       "      <td>1</td>\n",
       "      <td>11</td>\n",
       "    </tr>\n",
       "    <tr>\n",
       "      <th>4</th>\n",
       "      <td>4</td>\n",
       "      <td>1</td>\n",
       "      <td>13</td>\n",
       "    </tr>\n",
       "    <tr>\n",
       "      <th>5</th>\n",
       "      <td>5</td>\n",
       "      <td>1</td>\n",
       "      <td>14</td>\n",
       "    </tr>\n",
       "    <tr>\n",
       "      <th>6</th>\n",
       "      <td>6</td>\n",
       "      <td>1</td>\n",
       "      <td>16</td>\n",
       "    </tr>\n",
       "    <tr>\n",
       "      <th>7</th>\n",
       "      <td>7</td>\n",
       "      <td>1</td>\n",
       "      <td>17</td>\n",
       "    </tr>\n",
       "    <tr>\n",
       "      <th>8</th>\n",
       "      <td>8</td>\n",
       "      <td>2</td>\n",
       "      <td>26</td>\n",
       "    </tr>\n",
       "    <tr>\n",
       "      <th>9</th>\n",
       "      <td>9</td>\n",
       "      <td>3</td>\n",
       "      <td>33</td>\n",
       "    </tr>\n",
       "  </tbody>\n",
       "</table>\n",
       "</div>"
      ],
      "text/plain": [
       "   item_category_id  type_code  subtype_code\n",
       "0                 0          0            29\n",
       "1                 1          1             9\n",
       "2                 2          1            10\n",
       "3                 3          1            11\n",
       "4                 4          1            13\n",
       "5                 5          1            14\n",
       "6                 6          1            16\n",
       "7                 7          1            17\n",
       "8                 8          2            26\n",
       "9                 9          3            33"
      ]
     },
     "execution_count": 15,
     "metadata": {},
     "output_type": "execute_result"
    }
   ],
   "source": [
    "cats.head(10)"
   ]
  },
  {
   "cell_type": "code",
   "execution_count": 16,
   "id": "f1893487",
   "metadata": {
    "execution": {
     "iopub.execute_input": "2021-12-01T23:17:18.548997Z",
     "iopub.status.busy": "2021-12-01T23:17:18.546881Z",
     "iopub.status.idle": "2021-12-01T23:17:18.571048Z",
     "shell.execute_reply": "2021-12-01T23:17:18.570528Z",
     "shell.execute_reply.started": "2021-12-01T19:50:42.846135Z"
    },
    "papermill": {
     "duration": 0.06958,
     "end_time": "2021-12-01T23:17:18.571199",
     "exception": false,
     "start_time": "2021-12-01T23:17:18.501619",
     "status": "completed"
    },
    "tags": []
   },
   "outputs": [
    {
     "data": {
      "text/html": [
       "<div>\n",
       "<style scoped>\n",
       "    .dataframe tbody tr th:only-of-type {\n",
       "        vertical-align: middle;\n",
       "    }\n",
       "\n",
       "    .dataframe tbody tr th {\n",
       "        vertical-align: top;\n",
       "    }\n",
       "\n",
       "    .dataframe thead th {\n",
       "        text-align: right;\n",
       "    }\n",
       "</style>\n",
       "<table border=\"1\" class=\"dataframe\">\n",
       "  <thead>\n",
       "    <tr style=\"text-align: right;\">\n",
       "      <th></th>\n",
       "      <th>shop_id</th>\n",
       "      <th>item_id</th>\n",
       "    </tr>\n",
       "  </thead>\n",
       "  <tbody>\n",
       "    <tr>\n",
       "      <th>count</th>\n",
       "      <td>214200.000000</td>\n",
       "      <td>214200.000000</td>\n",
       "    </tr>\n",
       "    <tr>\n",
       "      <th>mean</th>\n",
       "      <td>31.666667</td>\n",
       "      <td>11019.398627</td>\n",
       "    </tr>\n",
       "    <tr>\n",
       "      <th>std</th>\n",
       "      <td>17.533229</td>\n",
       "      <td>6252.644590</td>\n",
       "    </tr>\n",
       "    <tr>\n",
       "      <th>min</th>\n",
       "      <td>2.000000</td>\n",
       "      <td>30.000000</td>\n",
       "    </tr>\n",
       "    <tr>\n",
       "      <th>25%</th>\n",
       "      <td>16.000000</td>\n",
       "      <td>5381.500000</td>\n",
       "    </tr>\n",
       "    <tr>\n",
       "      <th>50%</th>\n",
       "      <td>34.500000</td>\n",
       "      <td>11203.000000</td>\n",
       "    </tr>\n",
       "    <tr>\n",
       "      <th>75%</th>\n",
       "      <td>47.000000</td>\n",
       "      <td>16071.500000</td>\n",
       "    </tr>\n",
       "    <tr>\n",
       "      <th>max</th>\n",
       "      <td>59.000000</td>\n",
       "      <td>22167.000000</td>\n",
       "    </tr>\n",
       "  </tbody>\n",
       "</table>\n",
       "</div>"
      ],
      "text/plain": [
       "             shop_id        item_id\n",
       "count  214200.000000  214200.000000\n",
       "mean       31.666667   11019.398627\n",
       "std        17.533229    6252.644590\n",
       "min         2.000000      30.000000\n",
       "25%        16.000000    5381.500000\n",
       "50%        34.500000   11203.000000\n",
       "75%        47.000000   16071.500000\n",
       "max        59.000000   22167.000000"
      ]
     },
     "execution_count": 16,
     "metadata": {},
     "output_type": "execute_result"
    }
   ],
   "source": [
    "test.describe(include=\"all\")"
   ]
  },
  {
   "cell_type": "markdown",
   "id": "af8ff9ba",
   "metadata": {
    "papermill": {
     "duration": 0.042764,
     "end_time": "2021-12-01T23:17:18.656762",
     "exception": false,
     "start_time": "2021-12-01T23:17:18.613998",
     "status": "completed"
    },
    "tags": []
   },
   "source": [
    "С помощью функции intersection, найдем пересечение множеств (общие идентификаторы товара) для обучающей и тестовой выборок, при вычитании длинны тестовой из общего множества двух выборок найдем количество новых товаров тестовой выборки по сравнению с обучающей выборкой"
   ]
  },
  {
   "cell_type": "code",
   "execution_count": 17,
   "id": "c79265e6",
   "metadata": {
    "execution": {
     "iopub.execute_input": "2021-12-01T23:17:19.087377Z",
     "iopub.status.busy": "2021-12-01T23:17:19.086683Z",
     "iopub.status.idle": "2021-12-01T23:17:19.113546Z",
     "shell.execute_reply": "2021-12-01T23:17:19.114201Z",
     "shell.execute_reply.started": "2021-12-01T19:50:42.871518Z"
    },
    "papermill": {
     "duration": 0.414702,
     "end_time": "2021-12-01T23:17:19.114400",
     "exception": false,
     "start_time": "2021-12-01T23:17:18.699698",
     "status": "completed"
    },
    "tags": []
   },
   "outputs": [
    {
     "data": {
      "text/plain": [
       "(363, 5100, 214200)"
      ]
     },
     "execution_count": 17,
     "metadata": {},
     "output_type": "execute_result"
    }
   ],
   "source": [
    "len(list(set(test.item_id) - set(test.item_id).intersection(set(train.item_id)))), len(list(set(test.item_id))), len(test)"
   ]
  },
  {
   "cell_type": "markdown",
   "id": "c6d4ba3f",
   "metadata": {
    "papermill": {
     "duration": 0.043117,
     "end_time": "2021-12-01T23:17:19.201572",
     "exception": false,
     "start_time": "2021-12-01T23:17:19.158455",
     "status": "completed"
    },
    "tags": []
   },
   "source": [
    "Отсюда видно, что в наборе тестовых данных содержится 214200 значений Магазин-товар, а также 363 новых товара, значит для большинства элементов тестового набора данных целевое значение должно быть равно нулю. А обучающая выборка содержит пары, которые были проданы или возвращены. Из этого следует, что хорошим решением будет подсчитать ежемесячные продажи, а также добавить в них продажи для каждой пары в течение месяца, значения которых равны нулю. Тогда данные обучающей выборки будут аналогичны данным тестовой."
   ]
  },
  {
   "cell_type": "code",
   "execution_count": 18,
   "id": "06ac9f85",
   "metadata": {
    "execution": {
     "iopub.execute_input": "2021-12-01T23:17:19.290430Z",
     "iopub.status.busy": "2021-12-01T23:17:19.289798Z",
     "iopub.status.idle": "2021-12-01T23:17:36.267878Z",
     "shell.execute_reply": "2021-12-01T23:17:36.267052Z",
     "shell.execute_reply.started": "2021-12-01T19:50:43.445892Z"
    },
    "papermill": {
     "duration": 17.023849,
     "end_time": "2021-12-01T23:17:36.268055",
     "exception": false,
     "start_time": "2021-12-01T23:17:19.244206",
     "status": "completed"
    },
    "tags": []
   },
   "outputs": [],
   "source": [
    "#добавляем в матрицу matrix признаки: номер магазина и товара по номерам месяцев\n",
    "matrix = []\n",
    "cols = ['date_block_num','shop_id','item_id']\n",
    "for i in range(34):\n",
    "    sales = train[train.date_block_num==i]\n",
    "    matrix.append(np.array(list(product([i], sales.shop_id.unique(), sales.item_id.unique())), dtype='int16'))\n",
    "#преобразуем значения матрицы к значениям int    \n",
    "matrix = pd.DataFrame(np.vstack(matrix), columns=cols)\n",
    "matrix['date_block_num'] = matrix['date_block_num'].astype(np.int8)\n",
    "matrix['shop_id'] = matrix['shop_id'].astype(np.int8)\n",
    "matrix['item_id'] = matrix['item_id'].astype(np.int16)\n",
    "matrix.sort_values(cols,inplace=True)"
   ]
  },
  {
   "cell_type": "markdown",
   "id": "4680db35",
   "metadata": {
    "papermill": {
     "duration": 0.042379,
     "end_time": "2021-12-01T23:17:36.354365",
     "exception": false,
     "start_time": "2021-12-01T23:17:36.311986",
     "status": "completed"
    },
    "tags": []
   },
   "source": [
    "создадим в обучающей выборке новый признак, как произведение количества проданных товаров и их цену, чтобы рассчитать значение выручки, затем выделим значения в диапазоне(0, 20). Таким образом мы сделаем обучающую целевую величину наиболее близкой к тестовому предсказанию."
   ]
  },
  {
   "cell_type": "code",
   "execution_count": 19,
   "id": "1c8093e1",
   "metadata": {
    "execution": {
     "iopub.execute_input": "2021-12-01T23:17:36.448252Z",
     "iopub.status.busy": "2021-12-01T23:17:36.447156Z",
     "iopub.status.idle": "2021-12-01T23:17:36.469284Z",
     "shell.execute_reply": "2021-12-01T23:17:36.469724Z",
     "shell.execute_reply.started": "2021-12-01T19:51:11.054621Z"
    },
    "papermill": {
     "duration": 0.071733,
     "end_time": "2021-12-01T23:17:36.469919",
     "exception": false,
     "start_time": "2021-12-01T23:17:36.398186",
     "status": "completed"
    },
    "tags": []
   },
   "outputs": [],
   "source": [
    "train['revenue'] = train['item_price'] *  train['item_cnt_day']"
   ]
  },
  {
   "cell_type": "code",
   "execution_count": 20,
   "id": "61f784e2",
   "metadata": {
    "execution": {
     "iopub.execute_input": "2021-12-01T23:17:36.564515Z",
     "iopub.status.busy": "2021-12-01T23:17:36.563546Z",
     "iopub.status.idle": "2021-12-01T23:17:42.029454Z",
     "shell.execute_reply": "2021-12-01T23:17:42.029909Z",
     "shell.execute_reply.started": "2021-12-01T19:51:11.075556Z"
    },
    "papermill": {
     "duration": 5.514698,
     "end_time": "2021-12-01T23:17:42.030096",
     "exception": false,
     "start_time": "2021-12-01T23:17:36.515398",
     "status": "completed"
    },
    "tags": []
   },
   "outputs": [],
   "source": [
    "#вычисляем сумму количества проданных товаров в день(или находим количество проданных товаров в месяц) и присваиваем в данные matrix\n",
    "group = train.groupby(['date_block_num','shop_id','item_id']).agg({'item_cnt_day': ['sum']})\n",
    "group.columns = ['item_cnt_month']\n",
    "group.reset_index(inplace=True)\n",
    "\n",
    "matrix = pd.merge(matrix, group, on=cols, how='left')\n",
    "matrix['item_cnt_month'] = (matrix['item_cnt_month']\n",
    "                                .fillna(0)\n",
    "                                .clip(0,20)\n",
    "                                .astype(np.float16))"
   ]
  },
  {
   "cell_type": "markdown",
   "id": "00147983",
   "metadata": {
    "papermill": {
     "duration": 0.044124,
     "end_time": "2021-12-01T23:17:42.118037",
     "exception": false,
     "start_time": "2021-12-01T23:17:42.073913",
     "status": "completed"
    },
    "tags": []
   },
   "source": [
    "Также добавим значения из тестовой выборки в матрицу"
   ]
  },
  {
   "cell_type": "code",
   "execution_count": 21,
   "id": "af8344a6",
   "metadata": {
    "execution": {
     "iopub.execute_input": "2021-12-01T23:17:42.216523Z",
     "iopub.status.busy": "2021-12-01T23:17:42.215295Z",
     "iopub.status.idle": "2021-12-01T23:17:42.221495Z",
     "shell.execute_reply": "2021-12-01T23:17:42.221932Z",
     "shell.execute_reply.started": "2021-12-01T19:51:17.610208Z"
    },
    "papermill": {
     "duration": 0.060221,
     "end_time": "2021-12-01T23:17:42.222105",
     "exception": false,
     "start_time": "2021-12-01T23:17:42.161884",
     "status": "completed"
    },
    "tags": []
   },
   "outputs": [],
   "source": [
    "#приведем данные к типу int\n",
    "test['date_block_num'] = 34\n",
    "test['date_block_num'] = test['date_block_num'].astype(np.int8)\n",
    "test['shop_id'] = test['shop_id'].astype(np.int8)\n",
    "test['item_id'] = test['item_id'].astype(np.int16)"
   ]
  },
  {
   "cell_type": "code",
   "execution_count": 22,
   "id": "b8e5f111",
   "metadata": {
    "execution": {
     "iopub.execute_input": "2021-12-01T23:17:42.318085Z",
     "iopub.status.busy": "2021-12-01T23:17:42.316226Z",
     "iopub.status.idle": "2021-12-01T23:17:42.384904Z",
     "shell.execute_reply": "2021-12-01T23:17:42.384034Z",
     "shell.execute_reply.started": "2021-12-01T19:51:17.619250Z"
    },
    "papermill": {
     "duration": 0.118762,
     "end_time": "2021-12-01T23:17:42.385059",
     "exception": false,
     "start_time": "2021-12-01T23:17:42.266297",
     "status": "completed"
    },
    "tags": []
   },
   "outputs": [],
   "source": [
    "#с помощью функции concat сцепляем матрицы по столбцам\n",
    "matrix = pd.concat([matrix, test], ignore_index=True, sort=False, keys=cols)\n",
    "matrix.fillna(0, inplace=True) # 34 месяца"
   ]
  },
  {
   "cell_type": "code",
   "execution_count": 23,
   "id": "d6882692",
   "metadata": {
    "execution": {
     "iopub.execute_input": "2021-12-01T23:17:42.485021Z",
     "iopub.status.busy": "2021-12-01T23:17:42.483713Z",
     "iopub.status.idle": "2021-12-01T23:17:46.238278Z",
     "shell.execute_reply": "2021-12-01T23:17:46.237682Z",
     "shell.execute_reply.started": "2021-12-01T19:51:17.705249Z"
    },
    "papermill": {
     "duration": 3.807125,
     "end_time": "2021-12-01T23:17:46.238423",
     "exception": false,
     "start_time": "2021-12-01T23:17:42.431298",
     "status": "completed"
    },
    "tags": []
   },
   "outputs": [],
   "source": [
    "#Добавляем признаки номера магазина, товара, номера категории товара с помощью функции merge, также приводим признаки к типу int\n",
    "matrix = pd.merge(matrix, shops, on=['shop_id'], how='left')\n",
    "matrix = pd.merge(matrix, items, on=['item_id'], how='left')\n",
    "matrix = pd.merge(matrix, cats, on=['item_category_id'], how='left')\n",
    "matrix['city_code'] = matrix['city_code'].astype(np.int8)\n",
    "matrix['item_category_id'] = matrix['item_category_id'].astype(np.int8)\n",
    "matrix['type_code'] = matrix['type_code'].astype(np.int8)\n",
    "matrix['subtype_code'] = matrix['subtype_code'].astype(np.int8)"
   ]
  },
  {
   "cell_type": "code",
   "execution_count": 24,
   "id": "b61e5554",
   "metadata": {
    "execution": {
     "iopub.execute_input": "2021-12-01T23:17:46.330468Z",
     "iopub.status.busy": "2021-12-01T23:17:46.329826Z",
     "iopub.status.idle": "2021-12-01T23:17:46.332645Z",
     "shell.execute_reply": "2021-12-01T23:17:46.332191Z",
     "shell.execute_reply.started": "2021-12-01T19:51:22.698637Z"
    },
    "papermill": {
     "duration": 0.051299,
     "end_time": "2021-12-01T23:17:46.332788",
     "exception": false,
     "start_time": "2021-12-01T23:17:46.281489",
     "status": "completed"
    },
    "tags": []
   },
   "outputs": [],
   "source": [
    "#Вводим функцию, для нахождения количества проданных товаров за n месяцев\n",
    "def lag_feature(df, lags, col):\n",
    "    tmp = df[['date_block_num','shop_id','item_id',col]]\n",
    "    for i in lags:\n",
    "        shifted = tmp.copy()\n",
    "        shifted.columns = ['date_block_num','shop_id','item_id', col+'_lag_'+str(i)]\n",
    "        shifted['date_block_num'] += i\n",
    "        df = pd.merge(df, shifted, on=['date_block_num','shop_id','item_id'], how='left')\n",
    "    return df"
   ]
  },
  {
   "cell_type": "code",
   "execution_count": 25,
   "id": "2c457b3a",
   "metadata": {
    "execution": {
     "iopub.execute_input": "2021-12-01T23:17:46.424813Z",
     "iopub.status.busy": "2021-12-01T23:17:46.424105Z",
     "iopub.status.idle": "2021-12-01T23:18:22.939016Z",
     "shell.execute_reply": "2021-12-01T23:18:22.938484Z",
     "shell.execute_reply.started": "2021-12-01T19:51:22.706716Z"
    },
    "papermill": {
     "duration": 36.563615,
     "end_time": "2021-12-01T23:18:22.939200",
     "exception": false,
     "start_time": "2021-12-01T23:17:46.375585",
     "status": "completed"
    },
    "tags": []
   },
   "outputs": [],
   "source": [
    "#добавим признаки количества товаров проданных за 1,2,3,6 и 12 месяцев\n",
    "matrix = lag_feature(matrix, [1,2,3,6,12], 'item_cnt_month')"
   ]
  },
  {
   "cell_type": "code",
   "execution_count": 26,
   "id": "5afc2342",
   "metadata": {
    "execution": {
     "iopub.execute_input": "2021-12-01T23:18:23.036169Z",
     "iopub.status.busy": "2021-12-01T23:18:23.035451Z",
     "iopub.status.idle": "2021-12-01T23:18:33.005062Z",
     "shell.execute_reply": "2021-12-01T23:18:33.004384Z",
     "shell.execute_reply.started": "2021-12-01T19:52:07.978486Z"
    },
    "papermill": {
     "duration": 10.021815,
     "end_time": "2021-12-01T23:18:33.005255",
     "exception": false,
     "start_time": "2021-12-01T23:18:22.983440",
     "status": "completed"
    },
    "tags": []
   },
   "outputs": [],
   "source": [
    "#Добавим признак среднего количества проданных товаров в месяц\n",
    "group = matrix.groupby(['date_block_num']).agg({'item_cnt_month': ['mean']})\n",
    "group.columns = [ 'date_avg_item_cnt' ]\n",
    "group.reset_index(inplace=True)\n",
    "\n",
    "matrix = pd.merge(matrix, group, on=['date_block_num'], how='left')\n",
    "matrix['date_avg_item_cnt'] = matrix['date_avg_item_cnt'].astype(np.float16)\n",
    "matrix = lag_feature(matrix, [1], 'date_avg_item_cnt')\n",
    "matrix.drop(['date_avg_item_cnt'], axis=1, inplace=True)"
   ]
  },
  {
   "cell_type": "code",
   "execution_count": 27,
   "id": "ce8b7bb7",
   "metadata": {
    "execution": {
     "iopub.execute_input": "2021-12-01T23:18:33.100246Z",
     "iopub.status.busy": "2021-12-01T23:18:33.099584Z",
     "iopub.status.idle": "2021-12-01T23:19:17.417902Z",
     "shell.execute_reply": "2021-12-01T23:19:17.417390Z",
     "shell.execute_reply.started": "2021-12-01T19:52:19.750051Z"
    },
    "papermill": {
     "duration": 44.366387,
     "end_time": "2021-12-01T23:19:17.418053",
     "exception": false,
     "start_time": "2021-12-01T23:18:33.051666",
     "status": "completed"
    },
    "tags": []
   },
   "outputs": [],
   "source": [
    "#Добавим признак среднего количества проданных товаров за 1,2,3,6 и 12 месяцев\n",
    "group = matrix.groupby(['date_block_num', 'item_id']).agg({'item_cnt_month': ['mean']})\n",
    "group.columns = [ 'date_item_avg_item_cnt' ]\n",
    "group.reset_index(inplace=True)\n",
    "\n",
    "matrix = pd.merge(matrix, group, on=['date_block_num','item_id'], how='left')\n",
    "matrix['date_item_avg_item_cnt'] = matrix['date_item_avg_item_cnt'].astype(np.float16)\n",
    "matrix = lag_feature(matrix, [1,2,3,6,12], 'date_item_avg_item_cnt')\n",
    "matrix.drop(['date_item_avg_item_cnt'], axis=1, inplace=True)"
   ]
  },
  {
   "cell_type": "code",
   "execution_count": 28,
   "id": "d7d76471",
   "metadata": {
    "execution": {
     "iopub.execute_input": "2021-12-01T23:19:17.514191Z",
     "iopub.status.busy": "2021-12-01T23:19:17.513106Z",
     "iopub.status.idle": "2021-12-01T23:20:03.806791Z",
     "shell.execute_reply": "2021-12-01T23:20:03.807360Z",
     "shell.execute_reply.started": "2021-12-01T19:53:11.581050Z"
    },
    "papermill": {
     "duration": 46.34259,
     "end_time": "2021-12-01T23:20:03.807568",
     "exception": false,
     "start_time": "2021-12-01T23:19:17.464978",
     "status": "completed"
    },
    "tags": []
   },
   "outputs": [],
   "source": [
    "#Добавим признак среднего количества проданных товаров для каждого магазина в n месяцев\n",
    "group = matrix.groupby(['date_block_num', 'shop_id']).agg({'item_cnt_month': ['mean']})\n",
    "group.columns = [ 'date_shop_avg_item_cnt' ]\n",
    "group.reset_index(inplace=True)\n",
    "\n",
    "matrix = pd.merge(matrix, group, on=['date_block_num','shop_id'], how='left')\n",
    "matrix['date_shop_avg_item_cnt'] = matrix['date_shop_avg_item_cnt'].astype(np.float16)\n",
    "matrix = lag_feature(matrix, [1,2,3,6,12], 'date_shop_avg_item_cnt')\n",
    "matrix.drop(['date_shop_avg_item_cnt'], axis=1, inplace=True)"
   ]
  },
  {
   "cell_type": "code",
   "execution_count": 29,
   "id": "376f3930",
   "metadata": {
    "execution": {
     "iopub.execute_input": "2021-12-01T23:20:03.899032Z",
     "iopub.status.busy": "2021-12-01T23:20:03.898405Z",
     "iopub.status.idle": "2021-12-01T23:20:19.532458Z",
     "shell.execute_reply": "2021-12-01T23:20:19.532973Z",
     "shell.execute_reply.started": "2021-12-01T19:54:05.271885Z"
    },
    "papermill": {
     "duration": 15.680547,
     "end_time": "2021-12-01T23:20:19.533170",
     "exception": false,
     "start_time": "2021-12-01T23:20:03.852623",
     "status": "completed"
    },
    "tags": []
   },
   "outputs": [],
   "source": [
    "#Добавим признак среднего количества проданных товаров для каждого номера категории за 1 месяц\n",
    "group = matrix.groupby(['date_block_num', 'item_category_id']).agg({'item_cnt_month': ['mean']})\n",
    "group.columns = [ 'date_cat_avg_item_cnt' ]\n",
    "group.reset_index(inplace=True)\n",
    "\n",
    "matrix = pd.merge(matrix, group, on=['date_block_num','item_category_id'], how='left')\n",
    "matrix['date_cat_avg_item_cnt'] = matrix['date_cat_avg_item_cnt'].astype(np.float16)\n",
    "matrix = lag_feature(matrix, [1], 'date_cat_avg_item_cnt')\n",
    "matrix.drop(['date_cat_avg_item_cnt'], axis=1, inplace=True)"
   ]
  },
  {
   "cell_type": "code",
   "execution_count": 30,
   "id": "389df71b",
   "metadata": {
    "execution": {
     "iopub.execute_input": "2021-12-01T23:20:19.622692Z",
     "iopub.status.busy": "2021-12-01T23:20:19.621900Z",
     "iopub.status.idle": "2021-12-01T23:20:36.186078Z",
     "shell.execute_reply": "2021-12-01T23:20:36.185502Z",
     "shell.execute_reply.started": "2021-12-01T19:54:21.929709Z"
    },
    "papermill": {
     "duration": 16.610047,
     "end_time": "2021-12-01T23:20:36.186235",
     "exception": false,
     "start_time": "2021-12-01T23:20:19.576188",
     "status": "completed"
    },
    "tags": []
   },
   "outputs": [],
   "source": [
    "#Добавим признак среднего количества проданных товаров от номера категории для каждого магазина за 1 месяц\n",
    "group = matrix.groupby(['date_block_num', 'shop_id', 'type_code']).agg({'item_cnt_month': ['mean']})\n",
    "group.columns = ['date_shop_type_avg_item_cnt']\n",
    "group.reset_index(inplace=True)\n",
    "\n",
    "matrix = pd.merge(matrix, group, on=['date_block_num', 'shop_id', 'type_code'], how='left')\n",
    "matrix['date_shop_type_avg_item_cnt'] = matrix['date_shop_type_avg_item_cnt'].astype(np.float16)\n",
    "matrix = lag_feature(matrix, [1], 'date_shop_type_avg_item_cnt')\n",
    "matrix.drop(['date_shop_type_avg_item_cnt'], axis=1, inplace=True)"
   ]
  },
  {
   "cell_type": "code",
   "execution_count": 31,
   "id": "112603d6",
   "metadata": {
    "execution": {
     "iopub.execute_input": "2021-12-01T23:20:36.280776Z",
     "iopub.status.busy": "2021-12-01T23:20:36.280049Z",
     "iopub.status.idle": "2021-12-01T23:20:52.869497Z",
     "shell.execute_reply": "2021-12-01T23:20:52.868957Z",
     "shell.execute_reply.started": "2021-12-01T19:54:39.595716Z"
    },
    "papermill": {
     "duration": 16.640457,
     "end_time": "2021-12-01T23:20:52.869655",
     "exception": false,
     "start_time": "2021-12-01T23:20:36.229198",
     "status": "completed"
    },
    "tags": []
   },
   "outputs": [],
   "source": [
    "#Добавим признак среднего количества проданных товаров для каждого города за 1 месяц\n",
    "group = matrix.groupby(['date_block_num', 'city_code']).agg({'item_cnt_month': ['mean']})\n",
    "group.columns = [ 'date_city_avg_item_cnt' ]\n",
    "group.reset_index(inplace=True)\n",
    "\n",
    "matrix = pd.merge(matrix, group, on=['date_block_num', 'city_code'], how='left')\n",
    "matrix['date_city_avg_item_cnt'] = matrix['date_city_avg_item_cnt'].astype(np.float16)\n",
    "matrix = lag_feature(matrix, [1], 'date_city_avg_item_cnt')\n",
    "matrix.drop(['date_city_avg_item_cnt'], axis=1, inplace=True)"
   ]
  },
  {
   "cell_type": "code",
   "execution_count": 32,
   "id": "ef598cac",
   "metadata": {
    "execution": {
     "iopub.execute_input": "2021-12-01T23:20:52.959024Z",
     "iopub.status.busy": "2021-12-01T23:20:52.958426Z",
     "iopub.status.idle": "2021-12-01T23:21:09.714852Z",
     "shell.execute_reply": "2021-12-01T23:21:09.715407Z",
     "shell.execute_reply.started": "2021-12-01T19:54:57.034109Z"
    },
    "papermill": {
     "duration": 16.802586,
     "end_time": "2021-12-01T23:21:09.715589",
     "exception": false,
     "start_time": "2021-12-01T23:20:52.913003",
     "status": "completed"
    },
    "tags": []
   },
   "outputs": [],
   "source": [
    "#Добавим признак среднего количества проданных товаров каждого типа категории за 1 месяц\n",
    "group = matrix.groupby(['date_block_num', 'type_code']).agg({'item_cnt_month': ['mean']})\n",
    "group.columns = [ 'date_type_avg_item_cnt' ]\n",
    "group.reset_index(inplace=True)\n",
    "\n",
    "matrix = pd.merge(matrix, group, on=['date_block_num', 'type_code'], how='left')\n",
    "matrix['date_type_avg_item_cnt'] = matrix['date_type_avg_item_cnt'].astype(np.float16)\n",
    "matrix = lag_feature(matrix, [1], 'date_type_avg_item_cnt')\n",
    "matrix.drop(['date_type_avg_item_cnt'], axis=1, inplace=True)"
   ]
  },
  {
   "cell_type": "code",
   "execution_count": 33,
   "id": "c367455d",
   "metadata": {
    "execution": {
     "iopub.execute_input": "2021-12-01T23:21:09.806783Z",
     "iopub.status.busy": "2021-12-01T23:21:09.806132Z",
     "iopub.status.idle": "2021-12-01T23:21:27.084276Z",
     "shell.execute_reply": "2021-12-01T23:21:27.083581Z",
     "shell.execute_reply.started": "2021-12-01T19:55:14.878839Z"
    },
    "papermill": {
     "duration": 17.324175,
     "end_time": "2021-12-01T23:21:27.084437",
     "exception": false,
     "start_time": "2021-12-01T23:21:09.760262",
     "status": "completed"
    },
    "tags": []
   },
   "outputs": [],
   "source": [
    "#Добавим признак среднего количества проданных товаров каждого подтипа категории за 1 месяц\n",
    "group = matrix.groupby(['date_block_num', 'subtype_code']).agg({'item_cnt_month': ['mean']})\n",
    "group.columns = [ 'date_subtype_avg_item_cnt' ]\n",
    "group.reset_index(inplace=True)\n",
    "\n",
    "matrix = pd.merge(matrix, group, on=['date_block_num', 'subtype_code'], how='left')\n",
    "matrix['date_subtype_avg_item_cnt'] = matrix['date_subtype_avg_item_cnt'].astype(np.float16)\n",
    "matrix = lag_feature(matrix, [1], 'date_subtype_avg_item_cnt')\n",
    "matrix.drop(['date_subtype_avg_item_cnt'], axis=1, inplace=True)"
   ]
  },
  {
   "cell_type": "markdown",
   "id": "9f856aea",
   "metadata": {
    "papermill": {
     "duration": 0.043657,
     "end_time": "2021-12-01T23:21:27.174286",
     "exception": false,
     "start_time": "2021-12-01T23:21:27.130629",
     "status": "completed"
    },
    "tags": []
   },
   "source": [
    "Рассчитаем изменения цен за последние 6 месяцев"
   ]
  },
  {
   "cell_type": "code",
   "execution_count": 34,
   "id": "42733ab8",
   "metadata": {
    "execution": {
     "iopub.execute_input": "2021-12-01T23:21:27.263895Z",
     "iopub.status.busy": "2021-12-01T23:21:27.262947Z",
     "iopub.status.idle": "2021-12-01T23:25:19.677153Z",
     "shell.execute_reply": "2021-12-01T23:25:19.676020Z"
    },
    "papermill": {
     "duration": 232.460505,
     "end_time": "2021-12-01T23:25:19.677690",
     "exception": false,
     "start_time": "2021-12-01T23:21:27.217185",
     "status": "completed"
    },
    "tags": []
   },
   "outputs": [],
   "source": [
    "group = train.groupby(['item_id']).agg({'item_price': ['mean']})\n",
    "group.columns = ['item_avg_item_price']\n",
    "group.reset_index(inplace=True)\n",
    "\n",
    "matrix = pd.merge(matrix, group, on=['item_id'], how='left')\n",
    "matrix['item_avg_item_price'] = matrix['item_avg_item_price'].astype(np.float16)\n",
    "\n",
    "group = train.groupby(['date_block_num','item_id']).agg({'item_price': ['mean']})\n",
    "group.columns = ['date_item_avg_item_price']\n",
    "group.reset_index(inplace=True)\n",
    "\n",
    "matrix = pd.merge(matrix, group, on=['date_block_num','item_id'], how='left')\n",
    "matrix['date_item_avg_item_price'] = matrix['date_item_avg_item_price'].astype(np.float16)\n",
    "\n",
    "lags = [1,2,3,4,5,6]\n",
    "matrix = lag_feature(matrix, lags, 'date_item_avg_item_price')\n",
    "\n",
    "for i in lags:\n",
    "    matrix['delta_price_lag_'+str(i)] = \\\n",
    "        (matrix['date_item_avg_item_price_lag_'+str(i)] - matrix['item_avg_item_price']) / matrix['item_avg_item_price']\n",
    "\n",
    "def select_trend(row):\n",
    "    for i in lags:\n",
    "        if row['delta_price_lag_'+str(i)]:\n",
    "            return row['delta_price_lag_'+str(i)]\n",
    "    return 0\n",
    "    \n",
    "matrix['delta_price_lag'] = matrix.apply(select_trend, axis=1)\n",
    "matrix['delta_price_lag'] = matrix['delta_price_lag'].astype(np.float16)\n",
    "matrix['delta_price_lag'].fillna(0, inplace=True)\n",
    "\n",
    "fetures_to_drop = ['item_avg_item_price', 'date_item_avg_item_price']\n",
    "for i in lags:\n",
    "    fetures_to_drop += ['date_item_avg_item_price_lag_'+str(i)]\n",
    "    fetures_to_drop += ['delta_price_lag_'+str(i)]\n",
    "\n",
    "matrix.drop(fetures_to_drop, axis=1, inplace=True)"
   ]
  },
  {
   "cell_type": "markdown",
   "id": "a2ba2474",
   "metadata": {
    "papermill": {
     "duration": 0.0433,
     "end_time": "2021-12-01T23:25:19.770205",
     "exception": false,
     "start_time": "2021-12-01T23:25:19.726905",
     "status": "completed"
    },
    "tags": []
   },
   "source": [
    "Добавим признак динамики выручки магазина в последнем месяце как разность между выручкой магазина и средней выручкой, деленную на среднюю выручку"
   ]
  },
  {
   "cell_type": "code",
   "execution_count": 35,
   "id": "b0155adb",
   "metadata": {
    "execution": {
     "iopub.execute_input": "2021-12-01T23:25:19.860723Z",
     "iopub.status.busy": "2021-12-01T23:25:19.860026Z",
     "iopub.status.idle": "2021-12-01T23:25:42.329636Z",
     "shell.execute_reply": "2021-12-01T23:25:42.328750Z",
     "shell.execute_reply.started": "2021-12-01T20:01:14.428458Z"
    },
    "papermill": {
     "duration": 22.516458,
     "end_time": "2021-12-01T23:25:42.329858",
     "exception": false,
     "start_time": "2021-12-01T23:25:19.813400",
     "status": "completed"
    },
    "tags": []
   },
   "outputs": [],
   "source": [
    "group = train.groupby(['date_block_num','shop_id']).agg({'revenue': ['sum']})\n",
    "group.columns = ['date_shop_revenue']\n",
    "group.reset_index(inplace=True)\n",
    "\n",
    "matrix = pd.merge(matrix, group, on=['date_block_num','shop_id'], how='left')\n",
    "matrix['date_shop_revenue'] = matrix['date_shop_revenue'].astype(np.float32)\n",
    "\n",
    "group = group.groupby(['shop_id']).agg({'date_shop_revenue': ['mean']})\n",
    "group.columns = ['shop_avg_revenue']\n",
    "group.reset_index(inplace=True)\n",
    "\n",
    "matrix = pd.merge(matrix, group, on=['shop_id'], how='left')\n",
    "matrix['shop_avg_revenue'] = matrix['shop_avg_revenue'].astype(np.float32)\n",
    "\n",
    "matrix['delta_revenue'] = (matrix['date_shop_revenue'] - matrix['shop_avg_revenue']) / matrix['shop_avg_revenue']\n",
    "matrix['delta_revenue'] = matrix['delta_revenue'].astype(np.float16)\n",
    "\n",
    "matrix = lag_feature(matrix, [1], 'delta_revenue')\n",
    "\n",
    "matrix.drop(['date_shop_revenue','shop_avg_revenue','delta_revenue'], axis=1, inplace=True)"
   ]
  },
  {
   "cell_type": "markdown",
   "id": "5c2d7952",
   "metadata": {
    "papermill": {
     "duration": 0.044831,
     "end_time": "2021-12-01T23:25:42.419562",
     "exception": false,
     "start_time": "2021-12-01T23:25:42.374731",
     "status": "completed"
    },
    "tags": []
   },
   "source": [
    "Добавим количество месяцев в признаки"
   ]
  },
  {
   "cell_type": "code",
   "execution_count": 36,
   "id": "094e1d9a",
   "metadata": {
    "execution": {
     "iopub.execute_input": "2021-12-01T23:25:42.510369Z",
     "iopub.status.busy": "2021-12-01T23:25:42.509627Z",
     "iopub.status.idle": "2021-12-01T23:25:42.559532Z",
     "shell.execute_reply": "2021-12-01T23:25:42.560063Z",
     "shell.execute_reply.started": "2021-12-01T20:01:36.604954Z"
    },
    "papermill": {
     "duration": 0.096924,
     "end_time": "2021-12-01T23:25:42.560257",
     "exception": false,
     "start_time": "2021-12-01T23:25:42.463333",
     "status": "completed"
    },
    "tags": []
   },
   "outputs": [],
   "source": [
    "matrix['month'] = matrix['date_block_num'] % 12"
   ]
  },
  {
   "cell_type": "markdown",
   "id": "1172c925",
   "metadata": {
    "papermill": {
     "duration": 0.043419,
     "end_time": "2021-12-01T23:25:42.647204",
     "exception": false,
     "start_time": "2021-12-01T23:25:42.603785",
     "status": "completed"
    },
    "tags": []
   },
   "source": [
    "Добавим признак количества месяцев после старта продаж для пары магазин-товар и для номера товара отдельно"
   ]
  },
  {
   "cell_type": "code",
   "execution_count": 37,
   "id": "fb535433",
   "metadata": {
    "execution": {
     "iopub.execute_input": "2021-12-01T23:25:42.738505Z",
     "iopub.status.busy": "2021-12-01T23:25:42.737541Z",
     "iopub.status.idle": "2021-12-01T23:25:44.475257Z",
     "shell.execute_reply": "2021-12-01T23:25:44.474690Z",
     "shell.execute_reply.started": "2021-12-01T20:01:36.662200Z"
    },
    "papermill": {
     "duration": 1.784743,
     "end_time": "2021-12-01T23:25:44.475419",
     "exception": false,
     "start_time": "2021-12-01T23:25:42.690676",
     "status": "completed"
    },
    "tags": []
   },
   "outputs": [],
   "source": [
    "matrix['item_shop_first_sale'] = matrix['date_block_num'] - matrix.groupby(['item_id','shop_id'])['date_block_num'].transform('min')\n",
    "matrix['item_first_sale'] = matrix['date_block_num'] - matrix.groupby('item_id')['date_block_num'].transform('min')"
   ]
  },
  {
   "cell_type": "markdown",
   "id": "4d74402f",
   "metadata": {
    "papermill": {
     "duration": 0.042667,
     "end_time": "2021-12-01T23:25:44.561474",
     "exception": false,
     "start_time": "2021-12-01T23:25:44.518807",
     "status": "completed"
    },
    "tags": []
   },
   "source": [
    "Так как мы уже нашли отдельно все признаки с зависимостями количества месяцев меньше 12, можно удалить эти значения из признака номера месяца"
   ]
  },
  {
   "cell_type": "code",
   "execution_count": 38,
   "id": "ac6494f4",
   "metadata": {
    "execution": {
     "iopub.execute_input": "2021-12-01T23:25:44.655295Z",
     "iopub.status.busy": "2021-12-01T23:25:44.654192Z",
     "iopub.status.idle": "2021-12-01T23:25:45.710596Z",
     "shell.execute_reply": "2021-12-01T23:25:45.710015Z",
     "shell.execute_reply.started": "2021-12-01T20:01:38.528476Z"
    },
    "papermill": {
     "duration": 1.104946,
     "end_time": "2021-12-01T23:25:45.710740",
     "exception": false,
     "start_time": "2021-12-01T23:25:44.605794",
     "status": "completed"
    },
    "tags": []
   },
   "outputs": [],
   "source": [
    "matrix = matrix[matrix.date_block_num > 11]"
   ]
  },
  {
   "cell_type": "markdown",
   "id": "94409b70",
   "metadata": {
    "papermill": {
     "duration": 0.042371,
     "end_time": "2021-12-01T23:25:45.796892",
     "exception": false,
     "start_time": "2021-12-01T23:25:45.754521",
     "status": "completed"
    },
    "tags": []
   },
   "source": [
    "Также заполним все пустые значения в признаках рассчитаных в определенное количество месяцев n"
   ]
  },
  {
   "cell_type": "code",
   "execution_count": 39,
   "id": "08d0b4b8",
   "metadata": {
    "execution": {
     "iopub.execute_input": "2021-12-01T23:25:45.888749Z",
     "iopub.status.busy": "2021-12-01T23:25:45.887759Z",
     "iopub.status.idle": "2021-12-01T23:25:47.506014Z",
     "shell.execute_reply": "2021-12-01T23:25:47.506589Z",
     "shell.execute_reply.started": "2021-12-01T20:01:39.521584Z"
    },
    "papermill": {
     "duration": 1.665754,
     "end_time": "2021-12-01T23:25:47.506791",
     "exception": false,
     "start_time": "2021-12-01T23:25:45.841037",
     "status": "completed"
    },
    "tags": []
   },
   "outputs": [],
   "source": [
    "def fill_na(df):\n",
    "    for col in df.columns:\n",
    "        if ('_lag_' in col) & (df[col].isnull().any()):\n",
    "            if ('item_cnt' in col):\n",
    "                df[col].fillna(0, inplace=True)         \n",
    "    return df\n",
    "\n",
    "matrix = fill_na(matrix)"
   ]
  },
  {
   "cell_type": "markdown",
   "id": "fc4be913",
   "metadata": {
    "papermill": {
     "duration": 0.044331,
     "end_time": "2021-12-01T23:25:47.599593",
     "exception": false,
     "start_time": "2021-12-01T23:25:47.555262",
     "status": "completed"
    },
    "tags": []
   },
   "source": [
    "Занесем все данные в отдельную таблицу pickle для удобства, удалим ненужные данные, файл test оставим для получения выходного файла отправки"
   ]
  },
  {
   "cell_type": "code",
   "execution_count": 40,
   "id": "fd496fa7",
   "metadata": {
    "execution": {
     "iopub.execute_input": "2021-12-01T23:25:47.689230Z",
     "iopub.status.busy": "2021-12-01T23:25:47.688638Z",
     "iopub.status.idle": "2021-12-01T23:25:48.501892Z",
     "shell.execute_reply": "2021-12-01T23:25:48.502484Z",
     "shell.execute_reply.started": "2021-12-01T20:01:41.204818Z"
    },
    "papermill": {
     "duration": 0.860131,
     "end_time": "2021-12-01T23:25:48.502673",
     "exception": false,
     "start_time": "2021-12-01T23:25:47.642542",
     "status": "completed"
    },
    "tags": []
   },
   "outputs": [],
   "source": [
    "matrix.to_pickle('data.pkl')\n",
    "del matrix\n",
    "del group\n",
    "del items\n",
    "del shops\n",
    "del cats\n",
    "del train"
   ]
  },
  {
   "cell_type": "code",
   "execution_count": 41,
   "id": "dc4757b2",
   "metadata": {
    "execution": {
     "iopub.execute_input": "2021-12-01T23:25:48.593707Z",
     "iopub.status.busy": "2021-12-01T23:25:48.593072Z",
     "iopub.status.idle": "2021-12-01T23:25:49.257411Z",
     "shell.execute_reply": "2021-12-01T23:25:49.257883Z",
     "shell.execute_reply.started": "2021-12-01T22:51:38.664043Z"
    },
    "papermill": {
     "duration": 0.711914,
     "end_time": "2021-12-01T23:25:49.258070",
     "exception": false,
     "start_time": "2021-12-01T23:25:48.546156",
     "status": "completed"
    },
    "tags": []
   },
   "outputs": [],
   "source": [
    "data = pd.read_pickle('data.pkl')"
   ]
  },
  {
   "cell_type": "markdown",
   "id": "fcc038da",
   "metadata": {
    "papermill": {
     "duration": 0.043403,
     "end_time": "2021-12-01T23:25:49.345305",
     "exception": false,
     "start_time": "2021-12-01T23:25:49.301902",
     "status": "completed"
    },
    "tags": []
   },
   "source": [
    "Занесем все признаки, которые будут рассматриваться в переменную data"
   ]
  },
  {
   "cell_type": "code",
   "execution_count": 42,
   "id": "0eb232cc",
   "metadata": {
    "execution": {
     "iopub.execute_input": "2021-12-01T23:25:49.501593Z",
     "iopub.status.busy": "2021-12-01T23:25:49.499889Z",
     "iopub.status.idle": "2021-12-01T23:25:49.964187Z",
     "shell.execute_reply": "2021-12-01T23:25:49.963665Z",
     "shell.execute_reply.started": "2021-12-01T22:53:41.565402Z"
    },
    "papermill": {
     "duration": 0.575019,
     "end_time": "2021-12-01T23:25:49.964394",
     "exception": false,
     "start_time": "2021-12-01T23:25:49.389375",
     "status": "completed"
    },
    "tags": []
   },
   "outputs": [],
   "source": [
    "data = data[[ 'date_block_num','shop_id','item_id','item_cnt_month','city_code','item_category_id','type_code','subtype_code','item_cnt_month_lag_1','item_cnt_month_lag_2',\n",
    "    'item_cnt_month_lag_3','item_cnt_month_lag_6','item_cnt_month_lag_12','date_avg_item_cnt_lag_1','date_item_avg_item_cnt_lag_1','date_item_avg_item_cnt_lag_2',\n",
    "    'date_item_avg_item_cnt_lag_3','date_item_avg_item_cnt_lag_6','date_item_avg_item_cnt_lag_12','date_shop_avg_item_cnt_lag_1','date_shop_avg_item_cnt_lag_2',\n",
    "    'date_shop_avg_item_cnt_lag_3','date_shop_avg_item_cnt_lag_6','date_shop_avg_item_cnt_lag_12','date_cat_avg_item_cnt_lag_1','month','item_shop_first_sale',\n",
    "    'item_first_sale','delta_price_lag']]"
   ]
  },
  {
   "cell_type": "markdown",
   "id": "898cc782",
   "metadata": {
    "papermill": {
     "duration": 0.04269,
     "end_time": "2021-12-01T23:25:50.051526",
     "exception": false,
     "start_time": "2021-12-01T23:25:50.008836",
     "status": "completed"
    },
    "tags": []
   },
   "source": [
    "Для проверки тестовой выборки необходимо все 34 месяца, для самого набора данных проверок небходимо 33 месяца, для набора обучающих данных можно использовать от 0,3 величины данных, то есть 12-33 месяцев. Разбиваем данные на обучающий и тестовый набор, также удаляем целевой признак из X_train, X_valid и X_test. Обучающий набор будет использоваться для создания модели XGBoost, а тестовый набор будет использоваться, для того, чтобы сделать прогнозы, по которым мы можем оценить качество модели."
   ]
  },
  {
   "cell_type": "code",
   "execution_count": 43,
   "id": "69f23932",
   "metadata": {
    "execution": {
     "iopub.execute_input": "2021-12-01T23:25:50.142077Z",
     "iopub.status.busy": "2021-12-01T23:25:50.141106Z",
     "iopub.status.idle": "2021-12-01T23:25:52.152793Z",
     "shell.execute_reply": "2021-12-01T23:25:52.153275Z",
     "shell.execute_reply.started": "2021-12-01T22:27:27.168518Z"
    },
    "papermill": {
     "duration": 2.05887,
     "end_time": "2021-12-01T23:25:52.153457",
     "exception": false,
     "start_time": "2021-12-01T23:25:50.094587",
     "status": "completed"
    },
    "tags": []
   },
   "outputs": [],
   "source": [
    "X_train = data[data.date_block_num < 33].drop(['item_cnt_month'], axis=1)\n",
    "Y_train = data[data.date_block_num < 33]['item_cnt_month']\n",
    "X_valid = data[data.date_block_num == 33].drop(['item_cnt_month'], axis=1)\n",
    "Y_valid = data[data.date_block_num == 33]['item_cnt_month']\n",
    "X_test = data[data.date_block_num == 34].drop(['item_cnt_month'], axis=1)"
   ]
  },
  {
   "cell_type": "code",
   "execution_count": 44,
   "id": "33d9cfbb",
   "metadata": {
    "execution": {
     "iopub.execute_input": "2021-12-01T23:25:52.458797Z",
     "iopub.status.busy": "2021-12-01T23:25:52.458168Z",
     "iopub.status.idle": "2021-12-01T23:25:52.460748Z",
     "shell.execute_reply": "2021-12-01T23:25:52.461201Z",
     "shell.execute_reply.started": "2021-12-01T22:27:31.492199Z"
    },
    "papermill": {
     "duration": 0.264726,
     "end_time": "2021-12-01T23:25:52.461425",
     "exception": false,
     "start_time": "2021-12-01T23:25:52.196699",
     "status": "completed"
    },
    "tags": []
   },
   "outputs": [],
   "source": [
    "del data\n",
    "gc.collect();"
   ]
  },
  {
   "cell_type": "markdown",
   "id": "d9b7a574",
   "metadata": {
    "papermill": {
     "duration": 0.042997,
     "end_time": "2021-12-01T23:25:52.547551",
     "exception": false,
     "start_time": "2021-12-01T23:25:52.504554",
     "status": "completed"
    },
    "tags": []
   },
   "source": [
    "С помощью библиотеки xgboost построим модель линейной регрессии, которая использует метрику RMSE (квадратный корень из MSE метрики или среднеквадратичной ошибки), которая берет квадратный корень из усредненного отклонения от истинных значений в квадрате. Построим модель для обучающего и тестового набора и проведем мониторинг тестов эффективности для каждого набора."
   ]
  },
  {
   "cell_type": "code",
   "execution_count": 45,
   "id": "4d25cf0c",
   "metadata": {
    "execution": {
     "iopub.execute_input": "2021-12-01T23:25:52.643082Z",
     "iopub.status.busy": "2021-12-01T23:25:52.639322Z",
     "iopub.status.idle": "2021-12-01T23:29:56.612374Z",
     "shell.execute_reply": "2021-12-01T23:29:56.611744Z",
     "shell.execute_reply.started": "2021-12-01T22:27:34.146053Z"
    },
    "papermill": {
     "duration": 244.01998,
     "end_time": "2021-12-01T23:29:56.612568",
     "exception": false,
     "start_time": "2021-12-01T23:25:52.592588",
     "status": "completed"
    },
    "tags": []
   },
   "outputs": [
    {
     "name": "stdout",
     "output_type": "stream",
     "text": [
      "[0]\tvalidation_0-rmse:1.07970\tvalidation_1-rmse:1.06928\n",
      "[1]\tvalidation_0-rmse:0.98316\tvalidation_1-rmse:0.99354\n",
      "[2]\tvalidation_0-rmse:0.91990\tvalidation_1-rmse:0.95466\n",
      "[3]\tvalidation_0-rmse:0.88438\tvalidation_1-rmse:0.93237\n",
      "[4]\tvalidation_0-rmse:0.86435\tvalidation_1-rmse:0.92308\n",
      "[5]\tvalidation_0-rmse:0.85318\tvalidation_1-rmse:0.91857\n",
      "[6]\tvalidation_0-rmse:0.84658\tvalidation_1-rmse:0.91674\n",
      "[7]\tvalidation_0-rmse:0.83977\tvalidation_1-rmse:0.91820\n",
      "[8]\tvalidation_0-rmse:0.83588\tvalidation_1-rmse:0.91810\n",
      "[9]\tvalidation_0-rmse:0.83337\tvalidation_1-rmse:0.91923\n",
      "[10]\tvalidation_0-rmse:0.83026\tvalidation_1-rmse:0.91927\n",
      "[11]\tvalidation_0-rmse:0.82823\tvalidation_1-rmse:0.91873\n",
      "[12]\tvalidation_0-rmse:0.82637\tvalidation_1-rmse:0.91874\n",
      "[13]\tvalidation_0-rmse:0.82502\tvalidation_1-rmse:0.91815\n",
      "[14]\tvalidation_0-rmse:0.82403\tvalidation_1-rmse:0.91886\n",
      "[15]\tvalidation_0-rmse:0.82276\tvalidation_1-rmse:0.92065\n",
      "[16]\tvalidation_0-rmse:0.82178\tvalidation_1-rmse:0.92038\n"
     ]
    },
    {
     "data": {
      "text/plain": [
       "XGBRegressor(base_score=0.5, booster='gbtree', colsample_bylevel=1,\n",
       "             colsample_bynode=1, colsample_bytree=0.8, enable_categorical=False,\n",
       "             eta=0.3, gamma=0, gpu_id=-1, importance_type=None,\n",
       "             interaction_constraints='', learning_rate=0.300000012,\n",
       "             max_delta_step=0, max_depth=8, min_child_weight=300, missing=nan,\n",
       "             monotone_constraints='()', n_estimators=1000, n_jobs=4,\n",
       "             num_parallel_tree=1, predictor='auto', random_state=42,\n",
       "             reg_alpha=0, reg_lambda=1, scale_pos_weight=1, seed=42,\n",
       "             subsample=0.8, tree_method='approx', validate_parameters=1,\n",
       "             verbosity=None)"
      ]
     },
     "execution_count": 45,
     "metadata": {},
     "output_type": "execute_result"
    }
   ],
   "source": [
    "model = XGBRegressor(\n",
    "    max_depth=8,\n",
    "    n_estimators=1000,\n",
    "    min_child_weight=300, \n",
    "    colsample_bytree=0.8, \n",
    "    subsample=0.8, \n",
    "    eta=0.3,    \n",
    "    seed=42)\n",
    "\n",
    "model.fit(\n",
    "    X_train, \n",
    "    Y_train, \n",
    "    eval_metric=\"rmse\", \n",
    "    eval_set=[(X_train, Y_train), (X_valid, Y_valid)], \n",
    "    verbose=True, \n",
    "    early_stopping_rounds = 10)"
   ]
  },
  {
   "cell_type": "markdown",
   "id": "c04475fc",
   "metadata": {
    "papermill": {
     "duration": 0.046836,
     "end_time": "2021-12-01T23:29:56.708044",
     "exception": false,
     "start_time": "2021-12-01T23:29:56.661208",
     "status": "completed"
    },
    "tags": []
   },
   "source": [
    "Делаем прогноз на основе модели для заданного диапазона из условия."
   ]
  },
  {
   "cell_type": "code",
   "execution_count": 46,
   "id": "18e5c1f8",
   "metadata": {
    "execution": {
     "iopub.execute_input": "2021-12-01T23:29:56.810299Z",
     "iopub.status.busy": "2021-12-01T23:29:56.809263Z",
     "iopub.status.idle": "2021-12-01T23:29:57.030394Z",
     "shell.execute_reply": "2021-12-01T23:29:57.031246Z",
     "shell.execute_reply.started": "2021-12-01T22:40:45.791969Z"
    },
    "papermill": {
     "duration": 0.275102,
     "end_time": "2021-12-01T23:29:57.031505",
     "exception": false,
     "start_time": "2021-12-01T23:29:56.756403",
     "status": "completed"
    },
    "tags": []
   },
   "outputs": [],
   "source": [
    "Y_pred = model.predict(X_valid).clip(0, 20)\n",
    "Y_test = model.predict(X_test).clip(0, 20)\n",
    "\n",
    "#Создаем таблицу для сохранения в виде выходного файла данных\n",
    "submission = pd.DataFrame({\n",
    "    \"ID\": test.index, \n",
    "    \"item_cnt_month\": Y_test\n",
    "})"
   ]
  },
  {
   "cell_type": "markdown",
   "id": "189c79f7",
   "metadata": {
    "papermill": {
     "duration": 0.049136,
     "end_time": "2021-12-01T23:29:57.130712",
     "exception": false,
     "start_time": "2021-12-01T23:29:57.081576",
     "status": "completed"
    },
    "tags": []
   },
   "source": [
    "На основе модели построим зависимость важности признаков (каждый признак отображен с его весом в модели)"
   ]
  },
  {
   "cell_type": "code",
   "execution_count": 47,
   "id": "9acb5f13",
   "metadata": {
    "execution": {
     "iopub.execute_input": "2021-12-01T23:29:57.255023Z",
     "iopub.status.busy": "2021-12-01T23:29:57.254388Z",
     "iopub.status.idle": "2021-12-01T23:29:57.990335Z",
     "shell.execute_reply": "2021-12-01T23:29:57.990842Z",
     "shell.execute_reply.started": "2021-12-01T22:40:52.477653Z"
    },
    "papermill": {
     "duration": 0.811515,
     "end_time": "2021-12-01T23:29:57.991017",
     "exception": false,
     "start_time": "2021-12-01T23:29:57.179502",
     "status": "completed"
    },
    "tags": []
   },
   "outputs": [
    {
     "data": {
      "text/plain": [
       "<AxesSubplot:title={'center':'Feature importance'}, xlabel='F score', ylabel='Features'>"
      ]
     },
     "execution_count": 47,
     "metadata": {},
     "output_type": "execute_result"
    },
    {
     "data": {
      "image/png": "[encoded data removed]",
      "text/plain": [
       "<Figure size 720x1008 with 1 Axes>"
      ]
     },
     "metadata": {
      "needs_background": "light"
     },
     "output_type": "display_data"
    }
   ],
   "source": [
    "plot_features(model, (10,14))"
   ]
  },
  {
   "cell_type": "markdown",
   "id": "76812ec1",
   "metadata": {
    "papermill": {
     "duration": 0.052214,
     "end_time": "2021-12-01T23:29:58.096395",
     "exception": false,
     "start_time": "2021-12-01T23:29:58.044181",
     "status": "completed"
    },
    "tags": []
   },
   "source": [
    "Отсюда основными весовыми признаками являются: номер категории товара, название подтипа товара, месяц, номер товара, количество товаров проданных за 1 месяц и среднее количество проданных товаров за 1 месяц."
   ]
  },
  {
   "cell_type": "markdown",
   "id": "70a21228",
   "metadata": {
    "papermill": {
     "duration": 0.053812,
     "end_time": "2021-12-01T23:29:58.203899",
     "exception": false,
     "start_time": "2021-12-01T23:29:58.150087",
     "status": "completed"
    },
    "tags": []
   },
   "source": [
    "Сохраняем выходной файл прогноза в формате csv"
   ]
  },
  {
   "cell_type": "code",
   "execution_count": 48,
   "id": "9764fb6d",
   "metadata": {
    "execution": {
     "iopub.execute_input": "2021-12-01T23:29:58.322673Z",
     "iopub.status.busy": "2021-12-01T23:29:58.321721Z",
     "iopub.status.idle": "2021-12-01T23:29:58.763992Z",
     "shell.execute_reply": "2021-12-01T23:29:58.763244Z",
     "shell.execute_reply.started": "2021-12-01T20:19:35.684523Z"
    },
    "papermill": {
     "duration": 0.50638,
     "end_time": "2021-12-01T23:29:58.764174",
     "exception": false,
     "start_time": "2021-12-01T23:29:58.257794",
     "status": "completed"
    },
    "tags": []
   },
   "outputs": [],
   "source": [
    "submission.to_csv('xgb_submission.csv', index=False)\n",
    "pickle.dump(Y_pred, open('xgb_train.pickle', 'wb'))\n",
    "pickle.dump(Y_test, open('xgb_test.pickle', 'wb'))"
   ]
  }
 ],
 "metadata": {
  "kernelspec": {
   "display_name": "Python 3",
   "language": "python",
   "name": "python3"
  },
  "language_info": {
   "codemirror_mode": {
    "name": "ipython",
    "version": 3
   },
   "file_extension": ".py",
   "mimetype": "text/x-python",
   "name": "python",
   "nbconvert_exporter": "python",
   "pygments_lexer": "ipython3",
   "version": "3.7.10"
  },
  "papermill": {
   "default_parameters": {},
   "duration": 778.330487,
   "end_time": "2021-12-01T23:29:59.732554",
   "environment_variables": {},
   "exception": null,
   "input_path": "__notebook__.ipynb",
   "output_path": "__notebook__.ipynb",
   "parameters": {},
   "start_time": "2021-12-01T23:17:01.402067",
   "version": "2.3.3"
  }
 },
 "nbformat": 4,
 "nbformat_minor": 5
}
